{
 "cells": [
  {
   "cell_type": "markdown",
   "metadata": {},
   "source": [
    "### Demo na konferencję EuroHPC (case z QAOA) - draft\n",
    "DO ZMIANY: opis \n",
    "We will focus on the following workflow instance (for now, in the simplified problem, we will not use the Workflow or WorkflowSchedulingProblem classes, because we want to test the Unbalanced Penalization method https://arxiv.org/pdf/2211.13914.pdf), which is not included in QHyper. But I will leave it here just for reference (especially for observation of what data is in the time and cost matrices)."
   ]
  },
  {
   "cell_type": "code",
   "execution_count": 1,
   "id": "5d1c465f",
   "metadata": {},
   "outputs": [],
   "source": [
    "import sys\n",
    "sys.path.append(\"..\")\n",
    "from QHyper.problems.workflow_scheduling import (\n",
    "    Workflow,\n",
    "    WorkflowSchedulingProblem,\n",
    ")\n",
    "\n",
    "tasks_file =  \"workflows_data/workflows/3_tasks_3_machines_1_path.json\"\n",
    "machines_file = \"workflows_data/machines/machines_for_3_tasks_3_machines_1_path.json\"\n",
    "deadline = 13\n",
    "\n",
    "workflow = Workflow(tasks_file, machines_file, deadline)\n",
    "wsp = WorkflowSchedulingProblem(workflow)\n"
   ]
  },
  {
   "cell_type": "code",
   "execution_count": 2,
   "id": "dc65723e",
   "metadata": {},
   "outputs": [
    {
     "data": {
      "text/html": [
       "<div>\n",
       "<style scoped>\n",
       "    .dataframe tbody tr th:only-of-type {\n",
       "        vertical-align: middle;\n",
       "    }\n",
       "\n",
       "    .dataframe tbody tr th {\n",
       "        vertical-align: top;\n",
       "    }\n",
       "\n",
       "    .dataframe thead th {\n",
       "        text-align: right;\n",
       "    }\n",
       "</style>\n",
       "<table border=\"1\" class=\"dataframe\">\n",
       "  <thead>\n",
       "    <tr style=\"text-align: right;\">\n",
       "      <th></th>\n",
       "      <th>MachineA</th>\n",
       "      <th>MachineB</th>\n",
       "      <th>MachineC</th>\n",
       "    </tr>\n",
       "  </thead>\n",
       "  <tbody>\n",
       "    <tr>\n",
       "      <th>task1</th>\n",
       "      <td>6.0</td>\n",
       "      <td>8.0</td>\n",
       "      <td>8.0</td>\n",
       "    </tr>\n",
       "    <tr>\n",
       "      <th>task2</th>\n",
       "      <td>3.0</td>\n",
       "      <td>4.0</td>\n",
       "      <td>4.0</td>\n",
       "    </tr>\n",
       "    <tr>\n",
       "      <th>task3</th>\n",
       "      <td>12.0</td>\n",
       "      <td>16.0</td>\n",
       "      <td>16.0</td>\n",
       "    </tr>\n",
       "  </tbody>\n",
       "</table>\n",
       "</div>"
      ],
      "text/plain": [
       "       MachineA  MachineB  MachineC\n",
       "task1       6.0       8.0       8.0\n",
       "task2       3.0       4.0       4.0\n",
       "task3      12.0      16.0      16.0"
      ]
     },
     "execution_count": 2,
     "metadata": {},
     "output_type": "execute_result"
    }
   ],
   "source": [
    "wsp.workflow.cost_matrix\n"
   ]
  },
  {
   "cell_type": "code",
   "execution_count": 3,
   "id": "2ed4a92c",
   "metadata": {},
   "outputs": [
    {
     "data": {
      "text/html": [
       "<div>\n",
       "<style scoped>\n",
       "    .dataframe tbody tr th:only-of-type {\n",
       "        vertical-align: middle;\n",
       "    }\n",
       "\n",
       "    .dataframe tbody tr th {\n",
       "        vertical-align: top;\n",
       "    }\n",
       "\n",
       "    .dataframe thead th {\n",
       "        text-align: right;\n",
       "    }\n",
       "</style>\n",
       "<table border=\"1\" class=\"dataframe\">\n",
       "  <thead>\n",
       "    <tr style=\"text-align: right;\">\n",
       "      <th></th>\n",
       "      <th>MachineA</th>\n",
       "      <th>MachineB</th>\n",
       "      <th>MachineC</th>\n",
       "    </tr>\n",
       "  </thead>\n",
       "  <tbody>\n",
       "    <tr>\n",
       "      <th>task1</th>\n",
       "      <td>6.0</td>\n",
       "      <td>2.0</td>\n",
       "      <td>4.0</td>\n",
       "    </tr>\n",
       "    <tr>\n",
       "      <th>task2</th>\n",
       "      <td>3.0</td>\n",
       "      <td>1.0</td>\n",
       "      <td>2.0</td>\n",
       "    </tr>\n",
       "    <tr>\n",
       "      <th>task3</th>\n",
       "      <td>12.0</td>\n",
       "      <td>4.0</td>\n",
       "      <td>8.0</td>\n",
       "    </tr>\n",
       "  </tbody>\n",
       "</table>\n",
       "</div>"
      ],
      "text/plain": [
       "       MachineA  MachineB  MachineC\n",
       "task1       6.0       2.0       4.0\n",
       "task2       3.0       1.0       2.0\n",
       "task3      12.0       4.0       8.0"
      ]
     },
     "execution_count": 3,
     "metadata": {},
     "output_type": "execute_result"
    }
   ],
   "source": [
    "wsp.workflow.time_matrix\n"
   ]
  },
  {
   "cell_type": "markdown",
   "id": "627053d2",
   "metadata": {},
   "source": [
    "Below is the list of the hyperparameters (weights) that can be changed.  I assumed that the weights hyper_b, hyper_c, hyper_d can be the same, since the constraint they represent has a very similar form."
   ]
  },
  {
   "cell_type": "code",
   "execution_count": 4,
   "id": "3ef3d11e-e0d7-4c76-95da-bfda23fa4561",
   "metadata": {},
   "outputs": [],
   "source": [
    "machine_weight=20\n",
    "hyper_params = {'cost_function_weight': 1, # weight for: cost function\n",
    "                'encoding_machine_1_weight': machine_weight, # weight for: (x[0] + x[1] + x[2] - 1)**2\n",
    "                'encoding_machine_2_weight': machine_weight, # weight for: (x[3] + x[4] + x[5] - 1)**2\n",
    "                'encoding_machine_3_weight': machine_weight, # weight for: (x[6] + x[7] + x[8] - 1)**2\n",
    "                'deadline_linear_form_weight': 1, # weight for: deadline constraint - linear form (-- this is from the unbalanced penalization approach)\n",
    "                'deadline_quadratic_form_weight': 2} # weight for: deadline constraint - quadratic form\n"
   ]
  },
  {
   "cell_type": "markdown",
   "id": "8a03a332-113a-433f-ad5d-24e51344a1ac",
   "metadata": {},
   "source": [
    " DO ZMIANY: generacja tych wzorów z WFCommons"
   ]
  },
  {
   "cell_type": "code",
   "execution_count": 5,
   "id": "d68cd9ae",
   "metadata": {},
   "outputs": [],
   "source": [
    "import numpy as np\n",
    "import sympy\n",
    "from sympy.core.expr import Expr\n",
    "\n",
    "from QHyper.problems.base import Problem\n",
    "from QHyper.util import Expression\n",
    "\n",
    "\n",
    "class SimpleWorkflowProblem(Problem):\n",
    "\n",
    "\n",
    "    def __init__(self) -> None:\n",
    "        num_of_qubits = wsp.workflow.cost_matrix.shape[0] * wsp.workflow.cost_matrix.shape[1]\n",
    "        self.variables = sympy.symbols(' '.join([f'x{i}' for i in range(num_of_qubits)]))\n",
    "        self._set_objective_function()\n",
    "        self._set_constraints()\n",
    "\n",
    "    def _set_objective_function(self) -> None:\n",
    "        C_f = 6.0*self.variables[0] + 8.0*self.variables[1] + 8.0*self.variables[2] + 3.0*self.variables[3] + 4.0*self.variables[4] + 4.0*self.variables[5] + 12.0*self.variables[6] + 16.0*self.variables[7] + 16.0*self.variables[8]\n",
    "\n",
    "\n",
    "        K_f4_linear = deadline - (6*self.variables[0] + 2*self.variables[1] + 4*self.variables[2] + 3*self.variables[3] +\n",
    "                            1*self.variables[4] + 2*self.variables[5] + 12*self.variables[6] + 4*self.variables[7] + 8*self.variables[8])\n",
    "\n",
    "        self.objective_function = Expression(hyper_params['cost_function_weight'] * C_f + hyper_params['deadline_linear_form_weight'] *  K_f4_linear)\n",
    "\n",
    "    def _set_constraints(self):\n",
    "        K_f1 = self.variables[0] + self.variables[1] + self.variables[2] - 1\n",
    "        K_f2 = self.variables[3] + self.variables[4] + self.variables[5] - 1\n",
    "        K_f3 = self.variables[6] + self.variables[7] + self.variables[8] - 1\n",
    "\n",
    "        K_f4_squared = deadline - (6*self.variables[0] + 2*self.variables[1] + 4*self.variables[2] + 3*self.variables[3] +\n",
    "                            1*self.variables[4] + 2*self.variables[5] + 12*self.variables[6] + 4*self.variables[7] + 8*self.variables[8])\n",
    "\n",
    "\n",
    "        self.constraints = [Expression(K_f1), Expression(K_f2), Expression(K_f3), Expression(K_f4_squared)]\n",
    "\n",
    "    def get_score(self, result, penalty=0):\n",
    "\n",
    "        x = [int(val) for val in result]\n",
    "\n",
    "        if (x[0] + x[1] + x[2] == 1 and\n",
    "            x[3] + x[4] + x[5] == 1 and\n",
    "            x[6] + x[7] + x[8] == 1 and\n",
    "            6*x[0] + 2*x[1] + 4*x[2] + 3*x[3] + 1*x[4] + 2*x[5] + 12*x[6] + 4*x[7] + 8*x[8] <= 13):\n",
    "\n",
    "            return 6.0*x[0] + 8.0*x[1] + 8.0*x[2] + 3.0*x[3] + 4.0*x[4] + 4.0*x[5] + 12.0*x[6] + 16.0*x[7] + 16.0*x[8]\n",
    "\n",
    "        return penalty\n"
   ]
  },
  {
   "cell_type": "code",
   "execution_count": 6,
   "id": "998e39fa",
   "metadata": {},
   "outputs": [],
   "source": [
    "problem = SimpleWorkflowProblem()\n"
   ]
  },
  {
   "cell_type": "code",
   "execution_count": 7,
   "id": "b914cd22",
   "metadata": {},
   "outputs": [
    {
     "name": "stdout",
     "output_type": "stream",
     "text": [
      "Variables used to describe objective function and constraints: (x0, x1, x2, x3, x4, x5, x6, x7, x8)\n",
      "Objective function: {('x1',): 6.0, ('x2',): 4.0, ('x4',): 3.0, ('x5',): 2.0, ('x7',): 12.0, ('x8',): 8.0, (): 13}\n",
      "Constraints (RHS == 0):\n",
      "    {('x0',): 1, ('x1',): 1, ('x2',): 1, (): -1}\n",
      "    {('x3',): 1, ('x4',): 1, ('x5',): 1, (): -1}\n",
      "    {('x6',): 1, ('x7',): 1, ('x8',): 1, (): -1}\n",
      "    {('x0',): -6, ('x1',): -2, ('x2',): -4, ('x3',): -3, ('x4',): -1, ('x5',): -2, ('x6',): -12, ('x7',): -4, ('x8',): -8, (): 13}\n"
     ]
    }
   ],
   "source": [
    "print(f\"Variables used to describe objective function\"\n",
    "      f\" and constraints: {problem.variables}\")\n",
    "print(f\"Objective function: {problem.objective_function}\")\n",
    "print(\"Constraints (RHS == 0):\")\n",
    "for constraint in problem.constraints:\n",
    "    print(f\"    {constraint}\")\n"
   ]
  },
  {
   "cell_type": "markdown",
   "id": "9852e256",
   "metadata": {},
   "source": [
    "# 3 Using QHyper"
   ]
  },
  {
   "cell_type": "code",
   "execution_count": 8,
   "id": "f9d96cf4",
   "metadata": {},
   "outputs": [],
   "source": [
    "params_config = {\n",
    "        'angles': [[0.1e-13]*5, [np.pi/2]*5], # QAOA angles - first we have gammas (for the cost Hamiltonian), then we have betas (for the mixer)\n",
    "        'hyper_args': [1, # do not change - this should be the weight for the 'cost function' but since in our cost function\n",
    "                          # we also have the deadline in the linear form (as of now it needs to be implemented this way due to QHyper limitations)\n",
    "                          # the weight for the actual cost function is set there. THIS WILL NOT WORK WELL WITH HYPER-QAOA.\n",
    "\n",
    "                       hyper_params['encoding_machine_1_weight'],\n",
    "                       hyper_params['encoding_machine_2_weight'],\n",
    "                       hyper_params['encoding_machine_3_weight'],\n",
    "                       hyper_params['deadline_quadratic_form_weight']],\n",
    "    }\n"
   ]
  },
  {
   "cell_type": "code",
   "execution_count": 13,
   "id": "8dbdf752",
   "metadata": {},
   "outputs": [],
   "source": [
    "# Create a VQA instance with QAOA as PQC and scipy optimizer\n",
    "# This can be done in two various way\n",
    "# 1. Providing dict with config (usefull to save experiment confing in e.g JSON)\n",
    "# DO ZMIANY sqaoa -> qaoa (backend= \"default.qubit\") oraz QNG optimiser (krok 0.00045) 50 krokow\n",
    "from QHyper.solvers import VQA\n",
    "solver_config = {\n",
    "    \"pqc\": {\n",
    "        \"type\": \"qml_qaoa\",\n",
    "        \"layers\": 5,\n",
    "        \"optimizer\": \"qng\",\n",
    "        \"optimizer_args\": {\n",
    "            \"stepsize\": 0.00045,\n",
    "            \"steps\": 50\n",
    "        },\n",
    "        \"backend\": \"default.qubit\",\n",
    "    },\n",
    "    \"params_inits\": params_config\n",
    "}\n",
    "vqa = VQA.from_config(problem, config=solver_config)\n"
   ]
  },
  {
   "cell_type": "code",
   "execution_count": null,
   "id": "43292488",
   "metadata": {
    "scrolled": true
   },
   "outputs": [],
   "source": [
    "# DO ZMIANY vqa.solve()\n",
    "# best_params, history = vqa.evaluate(params_config)\n",
    "\n",
    "solver_results = vqa.solve()\n"
   ]
  },
  {
   "cell_type": "code",
   "execution_count": 15,
   "metadata": {},
   "outputs": [
    {
     "name": "stdout",
     "output_type": "stream",
     "text": [
      "Solver results:\n",
      "Probabilities: {'000000000': 4.994011455154792e-05, '000000001': 0.0042715872376956725, '000000010': 0.0011856323382887215, '000000011': 0.004731659223876148, '000000100': 0.007377769838745658, '000000101': 0.0012326665430976043, '000000110': 0.004358251141870856, '000000111': 0.00013012535702445582, '000001000': 0.000166490132333923, '000001001': 0.006997818548520957, '000001010': 0.0036611743904676453, '000001011': 0.0046574708254099794, '000001100': 0.008644161857302534, '000001101': 0.00020838365199507016, '000001110': 0.0029236913549746998, '000001111': 0.0002635608631202231, '000010000': 1.7374440044872092e-05, '000010001': 0.006222189477542033, '000010010': 0.002534220642792671, '000010011': 0.005200561682469866, '000010100': 0.008881530888688146, '000010101': 0.0006363327304144674, '000010110': 0.00393502532572406, '000010111': 0.00022060130095104857, '000011000': 0.0005487443244606701, '000011001': 0.0062328285134145645, '000011010': 0.004201639316648567, '000011011': 0.0032356882562562103, '000011100': 0.006472087834566825, '000011101': 1.8301684938483897e-05, '000011110': 0.0015859451841799353, '000011111': 0.00018725302910084355, '000100000': 0.0005559128882902275, '000100001': 0.007471985702573396, '000100010': 0.004818326424039103, '000100011': 0.004013252543936267, '000100100': 0.008041869862529727, '000100101': 2.337402041413391e-05, '000100110': 0.0020322147454559496, '000100111': 0.00026908809186738627, '000101000': 0.001976651751349002, '000101001': 0.00599021222505933, '000101010': 0.0058029749898031195, '000101011': 0.002028352581800786, '000101100': 0.004596724069980216, '000101101': 6.736688494852393e-05, '000101110': 0.0005416738754831442, '000101111': 0.00010402332758467235, '000110000': 0.0011428602339358894, '000110001': 0.00629334306682557, '000110010': 0.005099045435539704, '000110011': 0.0026429989158759408, '000110100': 0.005657578619528495, '000110101': 1.0655744553239397e-05, '000110110': 0.0009884765227633299, '000110111': 0.00015670433162072906, '000111000': 0.0018868635285636426, '000111001': 0.0031296076183263775, '000111010': 0.0037431627592840596, '000111011': 0.0008217744986023602, '000111100': 0.0019200630323715202, '000111101': 6.922408769174804e-05, '000111110': 0.00012924630928794735, '000111111': 2.4651473098199706e-05, '001000000': 0.001229338912387226, '001000001': 0.007078712575730393, '001000010': 0.005579792086579102, '001000011': 0.0030546316868859916, '001000100': 0.006541355224558448, '001000101': 1.7038686001094138e-05, '001000110': 0.0011763862144862905, '001000111': 0.0002075678945578109, '001001000': 0.004008704290459434, '001001001': 0.007098774273093252, '001001010': 0.008140608772751814, '001001011': 0.001955915072741215, '001001100': 0.004630166098884531, '001001101': 0.00016733636026331218, '001001110': 0.0003473616462245979, '001001111': 8.236418365186272e-05, '001010000': 0.00272476996031843, '001010001': 0.007850018475369924, '001010010': 0.007632034145861201, '001010011': 0.0026752605621374716, '001010100': 0.006050612123094208, '001010101': 8.85877459038134e-05, '001010110': 0.0007281673852201019, '001010111': 0.00014383862994325807, '001011000': 0.004666346370426155, '001011001': 0.0049880083319621205, '001011010': 0.006908876496093172, '001011011': 0.0010834145450368865, '001011100': 0.002615977031765341, '001011101': 0.0001562513936618158, '001011110': 0.00010230090398526026, '001011111': 3.0147285562704825e-05, '001100000': 0.005340016549683328, '001100001': 0.006183567473414371, '001100010': 0.008287392939108677, '001100011': 0.0013721897952799179, '001100100': 0.0033453922943203567, '001100101': 0.00022520903725465575, '001100110': 0.00012899995320202675, '001100111': 3.975623332021735e-05, '001101000': 0.006540576724367902, '001101001': 0.0032138680263170093, '001101010': 0.00613293821270635, '001101011': 0.00043951467544366477, '001101100': 0.0010201410070589843, '001101101': 0.00013140433260616416, '001101110': 4.59019821286126e-06, '001101111': 1.6800737545657545e-05, '001110000': 0.005709962982957272, '001110001': 0.004126251050812216, '001110010': 0.006687318527786406, '001110011': 0.0007130932673087378, '001110100': 0.0017223209022327437, '001110101': 0.00016296213875162266, '001110110': 2.3261864367090283e-05, '001110111': 1.6390948629222627e-05, '001111000': 0.004242249160792785, '001111001': 0.0013247134216255831, '001111010': 0.003107405125168923, '001111011': 0.0001412643824877961, '001111100': 0.0002777276911957714, '001111101': 4.1481195262285526e-05, '001111110': 8.832964654673401e-06, '001111111': 1.387035963100813e-05, '010000000': 0.00020842103538669824, '010000001': 0.006667706355683084, '010000010': 0.0036128291592607696, '010000011': 0.004361446330052703, '010000100': 0.008082310571137058, '010000101': 0.00019804508176217794, '010000110': 0.0027098523615530796, '010000111': 0.00023072021319287455, '010001000': 0.0017232983093149181, '010001001': 0.008237006313277954, '010001010': 0.00688487725381152, '010001011': 0.0034263547937498674, '010001100': 0.007309764924014944, '010001101': 5.580152641896035e-06, '010001110': 0.0013075442349158553, '010001111': 0.0001917614911685511, '010010000': 0.0008705115299052337, '010010001': 0.008290742079105592, '010010010': 0.005767776338363022, '010010011': 0.004249326721932962, '010010100': 0.008478406562642416, '010010101': 3.0257389848383673e-05, '010010110': 0.002083568945945191, '010010111': 0.0002324238473904347, '010011000': 0.002562451575159127, '010011001': 0.006432880542631457, '010011010': 0.006581117916307132, '010011011': 0.002121775499805817, '010011100': 0.00476922451725578, '010011101': 4.6455300258046516e-05, '010011110': 0.0005758867952133282, '010011111': 9.800018039355205e-05, '010100000': 0.002830976320747183, '010100001': 0.007852194565840197, '010100010': 0.007741936971148684, '010100011': 0.002662618474596342, '010100100': 0.00601813791848875, '010100101': 6.842363590361382e-05, '010100110': 0.0007408940400978058, '010100111': 0.00013957027737496178, '010101000': 0.004820789486176937, '010101001': 0.004986109005464435, '010101010': 0.007009787145903891, '010101011': 0.0010748730173537721, '010101100': 0.0025871879775314238, '010101101': 0.0001417502430179694, '010101110': 0.00010479515932502419, '010101111': 3.0808259507900934e-05, '010110000': 0.0036681517811323113, '010110001': 0.005829765939938498, '010110010': 0.006982962435746684, '010110011': 0.0015589532684363609, '010110100': 0.003659553673678941, '010110101': 0.00010915708190278566, '010110110': 0.0002743083557726283, '010110111': 5.864912314923392e-05, '010111000': 0.0036075604386969218, '010111001': 0.002303357859146869, '010111010': 0.003947401939139796, '010111011': 0.00038616394436099746, '010111100': 0.000904917644461739, '010111101': 7.098924037033793e-05, '010111110': 1.55434886772057e-05, '010111111': 9.528689685568038e-06, '011000000': 0.0028201652682855742, '011000001': 0.004785819134775994, '011000010': 0.005602571886510422, '011000011': 0.001283353412081033, '011000100': 0.0030196601814057827, '011000101': 0.00011642065919452012, '011000110': 0.00020993696121613311, '011000111': 4.5301575646879616e-05, '011001000': 0.005563811093382044, '011001001': 0.003820946229887511, '011001010': 0.006327422295120001, '011001011': 0.0006500548851973032, '011001100': 0.0015573533084789202, '011001101': 0.0001390992888834357, '011001110': 2.1670076338223727e-05, '011001111': 1.617180402616096e-05, '011010000': 0.004602482396904131, '011010001': 0.004698910725920647, '011010010': 0.006643082003545626, '011010011': 0.0009970440087286605, '011010100': 0.0023891400885981025, '011010101': 0.00014410113122778135, '011010110': 8.683323358833445e-05, '011010111': 2.4962016098716865e-05, '011011000': 0.005370117198096872, '011011001': 0.002388798397506433, '011011010': 0.00475664107274958, '011011011': 0.0003197697953755964, '011011100': 0.0007258756377602831, '011011101': 8.244903698441909e-05, '011011110': 5.652886833743426e-06, '011011111': 1.4213521720013983e-05, '011100000': 0.006308923878783023, '011100001': 0.002997215190175063, '011100010': 0.005803312170500385, '011100011': 0.00040470786314131317, '011100100': 0.0009328005937011704, '011100101': 0.00011691521863193148, '011100110': 4.62971981313484e-06, '011100111': 1.7266026660944157e-05, '011101000': 0.005769049769711727, '011101001': 0.0012400892903935417, '011101010': 0.003459150474997052, '011101011': 0.0001063480493471789, '011101100': 0.0001683766680606825, '011101101': 3.568204744973956e-05, '011101110': 2.065359188977998e-05, '011101111': 1.969672880285951e-05, '011110000': 0.005727881193883249, '011110001': 0.0017747844899316286, '011110010': 0.004165563283618766, '011110011': 0.00018790073980672013, '011110100': 0.0003784797481067626, '011110101': 5.804238922672455e-05, '011110110': 1.095279161922044e-05, '011110111': 1.8436837155393565e-05, '011111000': 0.0032545241229928372, '011111001': 0.00045217893684735346, '011111010': 0.0015637233413588185, '011111011': 3.517071568440679e-05, '011111100': 3.1736375760654724e-05, '011111101': 1.1190869067209146e-05, '011111110': 1.6179147426573162e-05, '011111111': 9.762287141794358e-06, '100000000': 0.0029545213378757897, '100000001': 0.006464885346672623, '100000010': 0.006826126606139151, '100000011': 0.0018681560342020801, '100000100': 0.004441089703829696, '100000101': 0.0003445230698335802, '100000110': 0.000293088029712845, '100000111': 0.00010888395422455008, '100001000': 0.0063339409811586506, '100001001': 0.005367195584069048, '100001010': 0.008126112141977443, '100001011': 0.0009498022231959778, '100001100': 0.002313940413148728, '100001101': 0.00038008743162116436, '100001110': 1.4543729903565163e-05, '100001111': 7.814228839057599e-06, '100010000': 0.005047848168872505, '100010001': 0.0064779309997242, '100010010': 0.008321270971669688, '100010011': 0.001457420046222032, '100010100': 0.0035418960932117115, '100010101': 0.0004079970719616156, '100010110': 0.00010417678591406415, '100010111': 3.4711453678868446e-05, '100011000': 0.006328656057060874, '100011001': 0.0034033697921258834, '100011010': 0.006252164554611695, '100011011': 0.000459622410877751, '100011100': 0.0010615367039056875, '100011101': 0.00020967385359803748, '100011110': 1.3581854071107507e-06, '100011111': 1.475081122757629e-05, '100100000': 0.00742908623072009, '100100001': 0.004282144963261003, '100100010': 0.007627152326442023, '100100011': 0.0005853911910778047, '100100100': 0.0013724636306518313, '100100101': 0.000308840138679225, '100100110': 1.6389342009980433e-06, '100100111': 1.6934812232498603e-05, '100101000': 0.007209279681484449, '100101001': 0.0018034484715185614, '100101010': 0.0047322716318644485, '100101011': 0.00014070777288383468, '100101100': 0.00021651114226076617, '100101101': 6.311903296741678e-05, '100101110': 3.701858558040298e-05, '100101111': 5.463666897080691e-05, '100110000': 0.006959150712703791, '100110001': 0.002561798132236631, '100110010': 0.005591190183916006, '100110011': 0.0002618820744275263, '100110100': 0.0005331815935253322, '100110101': 0.00013337238896462747, '100110110': 1.8258540695422436e-05, '100110111': 3.823911342219352e-05, '100111000': 0.004173286363509934, '100111001': 0.0006534609176081116, '100111010': 0.002172777725130623, '100111011': 4.3469689751416085e-05, '100111100': 2.897784261994554e-05, '100111101': 9.463910002105887e-06, '100111110': 2.592010290090172e-05, '100111111': 3.250391572172824e-05, '101000000': 0.005739357290067701, '101000001': 0.00210969748284096, '101000010': 0.004670452419569342, '101000011': 0.00019360037227384678, '101000100': 0.00036008953872791017, '101000101': 0.00012023031353455192, '101000110': 3.065523466812114e-05, '101000111': 7.079838203589032e-05, '101001000': 0.006860722301655931, '101001001': 0.0010807875938749413, '101001010': 0.003627964772588, '101001011': 6.246905780155875e-05, '101001100': 2.903653957422055e-05, '101001101': 1.0974811257424286e-05, '101001110': 5.493909102843987e-05, '101001111': 9.208343126103728e-05, '101010000': 0.007023719055564801, '101010001': 0.0016510438572295881, '101010010': 0.004520221676134859, '101010011': 0.0001155852297718216, '101010100': 0.00014311810154086114, '101010101': 4.469454394130916e-05, '101010110': 4.8488753717448094e-05, '101010111': 9.360702166651553e-05, '101011000': 0.005264227753977001, '101011001': 0.0005259185215246656, '101011010': 0.0022456506210233, '101011011': 3.337043977495585e-05, '101011100': 6.000643711873011e-07, '101011101': 1.1288486433860891e-05, '101011110': 4.026972603632986e-05, '101011111': 5.377419873373525e-05, '101100000': 0.006422864515230333, '101100001': 0.0006700555431233476, '101100010': 0.002813181092284045, '101100011': 3.902939741601798e-05, '101100100': 4.075055929531582e-08, '101100101': 1.2081700668095763e-05, '101100110': 5.348728518301329e-05, '101100111': 8.279219931014688e-05, '101101000': 0.003933650656442518, '101101001': 0.00016329423115888638, '101101010': 0.0011517711532890026, '101101011': 2.482853363277488e-05, '101101100': 2.4723627412830037e-05, '101101101': 4.682650147073712e-05, '101101110': 2.8573846406708643e-05, '101101111': 1.9371616965556292e-05, '101110000': 0.004683000776039953, '101110001': 0.0003018874589793694, '101110010': 0.001654672679986516, '101110011': 2.7323178740918892e-05, '101110100': 9.66109806767633e-06, '101110101': 3.06100894943882e-05, '101110110': 3.523586734951208e-05, '101110111': 3.882314848107226e-05, '101111000': 0.0017869562919575722, '101111001': 4.97782633158117e-05, '101111010': 0.00042233824197653464, '101111011': 1.3457473340717708e-05, '101111100': 1.8594815552312873e-05, '101111101': 2.960314563398143e-05, '101111110': 1.2734948971762708e-05, '101111111': 2.8109466520039826e-06, '110000000': 0.00447417456441377, '110000001': 0.0036017993781117708, '110000010': 0.005622652451348028, '110000011': 0.0006020929216339894, '110000100': 0.0014367448778913633, '110000101': 0.00026255709256707967, '110000110': 3.4465831817155756e-06, '110000111': 4.669668936138173e-06, '110001000': 0.0067857981721285085, '110001001': 0.002346458301317849, '110001010': 0.0052972430519830135, '110001011': 0.00023018181027943874, '110001100': 0.00044671202380972664, '110001101': 0.00011474842549675467, '110001110': 2.152367928562901e-05, '110001111': 4.136320864751602e-05, '110010000': 0.006259947396649217, '110010001': 0.0031822633628042067, '110010010': 0.006034864865159147, '110010011': 0.00040679253006608505, '110010100': 0.0009089699946535063, '110010101': 0.00019316693456181537, '110010110': 3.9617584886042065e-06, '110010111': 2.1687086494162253e-05, '110011000': 0.005833557180823138, '110011001': 0.0013067081311150083, '110011010': 0.0036272084547891905, '110011011': 0.0001002680663964289, '110011100': 0.00013674367038416977, '110011101': 3.776102199065476e-05, '110011110': 3.0013368356089943e-05, '110011111': 4.203462403737788e-05, '110100000': 0.006993976274030815, '110100001': 0.0016588158081444423, '110100010': 0.004489444146137856, '110100011': 0.0001241259853909456, '110100100': 0.00017385841356185104, '110100101': 5.325484596336028e-05, '110100110': 4.029131928944903e-05, '110100111': 6.1025825121937206e-05, '110101000': 0.005256233901078003, '110101001': 0.0005332823762770856, '110101010': 0.0022386143805275325, '110101011': 3.479122585221437e-05, '110101100': 3.0167812538100567e-06, '110101101': 1.1602864798364369e-05, '110101110': 3.8266324763713625e-05, '110101111': 3.853910722838164e-05, '110110000': 0.005696833809716292, '110110001': 0.0008643687731844013, '110110010': 0.002929943379036913, '110110011': 5.5276159479364946e-05, '110110100': 3.2783841982797816e-05, '110110101': 1.3699644250516745e-05, '110110110': 3.8376122604155784e-05, '110110111': 4.7882735979839206e-05, '110111000': 0.0026700773961217546, '110111001': 0.00016916703220584356, '110111010': 0.0009136321518722879, '110111011': 1.6974129063693164e-05, '110111100': 5.265188811231089e-06, '110111101': 1.3813756542767357e-05, '110111110': 1.8328647067877373e-05, '110111111': 1.2258466192509852e-05, '111000000': 0.0033890077563989793, '111000001': 0.0004471523698609865, '111000010': 0.001684101808359284, '111000011': 2.988183441681053e-05, '111000100': 1.8000291870048215e-06, '111000101': 3.667696619468196e-06, '111000110': 2.9331493811252137e-05, '111000111': 6.551899152950812e-05, '111001000': 0.0031243843781780757, '111001001': 0.00016951865509153694, '111001010': 0.0010318220565720335, '111001011': 2.447439720707714e-05, '111001100': 1.4756594417387586e-05, '111001101': 3.579306421999948e-05, '111001110': 2.3443228263525146e-05, '111001111': 2.7650389570471007e-05, '111010000': 0.0036040767046107763, '111010001': 0.0002999774191336761, '111010010': 0.0014404462085907492, '111010011': 2.7526995874625712e-05, '111010100': 3.459032664807017e-06, '111010101': 1.9493787366317115e-05, '111010110': 2.8243905691948526e-05, '111010111': 4.734249627632965e-05, '111011000': 0.002105421945261303, '111011001': 7.559289674867394e-05, '111011010': 0.0005658678234062703, '111011011': 1.839158105387897e-05, '111011100': 1.89051060575285e-05, '111011101': 3.4871847748518925e-05, '111011110': 1.558109272884533e-05, '111011111': 8.576369787223544e-06, '111100000': 0.0026058349124575527, '111100001': 9.269810337379837e-05, '111100010': 0.0007131505729533938, '111100011': 2.2691877272219573e-05, '111100100': 2.531676639431954e-05, '111100101': 5.127688821059474e-05, '111100110': 1.934076528378725e-05, '111100111': 1.355053919864373e-05, '111101000': 0.0012467224691268541, '111101001': 2.9332696693859633e-05, '111101010': 0.000232860134672613, '111101011': 1.2547222104693727e-05, '111101100': 2.1293664356673604e-05, '111101101': 3.037827239143586e-05, '111101110': 1.0943118523603472e-05, '111101111': 8.8571739413736e-07, '111110000': 0.0016680540510792391, '111110001': 4.373247915784613e-05, '111110010': 0.0003719434712618957, '111110011': 1.619374316957405e-05, '111110100': 2.2533003046349874e-05, '111110101': 3.8798248715218183e-05, '111110110': 1.3221178255537214e-05, '111110111': 2.7246414232254198e-06, '111111000': 0.0004972394873075396, '111111001': 1.4714875695938451e-05, '111111010': 7.912801304437418e-05, '111111011': 4.959600460741253e-06, '111111100': 1.0064413626216557e-05, '111111101': 9.257894371386803e-06, '111111110': 4.9585198343491646e-06, '111111111': 1.0710302157647676e-06}\n",
      "Best params: {'angles': tensor([[ 6.56119184e-04, -9.63077524e-04, -2.25897892e-03,\n",
      "          8.40469457e-04,  1.05179316e-03],\n",
      "        [ 1.76385310e+01, -1.53326509e+01, -1.48938428e+01,\n",
      "         -1.45689317e+01, -1.11054016e+01]], requires_grad=True), 'hyper_args': tensor([ 1, 20, 20, 20,  2], requires_grad=True)}\n"
     ]
    }
   ],
   "source": [
    "print(\"Solver results:\")\n",
    "print(f\"Probabilities: {solver_results.results_probabilities}\")\n",
    "print(f\"Best params: {solver_results.params}\")\n"
   ]
  },
  {
   "cell_type": "code",
   "execution_count": 19,
   "metadata": {},
   "outputs": [
    {
     "name": "stdout",
     "output_type": "stream",
     "text": [
      "Evaluation:\n",
      "14.937262372866229\n",
      "Sort results:\n",
      "Result: 000010100, Prob: 0.0088815, Evaluation: 1\n",
      "Result: 000001100, Prob: 0.0086442, Evaluation: 1\n",
      "Result: 010010100, Prob: 0.0084784, Evaluation: 1\n",
      "Result: 100010010, Prob: 0.0083213, Evaluation: 26.0\n",
      "Result: 010010001, Prob: 0.0082907, Evaluation: 28.0\n",
      "Result: 001100010, Prob: 0.0082874, Evaluation: 27.0\n",
      "Result: 010001001, Prob: 0.008237, Evaluation: 28.0\n",
      "Result: 001001010, Prob: 0.0081406, Evaluation: 28.0\n",
      "Result: 100001010, Prob: 0.0081261, Evaluation: 26.0\n",
      "Result: 010000100, Prob: 0.0080823, Evaluation: 1\n",
      "Result: 000100100, Prob: 0.0080419, Evaluation: 1\n",
      "Result: 010100001, Prob: 0.0078522, Evaluation: 27.0\n",
      "Result: 001010001, Prob: 0.00785, Evaluation: 28.0\n",
      "Result: 010100010, Prob: 0.0077419, Evaluation: 27.0\n",
      "Result: 001010010, Prob: 0.007632, Evaluation: 28.0\n",
      "Result: 100100010, Prob: 0.0076272, Evaluation: 25.0\n",
      "Result: 000100001, Prob: 0.007472, Evaluation: 1\n",
      "Result: 100100000, Prob: 0.0074291, Evaluation: 1\n",
      "Result: 000000100, Prob: 0.0073778, Evaluation: 1\n",
      "Result: 010001100, Prob: 0.0073098, Evaluation: 1\n"
     ]
    }
   ],
   "source": [
    "from QHyper.util import (\n",
    "    weighted_avg_evaluation, sort_solver_results, add_evaluation_to_results)\n",
    "\n",
    "# Evaluate results with weighted average evaluation\n",
    "print(\"Evaluation:\")\n",
    "print(weighted_avg_evaluation(\n",
    "    solver_results.results_probabilities, problem.get_score,\n",
    "    penalty=0, limit_results=20, normalize=True\n",
    "))\n",
    "print(\"Sort results:\")\n",
    "sorted_results = sort_solver_results(\n",
    "    solver_results.results_probabilities, limit_results=20)\n",
    "\n",
    "# Add evaluation to results\n",
    "results_with_evaluation = add_evaluation_to_results(\n",
    "    sorted_results, problem.get_score)\n",
    "\n",
    "for result, (probability, evaluation) in results_with_evaluation.items():\n",
    "    print(f\"Result: {result}, \"\n",
    "          f\"Prob: {probability:.5}, \"\n",
    "          f\"Evaluation: {evaluation}\")\n"
   ]
  },
  {
   "cell_type": "code",
   "execution_count": 28,
   "metadata": {},
   "outputs": [
    {
     "data": {
      "text/plain": [
       "<Axes: xlabel='index', ylabel='value'>"
      ]
     },
     "execution_count": 28,
     "metadata": {},
     "output_type": "execute_result"
    },
    {
     "data": {
      "image/png": "[encoded data removed]",
      "text/plain": [
       "<Figure size 640x480 with 1 Axes>"
      ]
     },
     "metadata": {},
     "output_type": "display_data"
    }
   ],
   "source": [
    "import pandas as pd\n",
    "\n",
    "pd.DataFrame(solver_results.history[0]).reset_index().plot(x='index',y='value', kind='scatter')\n"
   ]
  },
  {
   "cell_type": "code",
   "execution_count": null,
   "id": "554606e3",
   "metadata": {},
   "outputs": [],
   "source": []
  }
 ],
 "metadata": {
  "celltoolbar": "Raw Cell Format",
  "kernelspec": {
   "display_name": "Python 3 (ipykernel)",
   "language": "python",
   "name": "python3"
  },
  "language_info": {
   "codemirror_mode": {
    "name": "ipython",
    "version": 3
   },
   "file_extension": ".py",
   "mimetype": "text/x-python",
   "name": "python",
   "nbconvert_exporter": "python",
   "pygments_lexer": "ipython3",
   "version": "3.10.12"
  }
 },
 "nbformat": 4,
 "nbformat_minor": 5
}
