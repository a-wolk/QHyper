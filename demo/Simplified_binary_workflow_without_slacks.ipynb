{
 "cells": [
  {
   "cell_type": "markdown",
   "id": "89685faf",
   "metadata": {},
   "source": [
    "### Demo na konferencję EuroHPC (case z kodowaniem binarnym i z QAOA) - draft\n",
    "DO ZMIANY: opis \n",
    "We will focus on the following workflow instance (for now, in the simplified problem, we will not use the Workflow or WorkflowSchedulingProblem classes, because we want to test the Unbalanced Penalization method https://arxiv.org/pdf/2211.13914.pdf), which is not included in QHyper. But I will leave it here just for reference (especially for observation of what data is in the time and cost matrices)."
   ]
  },
  {
   "cell_type": "code",
   "execution_count": 1,
   "id": "5d1c465f",
   "metadata": {},
   "outputs": [],
   "source": [
    "import sys\n",
    "sys.path.append(\"..\")\n",
    "from QHyper.problems.workflow_scheduling import (\n",
    "    Workflow,\n",
    "    WorkflowSchedulingBinary\n",
    ")\n",
    "\n",
    "tasks_file =  \"workflows_data/workflows/3_tasks_4_machines_1_path.json\"\n",
    "machines_file = \"workflows_data/machines/machines_for_3_tasks_4_machines_1_path.json\"\n",
    "deadline = 13\n",
    "\n",
    "workflow = Workflow(tasks_file, machines_file, deadline)\n",
    "problem = WorkflowSchedulingBinary(workflow)\n"
   ]
  },
  {
   "cell_type": "code",
   "execution_count": 2,
   "id": "dc65723e",
   "metadata": {},
   "outputs": [
    {
     "data": {
      "text/html": [
       "<div>\n",
       "<style scoped>\n",
       "    .dataframe tbody tr th:only-of-type {\n",
       "        vertical-align: middle;\n",
       "    }\n",
       "\n",
       "    .dataframe tbody tr th {\n",
       "        vertical-align: top;\n",
       "    }\n",
       "\n",
       "    .dataframe thead th {\n",
       "        text-align: right;\n",
       "    }\n",
       "</style>\n",
       "<table border=\"1\" class=\"dataframe\">\n",
       "  <thead>\n",
       "    <tr style=\"text-align: right;\">\n",
       "      <th></th>\n",
       "      <th>MachineA</th>\n",
       "      <th>MachineB</th>\n",
       "      <th>MachineC</th>\n",
       "      <th>MachineD</th>\n",
       "    </tr>\n",
       "  </thead>\n",
       "  <tbody>\n",
       "    <tr>\n",
       "      <th>task1</th>\n",
       "      <td>6.0</td>\n",
       "      <td>8.0</td>\n",
       "      <td>8.0</td>\n",
       "      <td>2.0</td>\n",
       "    </tr>\n",
       "    <tr>\n",
       "      <th>task2</th>\n",
       "      <td>3.0</td>\n",
       "      <td>4.0</td>\n",
       "      <td>4.0</td>\n",
       "      <td>1.0</td>\n",
       "    </tr>\n",
       "    <tr>\n",
       "      <th>task3</th>\n",
       "      <td>12.0</td>\n",
       "      <td>16.0</td>\n",
       "      <td>16.0</td>\n",
       "      <td>4.0</td>\n",
       "    </tr>\n",
       "  </tbody>\n",
       "</table>\n",
       "</div>"
      ],
      "text/plain": [
       "       MachineA  MachineB  MachineC  MachineD\n",
       "task1       6.0       8.0       8.0       2.0\n",
       "task2       3.0       4.0       4.0       1.0\n",
       "task3      12.0      16.0      16.0       4.0"
      ]
     },
     "execution_count": 2,
     "metadata": {},
     "output_type": "execute_result"
    }
   ],
   "source": [
    "problem.workflow.cost_matrix\n"
   ]
  },
  {
   "cell_type": "markdown",
   "id": "923ed19b-7cd3-468c-b3cc-45b29fb0dd10",
   "metadata": {},
   "source": [
    "Uwaga: tutaj tak naprawdę jest dodana jeszcze jedna maszyna (liczba maszyn musi być 2^n)"
   ]
  },
  {
   "cell_type": "code",
   "execution_count": 3,
   "id": "2ed4a92c",
   "metadata": {},
   "outputs": [
    {
     "data": {
      "text/html": [
       "<div>\n",
       "<style scoped>\n",
       "    .dataframe tbody tr th:only-of-type {\n",
       "        vertical-align: middle;\n",
       "    }\n",
       "\n",
       "    .dataframe tbody tr th {\n",
       "        vertical-align: top;\n",
       "    }\n",
       "\n",
       "    .dataframe thead th {\n",
       "        text-align: right;\n",
       "    }\n",
       "</style>\n",
       "<table border=\"1\" class=\"dataframe\">\n",
       "  <thead>\n",
       "    <tr style=\"text-align: right;\">\n",
       "      <th></th>\n",
       "      <th>MachineA</th>\n",
       "      <th>MachineB</th>\n",
       "      <th>MachineC</th>\n",
       "      <th>MachineD</th>\n",
       "    </tr>\n",
       "  </thead>\n",
       "  <tbody>\n",
       "    <tr>\n",
       "      <th>task1</th>\n",
       "      <td>6.0</td>\n",
       "      <td>2.0</td>\n",
       "      <td>4.0</td>\n",
       "      <td>16.0</td>\n",
       "    </tr>\n",
       "    <tr>\n",
       "      <th>task2</th>\n",
       "      <td>3.0</td>\n",
       "      <td>1.0</td>\n",
       "      <td>2.0</td>\n",
       "      <td>8.0</td>\n",
       "    </tr>\n",
       "    <tr>\n",
       "      <th>task3</th>\n",
       "      <td>12.0</td>\n",
       "      <td>4.0</td>\n",
       "      <td>8.0</td>\n",
       "      <td>32.0</td>\n",
       "    </tr>\n",
       "  </tbody>\n",
       "</table>\n",
       "</div>"
      ],
      "text/plain": [
       "       MachineA  MachineB  MachineC  MachineD\n",
       "task1       6.0       2.0       4.0      16.0\n",
       "task2       3.0       1.0       2.0       8.0\n",
       "task3      12.0       4.0       8.0      32.0"
      ]
     },
     "execution_count": 3,
     "metadata": {},
     "output_type": "execute_result"
    }
   ],
   "source": [
    "problem.workflow.time_matrix\n"
   ]
  },
  {
   "cell_type": "markdown",
   "id": "627053d2",
   "metadata": {},
   "source": [
    "Below is the list of the hyperparameters (weights) that can be changed.  I assumed that the weights hyper_b, hyper_c, hyper_d can be the same, since the constraint they represent has a very similar form."
   ]
  },
  {
   "cell_type": "code",
   "execution_count": 4,
   "id": "3ef3d11e-e0d7-4c76-95da-bfda23fa4561",
   "metadata": {},
   "outputs": [],
   "source": [
    "hyper_params = {'cost_function_weight': 1, # weight for: cost function\n",
    "               'deadline_linear_form_weight': 2, # weight for: deadline constraint - linear form (-- this is from the unbalanced penalization approach)\n",
    "                'deadline_quadratic_form_weight': 2} # weight for: deadline constraint - quadratic form\n"
   ]
  },
  {
   "cell_type": "markdown",
   "id": "8a03a332-113a-433f-ad5d-24e51344a1ac",
   "metadata": {},
   "source": [
    " DO ZMIANY: generacja tych wzorów z WFCommons"
   ]
  },
  {
   "cell_type": "code",
   "execution_count": 5,
   "id": "b914cd22",
   "metadata": {},
   "outputs": [
    {
     "name": "stdout",
     "output_type": "stream",
     "text": [
      "Variables used to describe objective function and constraints: (x0, x1, x2, x3, x4, x5)\n",
      "Objective function: {('x0', 'x1'): -8.0, ('x0',): 2.0, ('x1',): 2.0, ('x2', 'x3'): -4.0, ('x2',): 1.0, ('x3',): 1.0, ('x4', 'x5'): -16.0, ('x4',): 4.0, ('x5',): 4.0, (): 21.0}\n",
      "Constraints (RHS == 0):\n",
      "    {('x0', 'x1'): 16.0, ('x0',): -2.0, ('x1',): -4.0, ('x2', 'x3'): 8.0, ('x2',): -1.0, ('x3',): -2.0, ('x4', 'x5'): 32.0, ('x4',): -4.0, ('x5',): -8.0, (): 21.0} <= 13\n"
     ]
    }
   ],
   "source": [
    "print(f\"Variables used to describe objective function\"\n",
    "      f\" and constraints: {problem.variables}\")\n",
    "print(f\"Objective function: {problem.objective_function}\")\n",
    "print(\"Constraints (RHS == 0):\")\n",
    "for constraint in problem.constraints:\n",
    "    print(f\"    {constraint}\")\n"
   ]
  },
  {
   "cell_type": "markdown",
   "id": "9852e256",
   "metadata": {},
   "source": [
    "# 3 Using QHyper"
   ]
  },
  {
   "cell_type": "markdown",
   "id": "a7d1d81d",
   "metadata": {},
   "source": [
    "Do zmiany - konfiguracja wag"
   ]
  },
  {
   "cell_type": "code",
   "execution_count": 6,
   "id": "f9d96cf4",
   "metadata": {},
   "outputs": [],
   "source": [
    "import numpy as np\n",
    "params_config = {\n",
    "        'angles': [[0.1e-13]*6, [np.pi/2]*6], # QAOA angles - first we have gammas (for the cost Hamiltonian), then we have betas (for the mixer)\n",
    "        'hyper_args': [hyper_params['cost_function_weight'],\n",
    "                       hyper_params['deadline_linear_form_weight'],\n",
    "                       hyper_params['deadline_quadratic_form_weight']\n",
    "                       ],\n",
    "    }\n"
   ]
  },
  {
   "cell_type": "code",
   "execution_count": 10,
   "id": "8dbdf752",
   "metadata": {},
   "outputs": [],
   "source": [
    "# Create a VQA instance with QAOA as PQC and scipy optimizer\n",
    "# This can be done in two various way\n",
    "# 1. Providing dict with config (usefull to save experiment confing in e.g JSON)\n",
    "# DO ZMIANY sqaoa -> qaoa (backend= \"default.qubit\") oraz QNG optimiser (krok 0.0001) 50 krokow\n",
    "from QHyper.solvers import VQA, solver_from_config\n",
    "\n",
    "solver_config = {\n",
    "    \"solver\": {\n",
    "        \"type\": \"vqa\",\n",
    "        \"pqc\": {\n",
    "            \"type\": \"qml_qaoa\",\n",
    "            \"layers\": 6,\n",
    "            \"optimizer\": \"qng\",\n",
    "            \"optimizer_args\": {\n",
    "                \"stepsize\": 0.00045,\n",
    "                \"steps\": 50,\n",
    "                \"verbose\": True,\n",
    "            },\n",
    "            \"backend\": \"default.qubit\",\n",
    "        },\n",
    "        \"params_inits\": params_config\n",
    "    },\n",
    "    \"problem\": {\n",
    "        \"type\": \"workflow_scheduling\",\n",
    "        \"encoding\": \"binary\",\n",
    "        \"tasks_file\": tasks_file,\n",
    "        \"machines_file\": machines_file,\n",
    "        \"deadline\": deadline,\n",
    "    }\n",
    "}\n",
    "\n",
    "vqa = solver_from_config(solver_config)\n"
   ]
  },
  {
   "cell_type": "code",
   "execution_count": 11,
   "id": "d5baf644",
   "metadata": {},
   "outputs": [
    {
     "name": "stdout",
     "output_type": "stream",
     "text": [
      "Step 1/1: 612.9999999999897\n"
     ]
    }
   ],
   "source": [
    "solver_results = vqa.solve()\n"
   ]
  },
  {
   "cell_type": "code",
   "execution_count": 9,
   "id": "dc368439",
   "metadata": {},
   "outputs": [
    {
     "name": "stdout",
     "output_type": "stream",
     "text": [
      "Best params: {'angles': tensor([[ 3.16563674e-04,  6.74907789e-04, -1.05995569e-03,\n",
      "         -6.53432898e-04, -8.83401418e-04, -1.17955917e-03],\n",
      "        [-3.30431302e+02, -3.68020049e+01, -3.34198162e+01,\n",
      "         -1.14607516e+02, -1.73274107e+02, -1.30915143e+02]], requires_grad=True), 'hyper_args': tensor([1, 2, 2], requires_grad=True)}\n"
     ]
    }
   ],
   "source": [
    "print(f\"Best params: {solver_results.params}\")\n"
   ]
  },
  {
   "cell_type": "code",
   "execution_count": 10,
   "id": "f4710450",
   "metadata": {},
   "outputs": [
    {
     "name": "stdout",
     "output_type": "stream",
     "text": [
      "Evaluation:\n",
      "3.051823527888819\n",
      "Sort results:\n",
      "Result: 000000, Prob: 0.21114, Evaluation: 0\n",
      "Result: 000100, Prob: 0.074346, Evaluation: 0\n",
      "Result: 000010, Prob: 0.073985, Evaluation: 0\n",
      "Result: 001000, Prob: 0.071836, Evaluation: 0\n",
      "Result: 000001, Prob: 0.048846, Evaluation: 25.0\n",
      "Result: 110000, Prob: 0.035693, Evaluation: 0\n",
      "Result: 100100, Prob: 0.024409, Evaluation: 0\n",
      "Result: 101000, Prob: 0.024142, Evaluation: 0\n",
      "Result: 110010, Prob: 0.019189, Evaluation: 0\n",
      "Result: 001010, Prob: 0.019118, Evaluation: 0\n",
      "Result: 000110, Prob: 0.018114, Evaluation: 0\n",
      "Result: 010100, Prob: 0.016495, Evaluation: 0\n",
      "Result: 011000, Prob: 0.01556, Evaluation: 0\n",
      "Result: 110001, Prob: 0.013899, Evaluation: 0\n",
      "Result: 011010, Prob: 0.013008, Evaluation: 28.0\n",
      "Result: 111000, Prob: 0.012825, Evaluation: 0\n",
      "Result: 010010, Prob: 0.012311, Evaluation: 27.0\n",
      "Result: 010110, Prob: 0.012198, Evaluation: 28.0\n",
      "Result: 110100, Prob: 0.011651, Evaluation: 0\n",
      "Result: 101010, Prob: 0.011545, Evaluation: 0\n"
     ]
    }
   ],
   "source": [
    "from QHyper.util import (\n",
    "    weighted_avg_evaluation, sort_solver_results, add_evaluation_to_results)\n",
    "\n",
    "# Evaluate results with weighted average evaluation\n",
    "print(\"Evaluation:\")\n",
    "print(weighted_avg_evaluation(\n",
    "    solver_results.results_probabilities, problem.get_score,\n",
    "    penalty=0, limit_results=20, normalize=True\n",
    "))\n",
    "print(\"Sort results:\")\n",
    "sorted_results = sort_solver_results(\n",
    "    solver_results.results_probabilities, limit_results=20)\n",
    "\n",
    "# Add evaluation to results\n",
    "results_with_evaluation = add_evaluation_to_results(\n",
    "    sorted_results, problem.get_score, penalty=0)\n",
    "\n",
    "for result, (probability, evaluation) in results_with_evaluation.items():\n",
    "    print(f\"Result: {result}, \"\n",
    "          f\"Prob: {probability:.5}, \"\n",
    "          f\"Evaluation: {evaluation}\")\n"
   ]
  },
  {
   "cell_type": "code",
   "execution_count": 11,
   "id": "554606e3",
   "metadata": {},
   "outputs": [
    {
     "data": {
      "text/plain": [
       "<AxesSubplot: xlabel='index', ylabel='value'>"
      ]
     },
     "execution_count": 11,
     "metadata": {},
     "output_type": "execute_result"
    },
    {
     "data": {
      "image/png": "[encoded data removed]",
      "text/plain": [
       "<Figure size 640x480 with 1 Axes>"
      ]
     },
     "metadata": {},
     "output_type": "display_data"
    }
   ],
   "source": [
    "import pandas as pd\n",
    "\n",
    "pd.DataFrame(solver_results.history[0]).reset_index().plot(x='index',y='value', kind='scatter')\n"
   ]
  },
  {
   "cell_type": "code",
   "execution_count": null,
   "id": "cf32337e",
   "metadata": {},
   "outputs": [],
   "source": []
  }
 ],
 "metadata": {
  "celltoolbar": "Raw Cell Format",
  "kernelspec": {
   "display_name": "Python 3 (ipykernel)",
   "language": "python",
   "name": "python3"
  },
  "language_info": {
   "codemirror_mode": {
    "name": "ipython",
    "version": 3
   },
   "file_extension": ".py",
   "mimetype": "text/x-python",
   "name": "python",
   "nbconvert_exporter": "python",
   "pygments_lexer": "ipython3",
   "version": "3.10.12"
  }
 },
 "nbformat": 4,
 "nbformat_minor": 5
}
