{
 "cells": [
  {
   "attachments": {},
   "cell_type": "markdown",
   "metadata": {},
   "source": [
    "### MaxCut"
   ]
  },
  {
   "attachments": {},
   "cell_type": "markdown",
   "metadata": {},
   "source": [
    "##### CQM"
   ]
  },
  {
   "cell_type": "code",
   "execution_count": 2,
   "metadata": {},
   "outputs": [
    {
     "data": {
      "text/plain": [
       "2*x0*x1 + 2*x0*x2 - 2*x0 + 2*x1*x3 - 2*x1 + 2*x2*x3 + 2*x2*x4 - 3*x2 + 2*x3*x4 - 3*x3 - 2*x4"
      ]
     },
     "execution_count": 2,
     "metadata": {},
     "output_type": "execute_result"
    }
   ],
   "source": [
    "from QHyper.problems.max_cut import MaxCut, MaxCutProblem\n",
    "\n",
    "\n",
    "max_cut = MaxCut()\n",
    "max_cut.create_sample_graph()\n",
    "\n",
    "max_cut_problem = MaxCutProblem(max_cut)\n",
    "max_cut_problem.objective_function\n"
   ]
  },
  {
   "cell_type": "code",
   "execution_count": null,
   "metadata": {},
   "outputs": [],
   "source": [
    "from QHyper.solvers.cqm import CQM\n",
    "\n",
    "\n",
    "max_cut_cqm = CQM(max_cut_problem, 5)\n",
    "max_cut_samples = max_cut_cqm.solve()"
   ]
  },
  {
   "cell_type": "code",
   "execution_count": null,
   "metadata": {},
   "outputs": [],
   "source": [
    "max_cut_samples"
   ]
  },
  {
   "cell_type": "code",
   "execution_count": null,
   "metadata": {},
   "outputs": [],
   "source": [
    "import networkx as nx\n",
    "\n",
    "import matplotlib\n",
    "# matplotlib.use(\"agg\")\n",
    "from matplotlib import pyplot as plt\n",
    "\n",
    "plt.cla()\n",
    "\n",
    "G = max_cut_problem.max_cut_graph\n",
    "S0 = [i+1 for i, val in enumerate(max_cut_samples.values()) if val == 0]\n",
    "S1 = [i+1 for i, val in enumerate(max_cut_samples.values()) if val == 1]\n",
    "lut = {i+1: val for i, val in enumerate(max_cut_samples.values())}\n",
    "print(lut)\n",
    "cut_edges = [(u, v) for u, v in G.edges if lut[u]!=lut[v]]\n",
    "uncut_edges = [(u, v) for u, v in G.edges if lut[u]==lut[v]]\n",
    "\n",
    "pos = nx.spring_layout(G)\n",
    "nx.draw_networkx_nodes(G, pos, nodelist=S0, node_color='r')\n",
    "nx.draw_networkx_nodes(G, pos, nodelist=S1, node_color='c')\n",
    "nx.draw_networkx_edges(G, pos, edgelist=cut_edges, style='dashdot', alpha=0.5, width=3)\n",
    "nx.draw_networkx_edges(G, pos, edgelist=uncut_edges, style='solid', width=3)\n",
    "nx.draw_networkx_labels(G, pos)\n",
    "\n",
    "\n",
    "filename = \"./demo_output/maxcut_cqm_plot.png\"\n",
    "plt.savefig(filename, bbox_inches='tight')\n",
    "print(\"\\nYour plot is saved to {}\".format(filename))\n",
    "plt.show()"
   ]
  },
  {
   "attachments": {},
   "cell_type": "markdown",
   "metadata": {},
   "source": [
    "##### DQM"
   ]
  },
  {
   "cell_type": "code",
   "execution_count": 1,
   "metadata": {},
   "outputs": [
    {
     "data": {
      "text/plain": [
       "2*x0*x1 + 2*x0*x2 - 2*x0 + 2*x1*x3 - 2*x1 + 2*x2*x3 + 2*x2*x4 - 3*x2 + 2*x3*x4 - 3*x3 - 2*x4"
      ]
     },
     "execution_count": 1,
     "metadata": {},
     "output_type": "execute_result"
    }
   ],
   "source": [
    "from QHyper.problems.max_cut import MaxCut, MaxCutProblem\n",
    "\n",
    "\n",
    "max_cut = MaxCut()\n",
    "max_cut.create_sample_graph()\n",
    "\n",
    "max_cut_problem = MaxCutProblem(max_cut)\n",
    "max_cut_problem.objective_function"
   ]
  },
  {
   "cell_type": "code",
   "execution_count": 4,
   "metadata": {},
   "outputs": [],
   "source": [
    "from QHyper.solvers.dqm import DQM\n",
    "\n",
    "\n",
    "max_cut_dqm = DQM(max_cut_problem, 5)\n",
    "max_cut_sampleset = max_cut_dqm.solve()"
   ]
  },
  {
   "cell_type": "code",
   "execution_count": 5,
   "metadata": {},
   "outputs": [],
   "source": [
    "res = max_cut_sampleset.first.sample"
   ]
  },
  {
   "cell_type": "code",
   "execution_count": 6,
   "metadata": {},
   "outputs": [
    {
     "data": {
      "text/plain": [
       "{'x0': 1, 'x1': 0, 'x2': 0, 'x3': 1, 'x4': 1}"
      ]
     },
     "execution_count": 6,
     "metadata": {},
     "output_type": "execute_result"
    }
   ],
   "source": [
    "res"
   ]
  },
  {
   "cell_type": "code",
   "execution_count": 7,
   "metadata": {},
   "outputs": [
    {
     "name": "stdout",
     "output_type": "stream",
     "text": [
      "{1: 1, 2: 0, 3: 0, 4: 1, 5: 1}\n",
      "\n",
      "Your plot is saved to ./demo_output/maxcut_dqm_plot.png\n"
     ]
    },
    {
     "data": {
      "image/png": "[encoded data removed]",
      "text/plain": [
       "<Figure size 640x480 with 1 Axes>"
      ]
     },
     "metadata": {},
     "output_type": "display_data"
    }
   ],
   "source": [
    "import networkx as nx\n",
    "\n",
    "import matplotlib\n",
    "# matplotlib.use(\"agg\")\n",
    "from matplotlib import pyplot as plt\n",
    "\n",
    "plt.cla()\n",
    "\n",
    "G = max_cut_problem.max_cut_graph\n",
    "S0 = [i+1 for i, val in enumerate(res.values()) if val == 0]\n",
    "S1 = [i+1 for i, val in enumerate(res.values()) if val == 1]\n",
    "lut = {i+1: val for i, val in enumerate(res.values())}\n",
    "print(lut)\n",
    "cut_edges = [(u, v) for u, v in G.edges if lut[u]!=lut[v]]\n",
    "uncut_edges = [(u, v) for u, v in G.edges if lut[u]==lut[v]]\n",
    "\n",
    "pos = nx.spring_layout(G)\n",
    "nx.draw_networkx_nodes(G, pos, nodelist=S0, node_color='r')\n",
    "nx.draw_networkx_nodes(G, pos, nodelist=S1, node_color='c')\n",
    "nx.draw_networkx_edges(G, pos, edgelist=cut_edges, style='dashdot', alpha=0.5, width=3)\n",
    "nx.draw_networkx_edges(G, pos, edgelist=uncut_edges, style='solid', width=3)\n",
    "nx.draw_networkx_labels(G, pos)\n",
    "\n",
    "\n",
    "filename = \"./demo_output/maxcut_dqm_plot.png\"\n",
    "plt.savefig(filename, bbox_inches='tight')\n",
    "print(\"\\nYour plot is saved to {}\".format(filename))\n",
    "plt.show()"
   ]
  },
  {
   "attachments": {},
   "cell_type": "markdown",
   "metadata": {},
   "source": [
    "##### QUBO experiments"
   ]
  },
  {
   "cell_type": "code",
   "execution_count": null,
   "metadata": {},
   "outputs": [],
   "source": [
    "from QHyper.solvers.converter import Converter\n",
    "\n",
    "\n",
    "cut_qubo = Converter.to_qubo(max_cut_problem)"
   ]
  },
  {
   "cell_type": "code",
   "execution_count": null,
   "metadata": {},
   "outputs": [],
   "source": [
    "cut_qubo"
   ]
  },
  {
   "cell_type": "code",
   "execution_count": null,
   "metadata": {},
   "outputs": [],
   "source": [
    "import dimod\n",
    "\n",
    "\n",
    "binary_polynomial = dimod.BinaryPolynomial(max_cut_problem.objective_function.as_dict(), dimod.BINARY)"
   ]
  },
  {
   "cell_type": "code",
   "execution_count": null,
   "metadata": {},
   "outputs": [],
   "source": [
    "binary_polynomial"
   ]
  },
  {
   "attachments": {},
   "cell_type": "markdown",
   "metadata": {},
   "source": [
    "#### Brain Community Detection"
   ]
  },
  {
   "attachments": {},
   "cell_type": "markdown",
   "metadata": {},
   "source": [
    "##### DQM"
   ]
  },
  {
   "cell_type": "code",
   "execution_count": 1,
   "metadata": {},
   "outputs": [
    {
     "name": "stderr",
     "output_type": "stream",
     "text": [
      "<class 'networkx.utils.decorators.argmap'> compilation 9:5: FutureWarning: modularity_matrix will return a numpy array instead of a matrix in NetworkX 3.0.\n"
     ]
    },
    {
     "data": {
      "text/plain": [
       "[]"
      ]
     },
     "execution_count": 1,
     "metadata": {},
     "output_type": "execute_result"
    }
   ],
   "source": [
    "from QHyper.problems.brain_community_detection import BrainCommunityDetection\n",
    "\n",
    "\n",
    "num_cases = 4\n",
    "path = \"../QHyper/problems/brain_community_data\"\n",
    "data_name = 'Edge_AAL90_Binary'\n",
    "brain = BrainCommunityDetection(path, data_name, num_cases)\n",
    "brain.objective_function\n",
    "\n"
   ]
  },
  {
   "cell_type": "code",
   "execution_count": null,
   "metadata": {},
   "outputs": [],
   "source": [
    "import sympy\n",
    "\n",
    "\n",
    "G = brain.G\n",
    "\n",
    "variables = sympy.symbols(' '.join([f'x{i}' for i in range(len(G.nodes))]))"
   ]
  },
  {
   "cell_type": "code",
   "execution_count": null,
   "metadata": {},
   "outputs": [],
   "source": [
    "from sympy.core.expr import Expr\n",
    "from typing import cast\n",
    "from QHyper.hyperparameter_gen.parser import Expression\n",
    "\n",
    "\n",
    "equation: Expr = cast(Expr, 0)\n",
    "cross_out = [[0 for _ in range(len(G.nodes))] for _ in range(len(G.nodes))]\n",
    "for i in G.nodes():\n",
    "    for j in G.nodes():\n",
    "        if i==j:\n",
    "            continue\n",
    "        if cross_out[i][j] != 0:\n",
    "            continue\n",
    "        u_var, v_var = variables[i], variables[j]\n",
    "        print(u_var, v_var, i, j)\n",
    "        equation += u_var*v_var*brain.B[i,j]\n",
    "        cross_out[i][j] = 1\n",
    "print(\"done\")\n",
    "equation *= -1\n",
    "print(\"done\")\n",
    "\n",
    "# brain.objective_function = Expression(equation)"
   ]
  },
  {
   "cell_type": "code",
   "execution_count": null,
   "metadata": {},
   "outputs": [],
   "source": [
    "equation_expression = Expression(equation)"
   ]
  },
  {
   "cell_type": "code",
   "execution_count": null,
   "metadata": {},
   "outputs": [],
   "source": [
    "brain.objective_function = equation_expression"
   ]
  },
  {
   "cell_type": "code",
   "execution_count": null,
   "metadata": {},
   "outputs": [],
   "source": [
    "from QHyper.solvers.dqm import DQM\n",
    "\n",
    "\n",
    "brain_dqm = DQM(brain, 5)\n",
    "# brain_sampleset = brain_dqm.solve()"
   ]
  },
  {
   "cell_type": "code",
   "execution_count": null,
   "metadata": {},
   "outputs": [],
   "source": [
    "equation_expression.as_dict()\n"
   ]
  },
  {
   "cell_type": "code",
   "execution_count": null,
   "metadata": {},
   "outputs": [],
   "source": [
    "brain_sampleset = brain_dqm.solve()"
   ]
  },
  {
   "cell_type": "code",
   "execution_count": null,
   "metadata": {},
   "outputs": [],
   "source": [
    "brain_sampleset.first.sample"
   ]
  },
  {
   "cell_type": "code",
   "execution_count": null,
   "metadata": {},
   "outputs": [],
   "source": [
    "import numpy as np\n",
    "\n",
    "\n",
    "samples = brain_sampleset\n",
    "sample = samples.first.sample\n",
    "energy = samples.first.energy\n",
    "run_time=(samples.info['run_time'])*0.001\n",
    "\n",
    "communities=[]\n",
    "for k in (range(brain.num_cases)):\n",
    "    comm=[]\n",
    "    for i in sample:\n",
    "        if sample[i]==k:\n",
    "            comm.append(i)\n",
    "    communities.append(set(comm))\n",
    "\n",
    "counts = np.zeros(brain.num_cases)\n",
    "for s in sample.values():\n",
    "    counts[s] += 1\n",
    "\n",
    "print(sample)"
   ]
  },
  {
   "cell_type": "code",
   "execution_count": null,
   "metadata": {},
   "outputs": [],
   "source": [
    "output_folder = \"./demo_output\"\n",
    "results = communities, run_time, energy, counts, sample\n",
    "brain.plot_results(output_folder, results)"
   ]
  }
 ],
 "metadata": {
  "kernelspec": {
   "display_name": "Python 3",
   "language": "python",
   "name": "python3"
  },
  "language_info": {
   "codemirror_mode": {
    "name": "ipython",
    "version": 3
   },
   "file_extension": ".py",
   "mimetype": "text/x-python",
   "name": "python",
   "nbconvert_exporter": "python",
   "pygments_lexer": "ipython3",
   "version": "3.10.11"
  },
  "orig_nbformat": 4
 },
 "nbformat": 4,
 "nbformat_minor": 2
}
