{
 "cells": [
  {
   "attachments": {},
   "cell_type": "markdown",
   "metadata": {},
   "source": [
    "## Brain Community Detection"
   ]
  },
  {
   "attachments": {},
   "cell_type": "markdown",
   "metadata": {},
   "source": [
    "##### DQM"
   ]
  },
  {
   "cell_type": "code",
   "execution_count": null,
   "metadata": {},
   "outputs": [
    {
     "name": "stderr",
     "output_type": "stream",
     "text": [
      "<class 'networkx.utils.decorators.argmap'> compilation 9:5: FutureWarning: modularity_matrix will return a numpy array instead of a matrix in NetworkX 3.0.\n"
     ]
    },
    {
     "data": {
      "text/plain": [
       "[]"
      ]
     },
     "metadata": {},
     "output_type": "display_data"
    }
   ],
   "source": [
    "from QHyper.problems.brain_community_detection import BrainCommunityDetection\n",
    "\n",
    "\n",
    "num_cases = 4\n",
    "path = \"../QHyper/problems/brain_community_data\"\n",
    "data_name = 'Edge_AAL90_Binary'\n",
    "brain = BrainCommunityDetection(path, data_name, num_cases)\n",
    "brain.objective_function"
   ]
  },
  {
   "cell_type": "code",
   "execution_count": null,
   "metadata": {},
   "outputs": [],
   "source": [
    "import sympy\n",
    "\n",
    "\n",
    "G = brain.G\n",
    "\n",
    "variables = sympy.symbols(' '.join([f'x{i}' for i in range(len(G.nodes))]))"
   ]
  },
  {
   "cell_type": "code",
   "execution_count": null,
   "metadata": {},
   "outputs": [],
   "source": [
    "from sympy.core.expr import Expr\n",
    "from typing import cast\n",
    "from QHyper.hyperparameter_gen.parser import Expression\n",
    "\n",
    "\n",
    "equation: Expr = cast(Expr, 0)\n",
    "cross_out = [[0 for _ in range(len(G.nodes))] for _ in range(len(G.nodes))]\n",
    "for i in G.nodes():\n",
    "    for j in G.nodes():\n",
    "        if i==j:\n",
    "            continue\n",
    "        if cross_out[i][j] != 0:\n",
    "            continue\n",
    "        u_var, v_var = variables[i], variables[j]\n",
    "        print(u_var, v_var, i, j)\n",
    "        equation += u_var*v_var*brain.B[i,j]\n",
    "        cross_out[i][j] = 1\n",
    "print(\"done\")\n",
    "equation *= -1\n",
    "print(\"done\")\n",
    "\n",
    "# brain.objective_function = Expression(equation)"
   ]
  },
  {
   "cell_type": "code",
   "execution_count": null,
   "metadata": {},
   "outputs": [],
   "source": [
    "equation_expression = Expression(equation)"
   ]
  },
  {
   "cell_type": "code",
   "execution_count": null,
   "metadata": {},
   "outputs": [],
   "source": [
    "brain.objective_function = equation_expression"
   ]
  },
  {
   "cell_type": "code",
   "execution_count": null,
   "metadata": {},
   "outputs": [],
   "source": [
    "from QHyper.solvers.dqm import DQM\n",
    "\n",
    "\n",
    "brain_dqm = DQM(brain, 5)\n",
    "# brain_sampleset = brain_dqm.solve()"
   ]
  },
  {
   "cell_type": "code",
   "execution_count": null,
   "metadata": {},
   "outputs": [],
   "source": [
    "equation_expression.as_dict()\n"
   ]
  },
  {
   "cell_type": "code",
   "execution_count": null,
   "metadata": {},
   "outputs": [],
   "source": [
    "brain_sampleset = brain_dqm.solve()"
   ]
  },
  {
   "cell_type": "code",
   "execution_count": null,
   "metadata": {},
   "outputs": [],
   "source": [
    "brain_sampleset.first.sample"
   ]
  },
  {
   "cell_type": "code",
   "execution_count": null,
   "metadata": {},
   "outputs": [],
   "source": [
    "import numpy as np\n",
    "\n",
    "\n",
    "samples = brain_sampleset\n",
    "sample = samples.first.sample\n",
    "energy = samples.first.energy\n",
    "run_time=(samples.info['run_time'])*0.001\n",
    "\n",
    "communities=[]\n",
    "for k in (range(brain.num_cases)):\n",
    "    comm=[]\n",
    "    for i in sample:\n",
    "        if sample[i]==k:\n",
    "            comm.append(i)\n",
    "    communities.append(set(comm))\n",
    "\n",
    "counts = np.zeros(brain.num_cases)\n",
    "for s in sample.values():\n",
    "    counts[s] += 1\n",
    "\n",
    "print(sample)"
   ]
  },
  {
   "cell_type": "code",
   "execution_count": null,
   "metadata": {},
   "outputs": [],
   "source": [
    "output_folder = \"./demo_output\"\n",
    "results = communities, run_time, energy, counts, sample\n",
    "brain.plot_results(output_folder, results)"
   ]
  }
 ],
 "metadata": {
  "language_info": {
   "name": "python"
  },
  "orig_nbformat": 4
 },
 "nbformat": 4,
 "nbformat_minor": 2
}
