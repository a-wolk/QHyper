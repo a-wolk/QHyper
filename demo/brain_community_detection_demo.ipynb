{
 "cells": [
  {
   "attachments": {},
   "cell_type": "markdown",
   "metadata": {},
   "source": [
    "### MaxCut"
   ]
  },
  {
   "attachments": {},
   "cell_type": "markdown",
   "metadata": {},
   "source": [
    "##### CQM"
   ]
  },
  {
   "cell_type": "code",
   "execution_count": 16,
   "metadata": {},
   "outputs": [
    {
     "data": {
      "text/plain": [
       "2*x0*x1 + 2*x0*x2 - 2*x0 + 2*x1*x3 - 2*x1 + 2*x2*x3 + 2*x2*x4 - 3*x2 + 2*x3*x4 - 3*x3 - 2*x4"
      ]
     },
     "execution_count": 16,
     "metadata": {},
     "output_type": "execute_result"
    }
   ],
   "source": [
    "from QHyper.problems.brain_community_detection import MaxCut, MaxCutProblem\n",
    "\n",
    "\n",
    "max_cut = MaxCut()\n",
    "max_cut.create_sample_graph()\n",
    "\n",
    "max_cut_problem = MaxCutProblem(max_cut)\n",
    "max_cut_problem.objective_function\n"
   ]
  },
  {
   "cell_type": "code",
   "execution_count": null,
   "metadata": {},
   "outputs": [],
   "source": [
    "from QHyper.solvers.cqm import CQM\n",
    "\n",
    "\n",
    "max_cut_cqm = CQM(max_cut_problem, 5)\n",
    "max_cut_samples = max_cut_cqm.solve()"
   ]
  },
  {
   "cell_type": "code",
   "execution_count": null,
   "metadata": {},
   "outputs": [
    {
     "data": {
      "text/plain": [
       "{'x0': 0.0, 'x1': 1.0, 'x2': 1.0, 'x3': 0.0, 'x4': 1.0}"
      ]
     },
     "metadata": {},
     "output_type": "display_data"
    }
   ],
   "source": [
    "max_cut_samples"
   ]
  },
  {
   "cell_type": "code",
   "execution_count": null,
   "metadata": {},
   "outputs": [
    {
     "name": "stdout",
     "output_type": "stream",
     "text": [
      "{1: 0.0, 2: 1.0, 3: 1.0, 4: 0.0, 5: 1.0}\n",
      "\n",
      "Your plot is saved to maxcut_plot.png\n"
     ]
    },
    {
     "name": "stderr",
     "output_type": "stream",
     "text": [
      "C:\\Users\\basia\\AppData\\Local\\Temp\\ipykernel_19032\\1535195974.py:28: UserWarning: Matplotlib is currently using agg, which is a non-GUI backend, so cannot show the figure.\n",
      "  plt.show()\n"
     ]
    }
   ],
   "source": [
    "import networkx as nx\n",
    "\n",
    "import matplotlib\n",
    "# matplotlib.use(\"agg\")\n",
    "from matplotlib import pyplot as plt\n",
    "\n",
    "plt.cla()\n",
    "\n",
    "G = max_cut_problem.max_cut_graph\n",
    "S0 = [i+1 for i, val in enumerate(max_cut_samples.values()) if val == 0]\n",
    "S1 = [i+1 for i, val in enumerate(max_cut_samples.values()) if val == 1]\n",
    "lut = {i+1: val for i, val in enumerate(max_cut_samples.values())}\n",
    "print(lut)\n",
    "cut_edges = [(u, v) for u, v in G.edges if lut[u]!=lut[v]]\n",
    "uncut_edges = [(u, v) for u, v in G.edges if lut[u]==lut[v]]\n",
    "\n",
    "pos = nx.spring_layout(G)\n",
    "nx.draw_networkx_nodes(G, pos, nodelist=S0, node_color='r')\n",
    "nx.draw_networkx_nodes(G, pos, nodelist=S1, node_color='c')\n",
    "nx.draw_networkx_edges(G, pos, edgelist=cut_edges, style='dashdot', alpha=0.5, width=3)\n",
    "nx.draw_networkx_edges(G, pos, edgelist=uncut_edges, style='solid', width=3)\n",
    "nx.draw_networkx_labels(G, pos)\n",
    "\n",
    "\n",
    "filename = \"./demo_output/maxcut_cqm_plot.png\"\n",
    "plt.savefig(filename, bbox_inches='tight')\n",
    "print(\"\\nYour plot is saved to {}\".format(filename))\n",
    "plt.show()"
   ]
  },
  {
   "attachments": {},
   "cell_type": "markdown",
   "metadata": {},
   "source": [
    "##### DQM"
   ]
  },
  {
   "cell_type": "code",
   "execution_count": 17,
   "metadata": {},
   "outputs": [
    {
     "data": {
      "text/plain": [
       "2*x0*x1 + 2*x0*x2 - 2*x0 + 2*x1*x3 - 2*x1 + 2*x2*x3 + 2*x2*x4 - 3*x2 + 2*x3*x4 - 3*x3 - 2*x4"
      ]
     },
     "execution_count": 17,
     "metadata": {},
     "output_type": "execute_result"
    }
   ],
   "source": [
    "from QHyper.problems.brain_community_detection import MaxCut, MaxCutProblem\n",
    "\n",
    "\n",
    "max_cut = MaxCut()\n",
    "max_cut.create_sample_graph()\n",
    "\n",
    "max_cut_problem = MaxCutProblem(max_cut)\n",
    "max_cut_problem.objective_function"
   ]
  },
  {
   "cell_type": "code",
   "execution_count": 12,
   "metadata": {},
   "outputs": [],
   "source": [
    "from QHyper.solvers.dqm import DQM\n",
    "\n",
    "\n",
    "max_cut_dqm = DQM(max_cut_problem, 5)\n",
    "max_cut_sampleset = max_cut_dqm.solve()"
   ]
  },
  {
   "cell_type": "code",
   "execution_count": 13,
   "metadata": {},
   "outputs": [],
   "source": [
    "res = max_cut_sampleset.first.sample"
   ]
  },
  {
   "cell_type": "code",
   "execution_count": 14,
   "metadata": {},
   "outputs": [
    {
     "data": {
      "text/plain": [
       "{'x0': 0, 'x1': 1, 'x2': 1, 'x3': 0, 'x4': 1}"
      ]
     },
     "execution_count": 14,
     "metadata": {},
     "output_type": "execute_result"
    }
   ],
   "source": [
    "res"
   ]
  },
  {
   "cell_type": "code",
   "execution_count": 15,
   "metadata": {},
   "outputs": [
    {
     "name": "stdout",
     "output_type": "stream",
     "text": [
      "{1: 0, 2: 1, 3: 1, 4: 0, 5: 1}\n",
      "\n",
      "Your plot is saved to maxcut_dqm_plot.png\n"
     ]
    },
    {
     "name": "stderr",
     "output_type": "stream",
     "text": [
      "C:\\Users\\basia\\AppData\\Local\\Temp\\ipykernel_636\\2949730589.py:28: UserWarning: Matplotlib is currently using agg, which is a non-GUI backend, so cannot show the figure.\n",
      "  plt.show()\n"
     ]
    }
   ],
   "source": [
    "import networkx as nx\n",
    "\n",
    "import matplotlib\n",
    "# matplotlib.use(\"agg\")\n",
    "from matplotlib import pyplot as plt\n",
    "\n",
    "plt.cla()\n",
    "\n",
    "G = max_cut_problem.max_cut_graph\n",
    "S0 = [i+1 for i, val in enumerate(res.values()) if val == 0]\n",
    "S1 = [i+1 for i, val in enumerate(res.values()) if val == 1]\n",
    "lut = {i+1: val for i, val in enumerate(res.values())}\n",
    "print(lut)\n",
    "cut_edges = [(u, v) for u, v in G.edges if lut[u]!=lut[v]]\n",
    "uncut_edges = [(u, v) for u, v in G.edges if lut[u]==lut[v]]\n",
    "\n",
    "pos = nx.spring_layout(G)\n",
    "nx.draw_networkx_nodes(G, pos, nodelist=S0, node_color='r')\n",
    "nx.draw_networkx_nodes(G, pos, nodelist=S1, node_color='c')\n",
    "nx.draw_networkx_edges(G, pos, edgelist=cut_edges, style='dashdot', alpha=0.5, width=3)\n",
    "nx.draw_networkx_edges(G, pos, edgelist=uncut_edges, style='solid', width=3)\n",
    "nx.draw_networkx_labels(G, pos)\n",
    "\n",
    "\n",
    "filename = \"./demo_output/maxcut_dqm_plot.png\"\n",
    "plt.savefig(filename, bbox_inches='tight')\n",
    "print(\"\\nYour plot is saved to {}\".format(filename))\n",
    "plt.show()"
   ]
  },
  {
   "attachments": {},
   "cell_type": "markdown",
   "metadata": {},
   "source": [
    "##### QUBO experiments"
   ]
  },
  {
   "cell_type": "code",
   "execution_count": null,
   "metadata": {},
   "outputs": [],
   "source": [
    "from QHyper.solvers.converter import Converter\n",
    "\n",
    "\n",
    "cut_qubo = Converter.to_qubo(max_cut_problem)"
   ]
  },
  {
   "cell_type": "code",
   "execution_count": null,
   "metadata": {},
   "outputs": [
    {
     "data": {
      "text/plain": [
       "({('x0', 'x1'): 2.0,\n",
       "  ('x2', 'x0'): 2.0,\n",
       "  ('x3', 'x1'): 2.0,\n",
       "  ('x3', 'x2'): 2.0,\n",
       "  ('x4', 'x2'): 2.0,\n",
       "  ('x4', 'x3'): 2.0,\n",
       "  ('x1', 'x1'): -2.0,\n",
       "  ('x0', 'x0'): -2.0,\n",
       "  ('x2', 'x2'): -3.0,\n",
       "  ('x3', 'x3'): -3.0,\n",
       "  ('x4', 'x4'): -2.0},\n",
       " 0.0)"
      ]
     },
     "metadata": {},
     "output_type": "display_data"
    }
   ],
   "source": [
    "cut_qubo"
   ]
  },
  {
   "cell_type": "code",
   "execution_count": null,
   "metadata": {},
   "outputs": [],
   "source": [
    "import dimod\n",
    "\n",
    "\n",
    "binary_polynomial = dimod.BinaryPolynomial(max_cut_problem.objective_function.as_dict(), dimod.BINARY)"
   ]
  },
  {
   "cell_type": "code",
   "execution_count": null,
   "metadata": {},
   "outputs": [
    {
     "data": {
      "text/plain": [
       "BinaryPolynomial({frozenset({'x1', 'x0'}): 2, frozenset({'x0', 'x2'}): 2, frozenset({'x0'}): -2, frozenset({'x1', 'x3'}): 2, frozenset({'x1'}): -2, frozenset({'x3', 'x2'}): 2, frozenset({'x4', 'x2'}): 2, frozenset({'x2'}): -3, frozenset({'x4', 'x3'}): 2, frozenset({'x3'}): -3, frozenset({'x4'}): -2}, 'BINARY')"
      ]
     },
     "metadata": {},
     "output_type": "display_data"
    }
   ],
   "source": [
    "binary_polynomial"
   ]
  }
 ],
 "metadata": {
  "kernelspec": {
   "display_name": "Python 3",
   "language": "python",
   "name": "python3"
  },
  "language_info": {
   "codemirror_mode": {
    "name": "ipython",
    "version": 3
   },
   "file_extension": ".py",
   "mimetype": "text/x-python",
   "name": "python",
   "nbconvert_exporter": "python",
   "pygments_lexer": "ipython3",
   "version": "3.10.11"
  },
  "orig_nbformat": 4
 },
 "nbformat": 4,
 "nbformat_minor": 2
}
