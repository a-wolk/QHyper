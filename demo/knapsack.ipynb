{
 "cells": [
  {
   "cell_type": "markdown",
   "metadata": {},
   "source": [
    "## Knapsack problem"
   ]
  },
  {
   "attachments": {},
   "cell_type": "markdown",
   "metadata": {},
   "source": [
    "### Create knapsack problem"
   ]
  },
  {
   "cell_type": "code",
   "execution_count": 6,
   "metadata": {},
   "outputs": [
    {
     "name": "stdout",
     "output_type": "stream",
     "text": [
      "<QHyper.problems.knapsack.KnapsackProblem object at 0x7f684b0fc490>\n"
     ]
    }
   ],
   "source": [
    "from QHyper.problems.knapsack import KnapsackProblem\n",
    "\n",
    "knapsack = KnapsackProblem(max_weight=1, items=[(1, 2), (1, 1)])\n",
    "print(knapsack)"
   ]
  },
  {
   "cell_type": "code",
   "execution_count": 2,
   "metadata": {},
   "outputs": [
    {
     "name": "stdout",
     "output_type": "stream",
     "text": [
      "Variables: (x0, x1, x2)\n",
      "Objective function: -2*x0 - x1\n",
      "Constraints:\n",
      "    1 - x2\n",
      "    -x0 - x1 + x2\n"
     ]
    }
   ],
   "source": [
    "print(f\"Variables: {knapsack.variables}\")\n",
    "print(f\"Objective function: {knapsack.objective_function}\")\n",
    "print(\"Constraints:\")\n",
    "for constraint in knapsack.constraints:\n",
    "    print(f\"    {constraint}\")"
   ]
  },
  {
   "attachments": {},
   "cell_type": "markdown",
   "metadata": {},
   "source": [
    "### Use VQA to solve knapsack problem"
   ]
  },
  {
   "cell_type": "code",
   "execution_count": 3,
   "metadata": {},
   "outputs": [],
   "source": [
    "import numpy as np\n",
    "\n",
    "from QHyper.solvers.vqa.base import VQA\n",
    "from QHyper.solvers.vqa import QAOA, HQAOA"
   ]
  },
  {
   "cell_type": "code",
   "execution_count": 4,
   "metadata": {},
   "outputs": [],
   "source": [
    "tester_config = {\n",
    "    'pqc': {\n",
    "        'type': 'wfqaoa',\n",
    "        'layers': 5,\n",
    "    }\n",
    "}\n",
    "\n",
    "tester = VQA(knapsack, config=tester_config)"
   ]
  },
  {
   "cell_type": "code",
   "execution_count": 5,
   "metadata": {},
   "outputs": [
    {
     "name": "stdout",
     "output_type": "stream",
     "text": [
      "{'angles': array([3.3026823 , 0.09691683, 1.09066138, 1.71285687, 4.16481097,\n",
      "       1.36254617, 0.43401708, 0.8264723 , 0.03092491, 2.31893417]), 'hyper_args': array([1.60097218, 2.95596484, 5.05887729])}\n",
      "-0.9371467822716899\n"
     ]
    }
   ],
   "source": [
    "solver_config = {\n",
    "    'pqc': {\n",
    "        'type': 'hqaoa',\n",
    "        'layers': 5,\n",
    "    },\n",
    "    'optimizer': {\n",
    "        'type': 'scipy',\n",
    "        'maxfun': 200,\n",
    "        'bounds': [(1, 10)]*3+[(0, 2*np.pi)]*10\n",
    "    },\n",
    "}\n",
    "params_cofing = {\n",
    "    'angles': [[0.5]*5, [1]*5],\n",
    "    'hyper_args': [1, 2.5, 2.5],\n",
    "}\n",
    "\n",
    "vqa = VQA(knapsack, config=solver_config)\n",
    "best_params = vqa.solve(params_cofing)\n",
    "print(best_params)\n",
    "print(tester.evaluate(best_params))"
   ]
  },
  {
   "cell_type": "code",
   "execution_count": 5,
   "metadata": {},
   "outputs": [],
   "source": [
    "solver_config = {\n",
    "    'pqc': {\n",
    "        'type': 'qaoa',\n",
    "        'layers': 5,\n",
    "    },\n",
    "    # 'optimizer': {\n",
    "    #     'type': 'scipy',\n",
    "    #     'maxfun': 200,\n",
    "    #     'bounds': [(0, 2*np.pi)]*10\n",
    "    # },\n",
    "}\n",
    "\n",
    "params_cofing = {\n",
    "    'angles': [[0.5]*5, [1]*5],\n",
    "    'hyper_args': [1, 2, 2],\n",
    "}\n",
    "\n",
    "vqa = VQA(knapsack, config=solver_config)\n",
    "best_params = vqa.evaluate(params_cofing)"
   ]
  },
  {
   "cell_type": "code",
   "execution_count": 7,
   "metadata": {},
   "outputs": [
    {
     "name": "stdout",
     "output_type": "stream",
     "text": [
      "{'angles': array([[6.20194141, 5.82250628, 1.92747774, 4.20412212, 0.        ],\n",
      "       [5.83373888, 6.28318531, 5.90484631, 6.248782  , 1.66597206]]), 'hyper_args': [1, 2.5, 2.5]}\n",
      "-1.0037254325767708\n"
     ]
    }
   ],
   "source": [
    "#WFQAOA\n",
    "print(best_params)\n",
    "print(tester.evaluate(best_params))"
   ]
  },
  {
   "cell_type": "code",
   "execution_count": 8,
   "metadata": {},
   "outputs": [
    {
     "name": "stdout",
     "output_type": "stream",
     "text": [
      "{'angles': array([[6.20194141, 5.82250628, 1.92747774, 4.20412212, 0.        ],\n",
      "       [5.83373888, 6.28318531, 5.90484631, 6.248782  , 1.66597206]]), 'hyper_args': [1, 2.5, 2.5]}\n",
      "-1.0037254325767708\n"
     ]
    }
   ],
   "source": [
    "#QAOA\n",
    "print(best_params)\n",
    "print(tester.evaluate(best_params))"
   ]
  },
  {
   "cell_type": "code",
   "execution_count": 6,
   "metadata": {},
   "outputs": [
    {
     "name": "stdout",
     "output_type": "stream",
     "text": [
      "{'angles': array([2.83711847e+00, 1.97940203e-01, 1.07858283e+00, 1.63047414e+00,\n",
      "       4.04555732e+00, 1.35028794e+00, 5.49151498e-01, 8.21588171e-01,\n",
      "       9.77277636e-04, 2.20975660e+00]), 'hyper_args': array([1.31189481, 2.95215395, 3.76936221])}\n",
      "-0.9657474465012011\n"
     ]
    }
   ],
   "source": [
    "#HQAOA\n",
    "print(best_params)\n",
    "print(tester.evaluate(best_params))"
   ]
  },
  {
   "cell_type": "code",
   "execution_count": 7,
   "metadata": {},
   "outputs": [
    {
     "name": "stdout",
     "output_type": "stream",
     "text": [
      "{'angles': array([2.83711847e+00, 1.97940203e-01, 1.07858283e+00, 1.63047414e+00,\n",
      "       4.04555732e+00, 1.35028794e+00, 5.49151498e-01, 8.21588171e-01,\n",
      "       9.77277636e-04, 2.20975660e+00]), 'hyper_args': array([1.31189481, 2.95215395, 3.76936221])}\n"
     ]
    }
   ],
   "source": []
  },
  {
   "cell_type": "code",
   "execution_count": 5,
   "metadata": {},
   "outputs": [
    {
     "name": "stdout",
     "output_type": "stream",
     "text": [
      "{'angles': array([[1.64230366, 0.08750879, 0.        , 0.12854769, 2.49365561],\n",
      "       [0.93907822, 0.62299303, 1.10213747, 0.41506598, 1.45096723]]), 'hyper_args': [1, 2.5, 2.5]}\n"
     ]
    }
   ],
   "source": [
    "print(best_params)"
   ]
  },
  {
   "cell_type": "code",
   "execution_count": 5,
   "metadata": {},
   "outputs": [
    {
     "name": "stdout",
     "output_type": "stream",
     "text": [
      "{'angles': array([[6.20194141, 5.82250628, 1.92747774, 4.20412212, 0.        ],\n",
      "       [5.83373888, 6.28318531, 5.90484631, 6.248782  , 1.66597206]]), 'hyper_args': [1, 2.5, 2.5]}\n"
     ]
    }
   ],
   "source": [
    "print(best_params)"
   ]
  },
  {
   "cell_type": "code",
   "execution_count": 17,
   "metadata": {},
   "outputs": [
    {
     "name": "stdout",
     "output_type": "stream",
     "text": [
      "Best results: -1.2280236880975992\n",
      "Params used for optimizer: [[6.20194141 5.82250628 1.92747774 4.20412212 0.        ]\n",
      " [5.83373888 6.28318531 5.90484631 6.248782   1.66597206]],\n",
      "and params used for hyper optimizer: [1.  2.5 2.5]\n"
     ]
    }
   ],
   "source": [
    "print(f\"Best results: {best_result}\")\n",
    "print(f\"Params used for optimizer: {optimizer_params},\\nand params used for hyper optimizer: {hyper_params}\")\n",
    "# We haven't use hyper optimizer and qaoa only optimize angles, hence hyperparameters are the same as provided"
   ]
  },
  {
   "cell_type": "code",
   "execution_count": 15,
   "metadata": {},
   "outputs": [
    {
     "name": "stdout",
     "output_type": "stream",
     "text": [
      "Results are the same as above: -1.0037254325767708\n"
     ]
    }
   ],
   "source": [
    "params_cofing = {\n",
    "    'angles': optimizer_params,\n",
    "    'hyper_args': hyper_params,\n",
    "}\n",
    "# You can provide VQA with objects instead of cofinguration dict\n",
    "# Here we create VQA instance, without optimizer, which will results geting just a quantum circuit (no optimization inside)\n",
    "vqa = VQA(knapsack, QAOA(layers=5), None, WFEval())\n",
    "best_result, _, _ = vqa.solve(params_cofing)\n",
    "print(f\"Results are the same as above: {best_result}\")"
   ]
  },
  {
   "attachments": {},
   "cell_type": "markdown",
   "metadata": {},
   "source": [
    "#### Using hyper optimizers"
   ]
  },
  {
   "cell_type": "code",
   "execution_count": 7,
   "metadata": {},
   "outputs": [
    {
     "name": "stderr",
     "output_type": "stream",
     "text": [
      "100%|██████████| 100/100 [26:24<00:00, 15.84s/it]\n"
     ]
    }
   ],
   "source": [
    "from QHyper.optimizers.random import Random\n",
    "\n",
    "solver_config = {\n",
    "    'pqc': {\n",
    "        'type': 'qaoa',\n",
    "        'layers': 5,\n",
    "    },\n",
    "    'optimizer': {\n",
    "        'type': 'scipy',\n",
    "        'maxfun': 200\n",
    "    },\n",
    "    'eval_func': {\n",
    "        'type': 'expval'\n",
    "    }\n",
    "}\n",
    "params_cofing = {\n",
    "    'angles': [[0.5]*5, [1]*5],\n",
    "    'hyper_args': [1, 2.5, 2.5],\n",
    "}\n",
    "vqa = VQA(knapsack, config=solver_config)\n",
    "\n",
    "random = Random(processes=5, number_of_samples=100, bounds=[[1, 10], [1, 10], [1, 10]])\n",
    "best_result_h, optimizer_params_h, hyper_params_h = vqa.solve(params_cofing, random)"
   ]
  },
  {
   "cell_type": "code",
   "execution_count": 8,
   "metadata": {},
   "outputs": [
    {
     "name": "stdout",
     "output_type": "stream",
     "text": [
      "Best results from hyper optimizer: -41.0438258707136\n",
      "Params used for optimizer: [[0.0238681  5.89321814 6.17761962 0.         2.6826312 ]\n",
      " [0.         0.55771513 0.13841942 6.11464352 6.0394204 ]],\n",
      "and params used for hyper optimizer: [9.41620504 4.94209924 2.11245363]\n"
     ]
    }
   ],
   "source": [
    "print(f\"Best results from hyper optimizer: {best_result_h}\")\n",
    "print(f\"Params used for optimizer: {optimizer_params_h},\\nand params used for hyper optimizer: {hyper_params_h}\")"
   ]
  },
  {
   "cell_type": "code",
   "execution_count": 9,
   "metadata": {},
   "outputs": [
    {
     "name": "stdout",
     "output_type": "stream",
     "text": [
      "Results are the same as above: -0.06004883742587043\n"
     ]
    }
   ],
   "source": [
    "params_cofing = {\n",
    "    'angles': optimizer_params_h,\n",
    "    'hyper_args': hyper_params_h,\n",
    "}\n",
    "# You can provide VQA with objects instead of cofinguration dict\n",
    "# Here we create VQA instance, without optimizer, which will results geting just a quantum circuit (no optimization inside)\n",
    "vqa = VQA(knapsack, QAOA(layers=5), None, WFEval())\n",
    "best_result, _, _ = vqa.solve(params_cofing)\n",
    "print(f\"Results are the same as above: {best_result}\")"
   ]
  }
 ],
 "metadata": {
  "kernelspec": {
   "display_name": "Python 3.10.6 ('venv': venv)",
   "language": "python",
   "name": "python3"
  },
  "language_info": {
   "codemirror_mode": {
    "name": "ipython",
    "version": 3
   },
   "file_extension": ".py",
   "mimetype": "text/x-python",
   "name": "python",
   "nbconvert_exporter": "python",
   "pygments_lexer": "ipython3",
   "version": "3.10.6"
  },
  "orig_nbformat": 4,
  "vscode": {
   "interpreter": {
    "hash": "59ddf9d140262b8237ab82f293175fe16bdb83dcbb2d03089c8be0234363df8c"
   }
  }
 },
 "nbformat": 4,
 "nbformat_minor": 2
}
