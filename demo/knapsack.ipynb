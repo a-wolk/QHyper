{
 "cells": [
  {
   "attachments": {},
   "cell_type": "markdown",
   "metadata": {},
   "source": [
    "## Knapsack problem"
   ]
  },
  {
   "attachments": {},
   "cell_type": "markdown",
   "metadata": {},
   "source": [
    "### Create knapsack problem"
   ]
  },
  {
   "cell_type": "code",
   "execution_count": 2,
   "metadata": {},
   "outputs": [
    {
     "name": "stdout",
     "output_type": "stream",
     "text": [
      "[Item(weight=1, value=2), Item(weight=1, value=2), Item(weight=1, value=1)]\n"
     ]
    }
   ],
   "source": [
    "from QHyper.problems.knapsack import KnapsackProblem\n",
    "\n",
    "# Create knapsack with 3 items: 2 with weights 1 and value 2 - (1, 2),\n",
    "# and one with weight 1 and value 1 - (1, 1)\n",
    "knapsack = KnapsackProblem(max_weight=2, items=[(1, 2), (1, 2),(1, 1)])\n",
    "print(knapsack.knapsack.items)"
   ]
  },
  {
   "cell_type": "code",
   "execution_count": 3,
   "metadata": {},
   "outputs": [
    {
     "name": "stdout",
     "output_type": "stream",
     "text": [
      "Variables used to describe objective functionand constraints: (x0, x1, x2, x3, x4)\n",
      "Objective function: -2*x0 - 2*x1 - x2\n",
      "Constraints:\n",
      "    -x3 - x4 + 1\n",
      "    -x0 - x1 - x2 + x3 + 2*x4\n"
     ]
    }
   ],
   "source": [
    "print(f\"Variables used to describe objective function\"\n",
    "      f\"and constraints: {knapsack.variables}\")\n",
    "print(f\"Objective function: {knapsack.objective_function}\")\n",
    "print(\"Constraints:\")\n",
    "for constraint in knapsack.constraints:\n",
    "    print(f\"    {constraint}\")"
   ]
  },
  {
   "attachments": {},
   "cell_type": "markdown",
   "metadata": {},
   "source": [
    "### Use VQA to solve knapsack problem"
   ]
  },
  {
   "cell_type": "code",
   "execution_count": 4,
   "metadata": {},
   "outputs": [],
   "source": [
    "import numpy as np\n",
    "\n",
    "from QHyper.solvers.vqa.base import VQA"
   ]
  },
  {
   "cell_type": "code",
   "execution_count": 6,
   "metadata": {},
   "outputs": [],
   "source": [
    "# Simple quantum circuit without optimzers will be used to test the results\n",
    "# WF-QAOA is choosen becasue this PQC has most suitable evaluation function\n",
    "\n",
    "tester_config = {\n",
    "    \"pqc\": {\n",
    "        \"type\": \"wfqaoa\",\n",
    "        \"layers\": 5,\n",
    "    }\n",
    "}\n",
    "\n",
    "tester = VQA(knapsack, config=tester_config)"
   ]
  },
  {
   "cell_type": "code",
   "execution_count": 8,
   "metadata": {},
   "outputs": [],
   "source": [
    "# Create a VQA instance with HQAOA as PQC and scipy optimizer\n",
    "# This can be done in two various way\n",
    "# 1. Providing dict with config (usefull to save experiment confing in e.g JSON)\n",
    "\n",
    "solver_config = {\n",
    "    'optimizer': {\n",
    "        'type': 'scipy',\n",
    "        'maxfun': 200,\n",
    "    },\n",
    "    \"pqc\": {\n",
    "        \"type\": \"hqaoa\",\n",
    "        \"layers\": 5,\n",
    "    },\n",
    "}\n",
    "vqa = VQA(knapsack, config=solver_config)\n",
    "\n",
    "# 2. Providing actual isntance of each class like VQA and Optimizer\n",
    "from QHyper.solvers.vqa.pqc.h_qaoa import HQAOA\n",
    "from QHyper.optimizers import ScipyOptimizer\n",
    "\n",
    "vqa = VQA(knapsack, HQAOA(layers=5), ScipyOptimizer(maxfun=200))"
   ]
  },
  {
   "cell_type": "code",
   "execution_count": 12,
   "metadata": {},
   "outputs": [
    {
     "name": "stdout",
     "output_type": "stream",
     "text": [
      "Best params: {'angles': array([2.83711847e+00, 1.97940203e-01, 1.07858283e+00, 1.63047414e+00,\n",
      "       4.04555732e+00, 1.35028794e+00, 5.49151498e-01, 8.21588171e-01,\n",
      "       9.77277636e-04, 2.20975660e+00]), 'hyper_args': array([1.31189481, 2.95215395, 3.76936221])}\n"
     ]
    }
   ],
   "source": [
    "# Run VQA with provided initial parameters\n",
    "\n",
    "params_cofing = {\n",
    "    'angles': [[0.5]*5, [1]*5],\n",
    "    'hyper_args': [1, 2.5, 2.5],\n",
    "}\n",
    "best_params = vqa.solve(params_cofing)\n",
    "print(f\"Best params: {best_params}\")"
   ]
  },
  {
   "cell_type": "code",
   "execution_count": 13,
   "metadata": {},
   "outputs": [
    {
     "name": "stdout",
     "output_type": "stream",
     "text": [
      "Best results: -0.9657474465012011\n",
      "Params used for optimizer:\n",
      "[2.83711847e+00 1.97940203e-01 1.07858283e+00 1.63047414e+00\n",
      " 4.04555732e+00 1.35028794e+00 5.49151498e-01 8.21588171e-01\n",
      " 9.77277636e-04 2.20975660e+00],\n",
      "and params used for hyper optimizer: [1.31189481 2.95215395 3.76936221]\n"
     ]
    }
   ],
   "source": [
    "# Here created ealier tester will be used to evaluate results\n",
    "\n",
    "best_results = tester.evaluate(best_params)\n",
    "print(f\"Best results: {best_results}\")\n",
    "print(f\"Params used for optimizer:\\n{best_params['angles']},\\n\"\n",
    "      f\"and params used for hyper optimizer: {best_params['hyper_args']}\")"
   ]
  },
  {
   "attachments": {},
   "cell_type": "markdown",
   "metadata": {},
   "source": [
    "#### Using hyper optimizers"
   ]
  },
  {
   "cell_type": "code",
   "execution_count": 18,
   "metadata": {},
   "outputs": [
    {
     "name": "stderr",
     "output_type": "stream",
     "text": [
      "100%|██████████| 100/100 [06:24<00:00,  3.85s/it]\n"
     ]
    }
   ],
   "source": [
    "# Additionally other optimizer can be used to tune some parameters, in below\n",
    "# example, Random optimzier will change weights (hyper_args) and choose ones\n",
    "# that gives the best results after runnign 200 iteration of scipy minimizer\n",
    "\n",
    "from QHyper.optimizers.random import Random\n",
    "\n",
    "solver_config = {\n",
    "    'pqc': {\n",
    "        'type': 'hqaoa',\n",
    "        'layers': 5,\n",
    "    },\n",
    "    'optimizer': {\n",
    "        'type': 'scipy',\n",
    "        'maxfun': 200\n",
    "    }\n",
    "}\n",
    "params_cofing = {\n",
    "    \"angles\": [[0.5] * 5, [1] * 5],\n",
    "    \"hyper_args\": [1, 2.5, 2.5],\n",
    "}\n",
    "vqa = VQA(knapsack, config=solver_config)\n",
    "\n",
    "random = Random(processes=5, number_of_samples=100, bounds=[[1, 10], [1, 10], [1, 10]])\n",
    "best_params_h = vqa.solve(params_cofing, random)"
   ]
  },
  {
   "cell_type": "code",
   "execution_count": 19,
   "metadata": {},
   "outputs": [
    {
     "name": "stdout",
     "output_type": "stream",
     "text": [
      "Best results: -2.0780820817153285\n",
      "Params used for optimizer:\n",
      "[0.57802023 0.44967026 0.39974621 0.61983699 0.52300296 0.99195499\n",
      " 0.97691219 1.21249674 1.31225575 0.99615924],\n",
      "and params used for hyper optimizer: [1.31189481 2.95215395 3.76936221]\n"
     ]
    }
   ],
   "source": [
    "# Again, final results will be evaluated with tester\n",
    "\n",
    "best_results = tester.evaluate(best_params_h)\n",
    "print(f\"Best results: {best_results}\")\n",
    "print(f\"Params used for optimizer:\\n{best_params_h['angles']},\\n\"\n",
    "      f\"and params used for hyper optimizer: {best_params['hyper_args']}\")"
   ]
  }
 ],
 "metadata": {
  "kernelspec": {
   "display_name": "Python 3.10.6 ('venv': venv)",
   "language": "python",
   "name": "python3"
  },
  "language_info": {
   "codemirror_mode": {
    "name": "ipython",
    "version": 3
   },
   "file_extension": ".py",
   "mimetype": "text/x-python",
   "name": "python",
   "nbconvert_exporter": "python",
   "pygments_lexer": "ipython3",
   "version": "3.10.6"
  },
  "orig_nbformat": 4,
  "vscode": {
   "interpreter": {
    "hash": "59ddf9d140262b8237ab82f293175fe16bdb83dcbb2d03089c8be0234363df8c"
   }
  }
 },
 "nbformat": 4,
 "nbformat_minor": 2
}
