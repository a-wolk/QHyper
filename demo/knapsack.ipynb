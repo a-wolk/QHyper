{
 "cells": [
  {
   "cell_type": "markdown",
   "metadata": {},
   "source": [
    "## Knapsack problem"
   ]
  },
  {
   "attachments": {},
   "cell_type": "markdown",
   "metadata": {},
   "source": [
    "### Create knapsack problem"
   ]
  },
  {
   "cell_type": "code",
   "execution_count": 26,
   "metadata": {},
   "outputs": [],
   "source": [
    "from QHyper.problems.knapsack import KnapsackProblem\n",
    "\n",
    "knapsack = KnapsackProblem(max_weight=2, items=[(1, 2), (1, 2), (1, 1)])"
   ]
  },
  {
   "cell_type": "code",
   "execution_count": 27,
   "metadata": {},
   "outputs": [
    {
     "name": "stdout",
     "output_type": "stream",
     "text": [
      "Variables: (x0, x1, x2, x3, x4)\n",
      "Objective function: -2*x0 - 2*x1 - x2\n",
      "Constraints:\n",
      "    -x3 - x4 + 1\n",
      "    -x0 - x1 - x2 + x3 + 2*x4\n"
     ]
    }
   ],
   "source": [
    "print(f\"Variables: {knapsack.variables}\")\n",
    "print(f\"Objective function: {knapsack.objective_function}\")\n",
    "print(\"Constraints:\")\n",
    "for constraint in knapsack.constraints:\n",
    "    print(f\"    {constraint}\")"
   ]
  },
  {
   "attachments": {},
   "cell_type": "markdown",
   "metadata": {},
   "source": [
    "### Use VQA to solve knapsack problem"
   ]
  },
  {
   "cell_type": "code",
   "execution_count": 28,
   "metadata": {},
   "outputs": [],
   "source": [
    "from QHyper.solvers.vqa.base import VQA\n",
    "from QHyper.solvers.vqa import WFEval, QAOA"
   ]
  },
  {
   "cell_type": "code",
   "execution_count": 29,
   "metadata": {},
   "outputs": [],
   "source": [
    "solver_config = {\n",
    "    'pqc': {\n",
    "        'type': 'qaoa',\n",
    "        'layers': 5,\n",
    "    },\n",
    "    'optimizer': {\n",
    "        'type': 'scipy',\n",
    "        'maxfun': 200\n",
    "    },\n",
    "    'eval_func': {\n",
    "        'type': 'wfeval'\n",
    "    }\n",
    "}\n",
    "\n",
    "params_cofing = {\n",
    "    'angles': [[0.5]*5, [1]*5],\n",
    "    'hyper_args': [1, 2.5, 2.5],\n",
    "}\n",
    "\n",
    "vqa = VQA(knapsack, config=solver_config)\n",
    "best_result, optimizer_params, hyper_params = vqa.solve(params_cofing)"
   ]
  },
  {
   "cell_type": "code",
   "execution_count": 30,
   "metadata": {},
   "outputs": [
    {
     "name": "stdout",
     "output_type": "stream",
     "text": [
      "Best results: -1.7860315362678931\n",
      "Params used for optimizer: [[1.64230366 0.08750879 0.         0.12854769 2.49365561]\n",
      " [0.93907822 0.62299303 1.10213747 0.41506598 1.45096723]],\n",
      "and params used for hyper optimizer: [1.  2.5 2.5]\n"
     ]
    }
   ],
   "source": [
    "print(f\"Best results: {best_result}\")\n",
    "print(f\"Params used for optimizer: {optimizer_params},\\nand params used for hyper optimizer: {hyper_params}\")\n",
    "# We haven't use hyper optimizer and qaoa only optimize angles, hence hyperparameters are the same as provided"
   ]
  },
  {
   "cell_type": "code",
   "execution_count": 31,
   "metadata": {},
   "outputs": [
    {
     "name": "stdout",
     "output_type": "stream",
     "text": [
      "Results are the same as above: -1.7860315362678931\n"
     ]
    }
   ],
   "source": [
    "params_cofing = {\n",
    "    'angles': optimizer_params,\n",
    "    'hyper_args': hyper_params,\n",
    "}\n",
    "# You can provide VQA with objects instead of cofinguration dict\n",
    "# Here we create VQA instance, without optimizer, which will results geting just a quantum circuit (no optimization inside)\n",
    "vqa = VQA(knapsack, QAOA(layers=5), None, WFEval())\n",
    "best_result, _, _ = vqa.solve(params_cofing)\n",
    "print(f\"Results are the same as above: {best_result}\")"
   ]
  },
  {
   "attachments": {},
   "cell_type": "markdown",
   "metadata": {},
   "source": [
    "#### Using hyper optimizers"
   ]
  },
  {
   "cell_type": "code",
   "execution_count": 32,
   "metadata": {},
   "outputs": [
    {
     "name": "stderr",
     "output_type": "stream",
     "text": [
      "100%|██████████| 100/100 [05:17<00:00,  3.17s/it]\n"
     ]
    }
   ],
   "source": [
    "from QHyper.optimizers.random import Random\n",
    "\n",
    "solver_config = {\n",
    "    'pqc': {\n",
    "        'type': 'qaoa',\n",
    "        'layers': 5,\n",
    "    },\n",
    "    'optimizer': {\n",
    "        'type': 'scipy',\n",
    "        'maxfun': 200\n",
    "    },\n",
    "    'eval_func': {\n",
    "        'type': 'wfeval'\n",
    "    }\n",
    "}\n",
    "params_cofing = {\n",
    "    'angles': [[0.5]*5, [1]*5],\n",
    "    'hyper_args': [1, 2.5, 2.5],\n",
    "}\n",
    "vqa = VQA(knapsack, config=solver_config)\n",
    "\n",
    "random = Random(processes=5, number_of_samples=100, bounds=[[1, 10], [1, 10], [1, 10]])\n",
    "best_result_h, optimizer_params_h, hyper_params_h = vqa.solve(params_cofing, random)"
   ]
  },
  {
   "cell_type": "code",
   "execution_count": 33,
   "metadata": {},
   "outputs": [
    {
     "name": "stdout",
     "output_type": "stream",
     "text": [
      "Best results from hyper optimizer: -2.071104019770442\n",
      "Params used for optimizer: [[1.70219931 0.0446147  2.30214515 0.         5.2373898 ]\n",
      " [1.31195504 1.34393467 0.68683291 0.56937038 0.24570413]],\n",
      "and params used for hyper optimizer: [8.92903817 9.0915074  3.57538043]\n"
     ]
    }
   ],
   "source": [
    "print(f\"Best results from hyper optimizer: {best_result_h}\")\n",
    "print(f\"Params used for optimizer: {optimizer_params_h},\\nand params used for hyper optimizer: {hyper_params_h}\")"
   ]
  }
 ],
 "metadata": {
  "kernelspec": {
   "display_name": "Python 3.10.6 ('venv': venv)",
   "language": "python",
   "name": "python3"
  },
  "language_info": {
   "codemirror_mode": {
    "name": "ipython",
    "version": 3
   },
   "file_extension": ".py",
   "mimetype": "text/x-python",
   "name": "python",
   "nbconvert_exporter": "python",
   "pygments_lexer": "ipython3",
   "version": "3.10.6"
  },
  "orig_nbformat": 4,
  "vscode": {
   "interpreter": {
    "hash": "59ddf9d140262b8237ab82f293175fe16bdb83dcbb2d03089c8be0234363df8c"
   }
  }
 },
 "nbformat": 4,
 "nbformat_minor": 2
}
