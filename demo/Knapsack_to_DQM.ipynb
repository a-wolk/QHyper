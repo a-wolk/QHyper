{
 "cells": [
  {
   "attachments": {},
   "cell_type": "markdown",
   "id": "56103e31-e57b-4925-9afc-b2031aba4b7e",
   "metadata": {},
   "source": [
    "## Knapsack problem"
   ]
  },
  {
   "attachments": {},
   "cell_type": "markdown",
   "id": "db4846f0",
   "metadata": {},
   "source": [
    "#### DQM and CQM properties"
   ]
  },
  {
   "cell_type": "code",
   "execution_count": 45,
   "id": "6f571611-76d5-49f9-8a5f-2d198355eeaa",
   "metadata": {},
   "outputs": [
    {
     "name": "stdout",
     "output_type": "stream",
     "text": [
      "\n",
      "Knapsack objective func: -2*x0 - 2*x1 - x2\n",
      "Knapsack constraints:\n",
      "-x3 - x4 + 1\n",
      "-x0 - x1 - x2 + x3 + 2*x4\n",
      "\n",
      "--------Inside to_dqm--------\n",
      "i: 0, j: 0, var: x0, obj_var: x0-2\n",
      "i: 0, j: 1, var: x0, obj_var: x1-2\n",
      "i: 0, j: 2, var: x0, obj_var: x2-1\n",
      "i: 1, j: 0, var: x1, obj_var: x0-2\n",
      "i: 1, j: 1, var: x1, obj_var: x1-2\n",
      "i: 1, j: 2, var: x1, obj_var: x2-1\n",
      "i: 2, j: 0, var: x2, obj_var: x0-2\n",
      "i: 2, j: 1, var: x2, obj_var: x1-2\n",
      "i: 2, j: 2, var: x2, obj_var: x2-1\n",
      "i: 3, j: 0, var: x3, obj_var: x0-2\n",
      "i: 3, j: 1, var: x3, obj_var: x1-2\n",
      "i: 3, j: 2, var: x3, obj_var: x2-1\n",
      "i: 4, j: 0, var: x4, obj_var: x0-2\n",
      "i: 4, j: 1, var: x4, obj_var: x1-2\n",
      "i: 4, j: 2, var: x4, obj_var: x2-1\n",
      "-----Returning from to_dqm--------\n",
      "-----Inside to_cqm-------\n",
      "---Returning from to_cqm-----\n"
     ]
    }
   ],
   "source": [
    "%reload_ext autoreload\n",
    "\n",
    "import numpy as np\n",
    "from QHyper.problems.knapsack import KnapsackProblem\n",
    "import sympy\n",
    "from sympy.core.expr import Expr\n",
    "from QHyper.hyperparameter_gen.parser import Expression\n",
    "from typing import cast\n",
    "from QHyper.solvers.cqm import CQM\n",
    "from QHyper.solvers.dqm import DQM\n",
    "\n",
    "\n",
    "# items = [(np.random.randint(0, 6), np.random.randint(0, 6)) for _ in range(100)]\n",
    "items = [(1, 2), (1, 2),(1, 1)]\n",
    "knapsack = KnapsackProblem(max_weight=2, items=items)\n",
    "print(f\"\\nKnapsack objective func: {knapsack.objective_function}\")\n",
    "print(\"Knapsack constraints:\")\n",
    "for c in knapsack.constraints:\n",
    "    print(c)\n",
    "print()\n",
    "\n",
    "dqm_problem = DQM(problem=knapsack, time=5)\n",
    "dqm = dqm_problem.solve_mock()\n",
    "\n",
    "cqm_problem = CQM(problem=knapsack, time=5)\n",
    "cqm = cqm_problem.solve_mock()"
   ]
  },
  {
   "attachments": {},
   "cell_type": "markdown",
   "id": "68bde1b4",
   "metadata": {},
   "source": [
    "##### DQM attributes and methods"
   ]
  },
  {
   "cell_type": "code",
   "execution_count": 2,
   "id": "bb7a2b18",
   "metadata": {},
   "outputs": [
    {
     "name": "stdout",
     "output_type": "stream",
     "text": [
      "dqm.variables: Variables(['x0', 'x1', 'x2', 'x3', 'x4'])\n",
      "dqm.adj: {'x0': {'x': '4'}, 'x1': {'x': '4'}, 'x2': {'x': '4'}, 'x3': {'x': '2'}, 'x4': {'x': '2'}}\n",
      "dqm.get_quadratic: {(0, 0): -10.0, (1, 1): -10.0, (2, 2): -10.0, (3, 3): -10.0}\n",
      "dqm.get_quadratic_case: -10.0\n",
      "dqm.num_cases: 20\n",
      "dqm.num_cases: 4\n",
      "dqm.get_cases: range(0, 4)\n",
      "dqm.num_variables: 5\n",
      "dqm.num_case_interactions: 36\n",
      "dqm.num_variable_interactions: 9\n"
     ]
    },
    {
     "name": "stderr",
     "output_type": "stream",
     "text": [
      "C:\\Users\\basia\\AppData\\Local\\Temp\\ipykernel_15760\\1761729480.py:12: DeprecationWarning: `return_offset` will default to `True` in the future.\n",
      "  np_vectors = dqm.to_numpy_vectors()\n"
     ]
    }
   ],
   "source": [
    "print(\"dqm.variables:\", dqm.variables)\n",
    "print(\"dqm.adj:\", dqm.adj)\n",
    "print(\"dqm.get_quadratic:\", dqm.get_quadratic(\"x1\", \"x2\"))\n",
    "print(\"dqm.get_quadratic_case:\", dqm.get_quadratic_case(\"x1\", 3, \"x2\", 3))\n",
    "print(\"dqm.num_cases:\", dqm.num_cases())\n",
    "print(\"dqm.num_cases:\", dqm.num_cases(\"x1\"))\n",
    "print(\"dqm.get_cases:\", dqm.get_cases(\"x3\"))\n",
    "print(\"dqm.num_variables:\", dqm.num_variables())\n",
    "print(\"dqm.num_case_interactions:\", dqm.num_case_interactions())\n",
    "print(\"dqm.num_variable_interactions:\", dqm.num_variable_interactions())\n",
    "\n",
    "np_vectors = dqm.to_numpy_vectors()"
   ]
  },
  {
   "cell_type": "code",
   "execution_count": 3,
   "id": "086bf474",
   "metadata": {},
   "outputs": [
    {
     "name": "stdout",
     "output_type": "stream",
     "text": [
      "LegacyDQMVectors(case_starts=array([ 0,  4,  8, 12, 16], dtype=uint16), linear_biases=array([0., 0., 0., 0., 0., 0., 0., 0., 0., 0., 0., 0., 0., 0., 0., 0., 0.,\n",
      "       0., 0., 0.]), quadratic=QuadraticVectors(row_indices=array([ 4,  5,  6,  7,  8,  8,  9,  9, 10, 10, 11, 11, 12, 12, 12, 13, 13,\n",
      "       13, 14, 14, 14, 15, 15, 15, 16, 16, 16, 17, 17, 17, 18, 18, 18, 19,\n",
      "       19, 19], dtype=uint16), col_indices=array([ 0,  1,  2,  3,  0,  4,  1,  5,  2,  6,  3,  7,  0,  4,  8,  1,  5,\n",
      "        9,  2,  6, 10,  3,  7, 11,  0,  4,  8,  1,  5,  9,  2,  6, 10,  3,\n",
      "        7, 11], dtype=uint16), biases=array([-10., -10., -10., -10., -10., -10., -10., -10., -10., -10., -10.,\n",
      "       -10., -10., -10., -10., -10., -10., -10., -10., -10., -10., -10.,\n",
      "       -10., -10., -10., -10., -10., -10., -10., -10., -10., -10., -10.,\n",
      "       -10., -10., -10.])), labels=Variables(['x0', 'x1', 'x2', 'x3', 'x4']))\n"
     ]
    }
   ],
   "source": [
    "print(np_vectors)"
   ]
  },
  {
   "cell_type": "code",
   "execution_count": 4,
   "id": "073d6eac",
   "metadata": {},
   "outputs": [
    {
     "name": "stdout",
     "output_type": "stream",
     "text": [
      "[ 0  4  8 12 16] \n",
      "\n",
      "[0. 0. 0. 0. 0. 0. 0. 0. 0. 0. 0. 0. 0. 0. 0. 0. 0. 0. 0. 0.] \n",
      "\n",
      "QuadraticVectors(row_indices=array([ 4,  5,  6,  7,  8,  8,  9,  9, 10, 10, 11, 11, 12, 12, 12, 13, 13,\n",
      "       13, 14, 14, 14, 15, 15, 15, 16, 16, 16, 17, 17, 17, 18, 18, 18, 19,\n",
      "       19, 19], dtype=uint16), col_indices=array([ 0,  1,  2,  3,  0,  4,  1,  5,  2,  6,  3,  7,  0,  4,  8,  1,  5,\n",
      "        9,  2,  6, 10,  3,  7, 11,  0,  4,  8,  1,  5,  9,  2,  6, 10,  3,\n",
      "        7, 11], dtype=uint16), biases=array([-10., -10., -10., -10., -10., -10., -10., -10., -10., -10., -10.,\n",
      "       -10., -10., -10., -10., -10., -10., -10., -10., -10., -10., -10.,\n",
      "       -10., -10., -10., -10., -10., -10., -10., -10., -10., -10., -10.,\n",
      "       -10., -10., -10.])) \n",
      "\n",
      "Variables(['x0', 'x1', 'x2', 'x3', 'x4']) \n",
      "\n"
     ]
    }
   ],
   "source": [
    "for vec in np_vectors:\n",
    "    print(vec, \"\\n\")"
   ]
  },
  {
   "cell_type": "code",
   "execution_count": 5,
   "id": "ba42ba13",
   "metadata": {},
   "outputs": [
    {
     "name": "stdout",
     "output_type": "stream",
     "text": [
      "[ 4  5  6  7  8  8  9  9 10 10 11 11 12 12 12 13 13 13 14 14 14 15 15 15\n",
      " 16 16 16 17 17 17 18 18 18 19 19 19]\n",
      "[ 0  1  2  3  0  4  1  5  2  6  3  7  0  4  8  1  5  9  2  6 10  3  7 11\n",
      "  0  4  8  1  5  9  2  6 10  3  7 11]\n",
      "[-10. -10. -10. -10. -10. -10. -10. -10. -10. -10. -10. -10. -10. -10.\n",
      " -10. -10. -10. -10. -10. -10. -10. -10. -10. -10. -10. -10. -10. -10.\n",
      " -10. -10. -10. -10. -10. -10. -10. -10.]\n"
     ]
    }
   ],
   "source": [
    "for v in np_vectors[2]:\n",
    "    print(v)"
   ]
  },
  {
   "attachments": {},
   "cell_type": "markdown",
   "id": "ea0e01f3",
   "metadata": {},
   "source": [
    "##### Knapsack attributes"
   ]
  },
  {
   "cell_type": "code",
   "execution_count": 6,
   "id": "653c00ef",
   "metadata": {},
   "outputs": [
    {
     "name": "stdout",
     "output_type": "stream",
     "text": [
      "0 x0 1 ('x1',) -2\n",
      "0 x0 2 ('x2',) -1\n",
      "1 x1 0 ('x0',) -2\n",
      "1 x1 2 ('x2',) -1\n",
      "2 x2 0 ('x0',) -2\n",
      "2 x2 1 ('x1',) -2\n",
      "3 x3 0 ('x0',) -2\n",
      "3 x3 1 ('x1',) -2\n",
      "3 x3 2 ('x2',) -1\n",
      "4 x4 0 ('x0',) -2\n",
      "4 x4 1 ('x1',) -2\n",
      "4 x4 2 ('x2',) -1\n"
     ]
    }
   ],
   "source": [
    "for i, var in enumerate(knapsack.variables):\n",
    "    for j, (key, val) in enumerate(knapsack.objective_function.as_dict().items()):\n",
    "        if i == j:\n",
    "            continue\n",
    "        print(i, var, j, key, val)"
   ]
  },
  {
   "cell_type": "code",
   "execution_count": 22,
   "id": "f8bf3053",
   "metadata": {},
   "outputs": [
    {
     "name": "stdout",
     "output_type": "stream",
     "text": [
      "-2*x0 - 2*x1 - x2\n",
      "ObjectiveView({'x0': -2.0, 'x1': -2.0, 'x2': -1.0}, {}, 0.0, {'x0': 'BINARY', 'x1': 'BINARY', 'x2': 'BINARY'})\n"
     ]
    }
   ],
   "source": [
    "print(knapsack.objective_function)\n",
    "print(cqm.objective)"
   ]
  },
  {
   "cell_type": "code",
   "execution_count": 41,
   "id": "cf3cbc6f",
   "metadata": {},
   "outputs": [
    {
     "data": {
      "text/plain": [
       "{'x0': {'x': '4'}, 'x1': {'x': '4'}, 'x2': {'x': '4'}, 'x3': {'x': '2'}, 'x4': {'x': '2'}}"
      ]
     },
     "execution_count": 41,
     "metadata": {},
     "output_type": "execute_result"
    }
   ],
   "source": [
    "dqm.adj"
   ]
  },
  {
   "cell_type": "code",
   "execution_count": 37,
   "id": "dd56e9a6",
   "metadata": {},
   "outputs": [
    {
     "name": "stdout",
     "output_type": "stream",
     "text": [
      "{('x0',): -2, ('x1',): -2, ('x2',): -1, (): 0}\n",
      "-2*x0 - 2*x1 - x2\n"
     ]
    }
   ],
   "source": [
    "from QHyper.solvers.converter import Converter\n",
    "\n",
    "\n",
    "res = Converter.create_qubo(knapsack, [1,0,0])\n",
    "print(res)\n",
    "print(knapsack.objective_function)"
   ]
  },
  {
   "attachments": {},
   "cell_type": "markdown",
   "id": "5b400a1b",
   "metadata": {},
   "source": [
    "##### CQM objective, variables (constraints skipped for learning puposes as DQM doesn't have constraints)"
   ]
  },
  {
   "cell_type": "code",
   "execution_count": 7,
   "id": "0a1e477e",
   "metadata": {},
   "outputs": [
    {
     "data": {
      "text/plain": [
       "ObjectiveView({'x0': -2.0, 'x1': -2.0, 'x2': -1.0}, {}, 0.0, {'x0': 'BINARY', 'x1': 'BINARY', 'x2': 'BINARY'})"
      ]
     },
     "execution_count": 7,
     "metadata": {},
     "output_type": "execute_result"
    }
   ],
   "source": [
    "cqm.objective"
   ]
  },
  {
   "cell_type": "code",
   "execution_count": 8,
   "id": "9cd639ad",
   "metadata": {},
   "outputs": [
    {
     "data": {
      "text/plain": [
       "Variables(['x0', 'x1', 'x2', 'x3', 'x4'])"
      ]
     },
     "execution_count": 8,
     "metadata": {},
     "output_type": "execute_result"
    }
   ],
   "source": [
    "cqm.variables"
   ]
  },
  {
   "attachments": {},
   "cell_type": "markdown",
   "id": "e438fc81",
   "metadata": {},
   "source": [
    "##### dimod.BinaryPolynomial"
   ]
  },
  {
   "cell_type": "code",
   "execution_count": 9,
   "id": "429d45ff",
   "metadata": {},
   "outputs": [],
   "source": [
    "import dimod\n",
    "\n",
    "\n",
    "binary_polynomial = dimod.BinaryPolynomial(knapsack.objective_function.as_dict(), dimod.BINARY)\n",
    "dimod_cqm = dimod.make_quadratic_cqm(binary_polynomial)"
   ]
  },
  {
   "cell_type": "code",
   "execution_count": 65,
   "id": "0250f100",
   "metadata": {},
   "outputs": [
    {
     "data": {
      "text/plain": [
       "BinaryPolynomial({frozenset({'x0'}): -2, frozenset({'x1'}): -2, frozenset({'x2'}): -1}, 'BINARY')"
      ]
     },
     "execution_count": 65,
     "metadata": {},
     "output_type": "execute_result"
    }
   ],
   "source": [
    "binary_polynomial"
   ]
  },
  {
   "cell_type": "code",
   "execution_count": 17,
   "id": "579df945",
   "metadata": {},
   "outputs": [
    {
     "name": "stdout",
     "output_type": "stream",
     "text": [
      "1 1\n",
      "ObjectiveView({'a': -1.0, 'b': 0.0}, {('b', 'a'): 1.0}, 0.0, {'a': 'SPIN', 'b': 'SPIN'})\n",
      "{}\n",
      "BinaryPolynomial({frozenset({'a'}): -1, frozenset({'a', 'b'}): 1}, 'SPIN')\n"
     ]
    }
   ],
   "source": [
    "import dimod\n",
    "\n",
    "\n",
    "poly = dimod.BinaryPolynomial({'a': -1, 'ab': 1}, dimod.SPIN)\n",
    "print(poly['ab'], poly['ba'])\n",
    "bqm = dimod.make_quadratic(poly, 5.0, dimod.SPIN)\n",
    "bqm.to_numpy_vectors()\n",
    "\n",
    "cqm_poly = dimod.make_quadratic_cqm(poly)\n",
    "print(cqm_poly.objective)\n",
    "print(cqm_poly.constraints)\n",
    "print(poly)\n",
    "\n"
   ]
  },
  {
   "attachments": {},
   "cell_type": "markdown",
   "id": "8450c95e",
   "metadata": {},
   "source": [
    "#### Sympy"
   ]
  },
  {
   "cell_type": "code",
   "execution_count": 3,
   "id": "1c76a94a",
   "metadata": {},
   "outputs": [
    {
     "name": "stdout",
     "output_type": "stream",
     "text": [
      "x1/x100\n",
      "0.240000000000000\n"
     ]
    }
   ],
   "source": [
    "syms = sympy.symbols([\"x1\", 'x100'])\n",
    "eq: Expr = cast(Expr, 0)\n",
    "eq += syms[0]\n",
    "eq /= syms[1]\n",
    "print(eq)\n",
    "print(eq.evalf(subs={'x1': 2.4, 'x100': 10}))"
   ]
  }
 ],
 "metadata": {
  "kernelspec": {
   "display_name": "Python 3 (ipykernel)",
   "language": "python",
   "name": "python3"
  },
  "language_info": {
   "codemirror_mode": {
    "name": "ipython",
    "version": 3
   },
   "file_extension": ".py",
   "mimetype": "text/x-python",
   "name": "python",
   "nbconvert_exporter": "python",
   "pygments_lexer": "ipython3",
   "version": "3.10.11"
  }
 },
 "nbformat": 4,
 "nbformat_minor": 5
}
