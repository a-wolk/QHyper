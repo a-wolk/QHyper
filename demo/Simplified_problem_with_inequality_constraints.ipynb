{
 "cells": [
  {
   "cell_type": "markdown",
   "id": "d0fa9033",
   "metadata": {},
   "source": [
    "# Quadratic binary optimization for problems with inequality constraints\n",
    "Based on the [Constrained Quadratic Model](https://docs.ocean.dwavesys.com/en/stable/concepts/cqm.html) - CQM."
   ]
  },
  {
   "cell_type": "markdown",
   "id": "ed3a8950",
   "metadata": {},
   "source": [
    "# 1 Theory\n",
    "The `cost function` $C_f(\\boldsymbol{x})$ can be represented as\n",
    "\\begin{equation}\n",
    "C_f(\\boldsymbol{x})=\\sum_{i} c_{ii} x_i + \\sum_{i < j} c_{ij} x_i x_j + const,\n",
    "\\label{eq:costcqm}\n",
    "\\end{equation} where $c_{ii}$ and $c_{ij}$ are real coefficients, and the variables $\\{ x_i\\}_{i=1, \\dots, N}$ are binary.\n",
    "---\n",
    "<br> Similarly, the `constraints` are given by functions $G^{(k)}_{f}(\\boldsymbol{x})$ can be represented as \n",
    "\\begin{equation}\n",
    " G^{(k)}_{f}(\\boldsymbol{x})=\\sum_i g^{(k)}_{ii} x_i + \\sum_{i < j} g^{(k)}_{ij} x_i x_j+ const \\circ 0, \n",
    " \\label{eq:conscqm}\n",
    " \\end{equation}\n",
    "    where $g_{ii}$ and $g_{ij}$ are real coefficients, $k=1, \\dots, M$ and $M$ is the number of constraints, and the symbol $\\circ$ denotes a comparison operator  $\\{\\ge, \\le, =\\}.$\n",
    "---    \n",
    "\n",
    "<br> To use QAOA, all functions have to be combined into Quantum Unconstrained Binary Optimization. In the first step, this is done by transforming the constraints $G^{(k)}_{f}(\\boldsymbol{x}) \\circ 0 $ into the equality constraints $K^{(k)}_{f}(\\boldsymbol{x})=0$. This is done using slack variables. \n",
    "\n",
    "---  \n",
    "<br> Next, by adding weighted constraints and the cost function together, the `objective function` is obtained in the form\n",
    "\\begin{equation}\n",
    "\\label{qubo}\n",
    "    f_{QUBO}(\\boldsymbol{x})=\\alpha_0C_f(\\boldsymbol{x})+\\sum_{k=1}^{M} {\\alpha_{k} K_f^{(k)}(\\boldsymbol{x})},\n",
    "\\end{equation}\n",
    "where $\\alpha_0$ is the weight of the cost function and $\\alpha_{k}$ is the weight of the $k$-th constraint, $\\alpha_i > 0$."
   ]
  },
  {
   "cell_type": "markdown",
   "id": "bd8ed4ea",
   "metadata": {},
   "source": [
    "# 2 Simplified example\n",
    "_Minimize $2x_0 + 5x_1 + x_0x_1$ subject to $x_0 + x_1 = 1 $ and $5x_0 + 2x_1 \\leq 5 $_"
   ]
  },
  {
   "cell_type": "markdown",
   "id": "891bb3f9",
   "metadata": {},
   "source": [
    "Using the notation introduced in [1]\n",
    "<center>\n",
    "minimize $ C_f(\\boldsymbol{x}) = 2x_0 + 5x_1 + x_0x_1$\n",
    "    <br> subject to $G_f^{(1)}(\\boldsymbol{x}) = x_0 + x_1 - 1 = 0$ and $G_f^{(2)}(\\boldsymbol{x})=5x_0 + 2x_1 - 5 \\leq 0 $"
   ]
  },
  {
   "cell_type": "markdown",
   "id": "25471911",
   "metadata": {},
   "source": [
    "We need to convert the inequality constraint $G_f^{(2)}$ into the equality constraint $K_f^{(2)}$ using slack variables. To see how this is done, see the method `calc_slack_coefficients`. In our case $5$ can be expressed as $2^0 + 2^1 + 2$, so the coefficients for binary variables $\\textbf{s}$ are $[1, 2, 2]$. In general, if the number is not a power of 2, the last coefficient is the difference between the previous power of 2 that falls within this number and this number.\n",
    "\n",
    "<br>\n",
    "<center>\n",
    "$K_f^{(1)}(\\boldsymbol{x}) = x_0 + x_1 - 1$ and $K_f^{(2)}(\\boldsymbol{x})=5x_0 + 2x_1 - 1x_2 - 2x_3 -  2x_4 = 0 $"
   ]
  },
  {
   "cell_type": "markdown",
   "id": "7523634f",
   "metadata": {},
   "source": [
    "In QHyper, this problem needs to be a subclass of the [Problem class](https://github.com/qc-lab/QHyper/blob/tmek/improve-tutorials/QHyper/problems/base.py)."
   ]
  },
  {
   "cell_type": "code",
   "execution_count": 1,
   "id": "d68cd9ae",
   "metadata": {},
   "outputs": [],
   "source": [
    "import numpy as np\n",
    "import sympy\n",
    "from sympy.core.expr import Expr\n",
    "\n",
    "from QHyper.problems.base import Problem\n",
    "from QHyper.hyperparameter_gen.parser import Expression\n",
    "\n",
    "class SimpleProblem(Problem):\n",
    "    \n",
    "    def __init__(self) -> None:\n",
    "        self.slack_coefficients = calc_slack_coefficients(5)\n",
    "        self.variables = sympy.symbols(' '.join([f'x{i}' for i in range(2)]) + ' ' \n",
    "                                       + ' '.join([f'x{i+2}' for i in range(len(self.slack_coefficients))]))\n",
    "        self._set_objective_function()\n",
    "        self._set_constraints()\n",
    "        \n",
    "    def _set_objective_function(self) -> None:\n",
    "        C_f = 2 * self.variables[0] + 5 * self.variables[1] + self.variables[0] * self.variables[1]\n",
    "        self.objective_function = Expression(C_f)\n",
    "        \n",
    "    def _set_constraints(self):\n",
    "        K_f1 = self.variables[0] + self.variables[1] - 1\n",
    "        \n",
    "        K_f2 = 5 * self.variables[0] + 2 * self.variables[1]\n",
    "        for i, coefficient in enumerate(self.slack_coefficients):\n",
    "            K_f2 += coefficient * self.variables[i+2]\n",
    "            \n",
    "        self.constraints = [Expression(K_f1), Expression(K_f2)]\n",
    "    \n",
    "    #########################\n",
    "    def get_score(self, result):\n",
    "        # \"10000\"\n",
    "        # this function is used to evaluate the quality of the result\n",
    "        \n",
    "        x = [int(val) for val in result]\n",
    "        \n",
    "        if x[0] + x[1] -1 == 0 and 5*x[0] + 2*x[1] + 1*x[2] + 2*x[3] + 2*x[4] == 0:\n",
    "            return 2 * x[0] + 5 * x[1] + x[0] * x[1] \n",
    "        \n",
    "        return None\n",
    "    #########################"
   ]
  },
  {
   "cell_type": "code",
   "execution_count": 2,
   "id": "f82d625a",
   "metadata": {},
   "outputs": [],
   "source": [
    "def calc_slack_coefficients(constant: int) -> list[int]:\n",
    "    num_slack = int(np.floor(np.log2(constant)))\n",
    "    slack_coefficients = [2 ** j for j in range(num_slack)]\n",
    "    if constant - 2 ** num_slack >= 0:\n",
    "        slack_coefficients.append(constant - 2 ** num_slack + 1)\n",
    "    return slack_coefficients"
   ]
  },
  {
   "cell_type": "code",
   "execution_count": 11,
   "id": "c1020013",
   "metadata": {},
   "outputs": [
    {
     "data": {
      "text/plain": [
       "[1, 2, 2]"
      ]
     },
     "execution_count": 11,
     "metadata": {},
     "output_type": "execute_result"
    }
   ],
   "source": [
    "calc_slack_coefficients(5)"
   ]
  },
  {
   "cell_type": "code",
   "execution_count": 3,
   "id": "998e39fa",
   "metadata": {},
   "outputs": [],
   "source": [
    "problem = SimpleProblem()"
   ]
  },
  {
   "cell_type": "code",
   "execution_count": 4,
   "id": "b914cd22",
   "metadata": {},
   "outputs": [
    {
     "name": "stdout",
     "output_type": "stream",
     "text": [
      "Variables used to describe objective function and constraints: (x0, x1, x2, x3, x4)\n",
      "Objective function: x0*x1 + 2*x0 + 5*x1\n",
      "Constraints (RHS == 0):\n",
      "    x0 + x1 - 1\n",
      "    5*x0 + 2*x1 + x2 + 2*x3 + 2*x4\n"
     ]
    }
   ],
   "source": [
    "print(f\"Variables used to describe objective function\"\n",
    "      f\" and constraints: {problem.variables}\")\n",
    "print(f\"Objective function: {problem.objective_function}\")\n",
    "print(\"Constraints (RHS == 0):\")\n",
    "for constraint in problem.constraints:\n",
    "    print(f\"    {constraint}\")"
   ]
  },
  {
   "cell_type": "markdown",
   "id": "9852e256",
   "metadata": {},
   "source": [
    "# 3 Using QHyper"
   ]
  },
  {
   "cell_type": "markdown",
   "id": "002b69f8",
   "metadata": {},
   "source": [
    "Initialization part\n",
    "<br> 'angles' -  QAOA angles - first we have gammas (for the cost Hamiltonian), then we have betas (for the mixer)\n",
    "<br> 'hyper_args': [1, 1, 1], #  those are the alpha values from Section 1 - Theory"
   ]
  },
  {
   "cell_type": "code",
   "execution_count": 16,
   "id": "f9d96cf4",
   "metadata": {},
   "outputs": [],
   "source": [
    "params_cofing = {\n",
    "        'angles': [[0.5]*5, [0.5]*5], # QAOA angles - first we have gammas (for the cost Hamiltonian), then we have betas (for the mixer)\n",
    "        'hyper_args': [1, 1, 1], #  those are the alpha values from [1]\n",
    "    }"
   ]
  },
  {
   "cell_type": "code",
   "execution_count": 17,
   "id": "f6e3d37c",
   "metadata": {},
   "outputs": [],
   "source": [
    "# Simple quantum circuit without optimzers will be used to test the results\n",
    "# WF-QAOA is choosen becasue this PQC has most suitable evaluation function\n",
    "from QHyper.solvers.vqa.base import VQA\n",
    "tester_config = {\n",
    "    'pqc': {\n",
    "        'type': 'wfqaoa',\n",
    "        'layers': 5,\n",
    "    }\n",
    "}\n",
    "\n",
    "tester = VQA(problem, config=tester_config)"
   ]
  },
  {
   "cell_type": "code",
   "execution_count": 18,
   "id": "8dbdf752",
   "metadata": {},
   "outputs": [],
   "source": [
    "# Create a VQA instance with HQAOA as PQC and scipy optimizer\n",
    "# This can be done in two various way\n",
    "# 1. Providing dict with config (usefull to save experiment confing in e.g JSON)\n",
    "\n",
    "solver_config = {\n",
    "    'pqc': {\n",
    "        'type': 'qaoa',\n",
    "        'layers': 5,\n",
    "        'mixer': 'pl_x_mixer',\n",
    "            \n",
    "    },\n",
    "     'optimizer': {\n",
    "        'type': 'scipy',\n",
    "        'maxfun': 200,\n",
    "    },\n",
    "}\n",
    "vqa = VQA(problem, config=solver_config)"
   ]
  },
  {
   "cell_type": "code",
   "execution_count": 19,
   "id": "8ee8f53c",
   "metadata": {},
   "outputs": [],
   "source": [
    "# 2. Providing actual isntance of each class like VQA and Optimizer\n",
    "# from QHyper.solvers.vqa.pqc.qaoa import QAOA\n",
    "# from QHyper.optimizers import ScipyOptimizer\n",
    "\n",
    "# vqa = VQA(problem, QAOA(layers=5, mixer='pl_x_mixer'), ScipyOptimizer(maxfun=10))"
   ]
  },
  {
   "cell_type": "code",
   "execution_count": 20,
   "id": "43292488",
   "metadata": {
    "scrolled": true
   },
   "outputs": [
    {
     "name": "stdout",
     "output_type": "stream",
     "text": [
      "39.4598970087436\n",
      "39.459893128326215\n",
      "39.459894607312584\n",
      "39.45989458656453\n",
      "39.459896102875945\n",
      "39.459902363290304\n",
      "39.45989697842392\n",
      "39.45989716143159\n",
      "39.45989675492358\n",
      "39.45989730162761\n",
      "39.459896863503694\n",
      "49.74999999999846\n",
      "49.7499765443104\n",
      "49.74999999999846\n",
      "49.74999999999846\n",
      "49.74999999999846\n",
      "49.74999999999845\n",
      "49.74999999999841\n",
      "49.74999999999848\n",
      "49.74999999999843\n",
      "49.74999999999848\n",
      "49.74999999999843\n",
      "58.3815406365339\n",
      "58.38153183341561\n",
      "58.38154600530228\n",
      "58.38154218875553\n",
      "58.38154553390038\n",
      "58.38154424945207\n",
      "58.381540794351714\n",
      "58.38154012663236\n",
      "58.3815406231088\n",
      "58.381540795122575\n",
      "58.38154060702886\n",
      "58.71141439398441\n",
      "58.71141388932949\n",
      "58.71141001265808\n",
      "58.711421827119985\n",
      "58.71141350418472\n",
      "58.7114151339931\n",
      "58.71141412909863\n",
      "58.71141413222003\n",
      "58.71141405632595\n",
      "58.71141422969579\n",
      "58.71141445936476\n",
      "58.32795380027621\n",
      "58.32795897448253\n",
      "58.327966357438015\n",
      "58.327970825192146\n",
      "58.32794947247537\n",
      "58.327950737111394\n",
      "58.3279542030519\n",
      "58.32795375676426\n",
      "58.32795400012082\n",
      "58.32795344332202\n",
      "58.32795372122817\n",
      "58.18524582556745\n",
      "58.18523978923378\n",
      "58.18523957039987\n",
      "58.18524106150323\n",
      "58.18523858556637\n",
      "58.18524397109298\n",
      "58.18524556646072\n",
      "58.185244866536536\n",
      "58.18524556038237\n",
      "58.185245772059794\n",
      "58.185245896493626\n",
      "34.19995235611439\n",
      "34.19995927977934\n",
      "34.19995447561148\n",
      "34.19995998499324\n",
      "34.19995606633911\n",
      "34.19995447281012\n",
      "34.19995232108487\n",
      "34.19995203785737\n",
      "34.19995264137347\n",
      "34.199952474605176\n",
      "34.19995224285012\n",
      "39.917370289165014\n",
      "39.91738224121441\n",
      "39.91737367032482\n",
      "39.917366145302935\n",
      "39.91737594921374\n",
      "39.91737304667645\n",
      "39.91737013707788\n",
      "39.917370426765004\n",
      "39.917369887382485\n",
      "39.9173697275926\n",
      "39.917370053798656\n",
      "29.216723749914248\n",
      "29.216725691242395\n",
      "29.216723324340883\n",
      "29.21672636873492\n",
      "29.21672467465266\n",
      "29.21672284724286\n",
      "29.216723617061852\n",
      "29.216723338931185\n",
      "29.2167238759894\n",
      "29.21672402567207\n",
      "29.21672354587655\n",
      "46.23432536647023\n",
      "46.234329277523116\n",
      "46.23432115833406\n",
      "46.23431432674593\n",
      "46.234326352523794\n",
      "46.23432199945334\n",
      "46.234324775106636\n",
      "46.234325209758154\n",
      "46.234325087710076\n",
      "46.23432525390044\n",
      "46.23432508533427\n",
      "29.039735266253132\n",
      "29.039736271600514\n",
      "29.039734121375762\n",
      "29.039736348256326\n",
      "29.039735367592794\n",
      "29.039733492308805\n",
      "29.039735110505234\n",
      "29.03973485798244\n",
      "29.03973536527418\n",
      "29.039735554450495\n",
      "29.039735053336127\n",
      "28.738329453900004\n",
      "28.738330178401743\n",
      "28.738328234579587\n",
      "28.738329984268972\n",
      "28.73832922303165\n",
      "28.7383281101422\n",
      "28.73832930886346\n",
      "28.738329043142212\n",
      "28.738329535971992\n",
      "28.738329769408207\n",
      "28.73832923928968\n",
      "27.931125590065925\n",
      "27.931125776012635\n",
      "27.931125436314883\n",
      "27.93112468339456\n",
      "27.931124119136353\n",
      "27.931126145179785\n",
      "27.931125560160176\n",
      "27.931125183217844\n",
      "27.931125663160945\n",
      "27.931125981666387\n",
      "27.93112539759374\n",
      "27.581347582749192\n",
      "27.581347124810694\n",
      "27.5813470288343\n",
      "27.581346626882635\n",
      "27.58134667168139\n",
      "27.58134865106742\n",
      "27.581347612236584\n",
      "27.5813471712036\n",
      "27.581347655049544\n",
      "27.581347937951666\n",
      "27.58134740580979\n",
      "26.963580760331993\n",
      "26.963580161304755\n",
      "26.963579999636437\n",
      "26.96357905854192\n",
      "26.963581354124813\n",
      "26.96358072605598\n",
      "26.963580973615873\n",
      "26.963580509536378\n",
      "26.963580897526228\n",
      "26.96358093217799\n",
      "26.963580658774116\n",
      "26.682055441347693\n",
      "26.682054510879937\n",
      "26.682054988985186\n",
      "26.68205564241715\n",
      "26.68205551438632\n",
      "26.68205567044781\n",
      "26.682055641003597\n",
      "26.68205517746789\n",
      "26.68205560648389\n",
      "26.682055625000917\n",
      "26.682055326008374\n",
      "26.594238901499587\n",
      "26.594238827527946\n",
      "26.594239076368915\n",
      "26.594239092401313\n",
      "26.5942388523656\n",
      "26.594238918406866\n",
      "26.594239094056253\n",
      "26.594238678347498\n",
      "26.59423909006496\n",
      "26.594239065540688\n",
      "26.59423880802222\n",
      "26.553885162191808\n",
      "26.553885316971595\n",
      "26.55388550657172\n",
      "26.553885368039584\n",
      "26.553885180997344\n",
      "26.553885091124872\n",
      "26.553885352657925\n",
      "26.553884961076776\n",
      "26.553885357172984\n",
      "26.553885312815147\n",
      "26.55388507772306\n",
      "26.39899614130121\n",
      "26.398996847511896\n",
      "26.398996865416468\n",
      "26.398996357895342\n",
      "26.398996272183\n",
      "26.39899583488933\n",
      "26.398996313800414\n",
      "26.398995977862256\n",
      "26.398996346901434\n",
      "26.398996267053583\n",
      "26.398996074649688\n",
      "Best params: {'angles': array([[0.51398178, 0.54266127, 0.51981366, 0.53336719, 0.49568176],\n",
      "       [0.51264767, 0.5128277 , 0.52208219, 0.48522368, 0.53490181]]), 'hyper_args': array([1, 1, 1])}\n"
     ]
    }
   ],
   "source": [
    "best_params = vqa.solve(params_cofing)\n",
    "print(f\"Best params: {best_params}\")"
   ]
  },
  {
   "cell_type": "code",
   "execution_count": 21,
   "id": "b39d6fdc",
   "metadata": {
    "scrolled": true
   },
   "outputs": [
    {
     "name": "stdout",
     "output_type": "stream",
     "text": [
      "{'01100': 0.15797244728562657, '01011': 0.1338232689607687, '01110': 0.09714368267067784, '01101': 0.09714368267067781, '00001': 0.05782886095810823, '00010': 0.0578288609581082, '00011': 0.05464062332638749, '00100': 0.04946407720544144, '01000': 0.04702778794520923, '10100': 0.036179333146294124, '00110': 0.03288099976636444, '00101': 0.03288099976636443, '00000': 0.025449242285931754, '00111': 0.020943646999113365, '11111': 0.01424918621261374, '11010': 0.008091274423529983, '11001': 0.00809127442352998, '10011': 0.008042533675297643, '11011': 0.0077335522258862015, '10000': 0.007534521058502502, '11100': 0.005234340450924484, '11000': 0.0043378672869913565, '10001': 0.0043109832192873565, '10010': 0.004310983219287333, '01010': 0.004268785550301792, '01001': 0.00426878555030179, '01111': 0.003641119085868947, '10101': 0.0034677092824631434, '10110': 0.003467709282463141, '10111': 0.0033688104266976927, '11110': 0.0021865253404839444, '11101': 0.002186525340483916}\n",
      "Best results: 0.0\n",
      "Params used for optimizer:\n",
      "[[0.51398178 0.54266127 0.51981366 0.53336719 0.49568176]\n",
      " [0.51264767 0.5128277  0.52208219 0.48522368 0.53490181]],\n",
      "and params used for hyperoptimizer: [1 1 1]\n"
     ]
    }
   ],
   "source": [
    "best_results = tester.evaluate(best_params)\n",
    "print(f\"Best results: {best_results}\")\n",
    "print(f\"Params used for optimizer:\\n{best_params['angles']},\\n\"\n",
    "      f\"and params used for hyperoptimizer: {best_params['hyper_args']}\")"
   ]
  },
  {
   "cell_type": "markdown",
   "id": "46ee9bd5",
   "metadata": {},
   "source": [
    "### Versions of the QAOA"
   ]
  },
  {
   "cell_type": "markdown",
   "id": "15187751",
   "metadata": {},
   "source": [
    "1. 'Vanila' QAOA\n",
    "<img src=\"imgs/qaoa.png\" width=\"200\" height=\"100\">\n",
    "\n"
   ]
  },
  {
   "cell_type": "markdown",
   "id": "6d45ae1b",
   "metadata": {},
   "source": [
    "'pqc': {\n",
    "        'type': 'qaoa',\n",
    "        'layers': 3,\n",
    "        'mixer': 'pl_x_mixer',\n",
    "        'backend': 'default.qubit',\n",
    "        },"
   ]
  },
  {
   "cell_type": "markdown",
   "id": "f4eeafca",
   "metadata": {},
   "source": [
    "2. 'Weight-free' WF-QAOA\n",
    "<img src=\"imgs/wf-qaoa.png\" width=\"200\" height=\"100\">\n",
    "\n"
   ]
  },
  {
   "cell_type": "markdown",
   "id": "0f02aa16",
   "metadata": {},
   "source": [
    "'pqc': {\n",
    "        'type': 'wfqaoa',\n",
    "        'layers': 3,\n",
    "        'mixer': 'pl_x_mixer',\n",
    "        'penalty': 0.0\n",
    "        'backend': 'default.qubit',\n",
    "        },"
   ]
  },
  {
   "cell_type": "markdown",
   "id": "adb59fc4",
   "metadata": {},
   "source": [
    "3. 'Hyper' H-QAOA\n",
    "<img src=\"imgs/hqaoa.png\" width=\"200\" height=\"100\">\n",
    "\n"
   ]
  },
  {
   "cell_type": "markdown",
   "id": "dd2f8822",
   "metadata": {},
   "source": [
    "'pqc': {\n",
    "        'type': 'hqaoa',\n",
    "        'layers': 3,\n",
    "        'mixer': 'pl_x_mixer',\n",
    "        'backend': 'default.qubit',\n",
    "        },"
   ]
  },
  {
   "cell_type": "markdown",
   "id": "23898fce",
   "metadata": {},
   "source": [
    "### Versions of optimizers"
   ]
  },
  {
   "cell_type": "markdown",
   "id": "2a3d152e",
   "metadata": {},
   "source": [
    "'optimizer': {\n",
    "        'type': 'scipy',\n",
    "        'maxfun': 200,\n",
    "        'bounds': []\n",
    "    },"
   ]
  },
  {
   "cell_type": "code",
   "execution_count": null,
   "id": "75d3fa99",
   "metadata": {},
   "outputs": [],
   "source": []
  }
 ],
 "metadata": {
  "celltoolbar": "Raw Cell Format",
  "kernelspec": {
   "display_name": "Python 3 (ipykernel)",
   "language": "python",
   "name": "python3"
  },
  "language_info": {
   "codemirror_mode": {
    "name": "ipython",
    "version": 3
   },
   "file_extension": ".py",
   "mimetype": "text/x-python",
   "name": "python",
   "nbconvert_exporter": "python",
   "pygments_lexer": "ipython3",
   "version": "3.10.8"
  }
 },
 "nbformat": 4,
 "nbformat_minor": 5
}
