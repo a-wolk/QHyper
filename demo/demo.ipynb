{
 "cells": [
  {
   "attachments": {},
   "cell_type": "markdown",
   "metadata": {},
   "source": [
    "## QHyper usecase"
   ]
  },
  {
   "attachments": {},
   "cell_type": "markdown",
   "metadata": {},
   "source": [
    "### Create instance of problem"
   ]
  },
  {
   "cell_type": "code",
   "execution_count": 20,
   "metadata": {},
   "outputs": [
    {
     "name": "stdout",
     "output_type": "stream",
     "text": [
      "[Item(weight=1, value=2), Item(weight=1, value=2), Item(weight=1, value=1)]\n"
     ]
    }
   ],
   "source": [
    "from QHyper.problems.knapsack import KnapsackProblem\n",
    "from QHyper.problems.tsp import TSPProblem\n",
    "\n",
    "PROBLEM_TYPE = 'knapsack'\n",
    "\n",
    "\n",
    "# Each problem needs different parameters, because it depends on the number\n",
    "# of variables and constraints\n",
    "# Number of hyper_optimizer_bounds depends on the number of constraints,\n",
    "# because each constraint requires one weights, and objective function also\n",
    "# requires one\n",
    " \n",
    "if PROBLEM_TYPE == 'knapsack':\n",
    "    # Create knapsack with 3 items: 2 with weights 1 and value 2 - (1, 2),\n",
    "    # and one with weight 1 and value 1 - (1, 1)\n",
    "    problem = KnapsackProblem(max_weight=2, items=[(1, 2), (1, 2),(1, 1)])\n",
    "    print(problem.knapsack.items)\n",
    "    \n",
    "    params_cofing = {\n",
    "        'angles': [[0.5]*5, [1]*5],\n",
    "        'hyper_args': [1, 2.5, 2.5],\n",
    "    }\n",
    "    hyper_optimizer_bounds = 3*[(1, 10)]\n",
    "\n",
    "elif PROBLEM_TYPE == 'tsp':\n",
    "    # Create Traveling Salesmam Problem with 3 cities\n",
    "    problem = TSPProblem(\n",
    "        number_of_cities=3,\n",
    "    )\n",
    "    params_cofing = {\n",
    "        'angles': [[0.5]*5, [1]*5],\n",
    "        'hyper_args': [1, 2, 2, 2, 2],\n",
    "    }\n",
    "    hyper_optimizer_bounds = 5*[(1, 10)]"
   ]
  },
  {
   "cell_type": "code",
   "execution_count": 21,
   "metadata": {},
   "outputs": [
    {
     "name": "stdout",
     "output_type": "stream",
     "text": [
      "Variables used to describe objective functionand constraints: (x0, x1, x2, x3, x4)\n",
      "Objective function: -2*x0 - 2*x1 - x2\n",
      "Constraints:\n",
      "    -x3 - x4 + 1\n",
      "    -x0 - x1 - x2 + x3 + 2*x4\n"
     ]
    }
   ],
   "source": [
    "print(f\"Variables used to describe objective function\"\n",
    "      f\"and constraints: {problem.variables}\")\n",
    "print(f\"Objective function: {problem.objective_function}\")\n",
    "print(\"Constraints:\")\n",
    "for constraint in problem.constraints:\n",
    "    print(f\"    {constraint}\")"
   ]
  },
  {
   "attachments": {},
   "cell_type": "markdown",
   "metadata": {},
   "source": [
    "### Use VQA to solve knapsack problem"
   ]
  },
  {
   "cell_type": "code",
   "execution_count": 22,
   "metadata": {},
   "outputs": [],
   "source": [
    "from QHyper.solvers.vqa.base import VQA"
   ]
  },
  {
   "cell_type": "code",
   "execution_count": 23,
   "metadata": {},
   "outputs": [],
   "source": [
    "# Simple quantum circuit without optimzers will be used to test the results\n",
    "# WF-QAOA is choosen becasue this PQC has most suitable evaluation function\n",
    "\n",
    "tester_config = {\n",
    "    \"pqc\": {\n",
    "        \"type\": \"wfqaoa\",\n",
    "        \"layers\": 5,\n",
    "    }\n",
    "}\n",
    "\n",
    "tester = VQA(problem, config=tester_config)"
   ]
  },
  {
   "cell_type": "code",
   "execution_count": 24,
   "metadata": {},
   "outputs": [],
   "source": [
    "# Create a VQA instance with HQAOA as PQC and scipy optimizer\n",
    "# This can be done in two various way\n",
    "# 1. Providing dict with config (usefull to save experiment confing in e.g JSON)\n",
    "\n",
    "solver_config = {\n",
    "    'optimizer': {\n",
    "        'type': 'scipy',\n",
    "        'maxfun': 200,\n",
    "    },\n",
    "    \"pqc\": {\n",
    "        \"type\": \"hqaoa\",\n",
    "        \"layers\": 5,\n",
    "    },\n",
    "}\n",
    "vqa = VQA(problem, config=solver_config)\n",
    "\n",
    "# # 2. Providing actual isntance of each class like VQA and Optimizer\n",
    "# from QHyper.solvers.vqa.pqc.h_qaoa import HQAOA\n",
    "# from QHyper.optimizers import ScipyOptimizer\n",
    "\n",
    "# vqa = VQA(problem, None, HQAOA(layers=5), ScipyOptimizer(maxfun=200))"
   ]
  },
  {
   "cell_type": "code",
   "execution_count": 25,
   "metadata": {},
   "outputs": [
    {
     "name": "stdout",
     "output_type": "stream",
     "text": [
      "Best params: {'angles': array([[1.64230366, 0.08750879, 0.        , 0.12854769, 2.49365561],\n",
      "       [0.93907822, 0.62299303, 1.10213747, 0.41506598, 1.45096723]]), 'hyper_args': array([1. , 2.5, 2.5])}\n"
     ]
    }
   ],
   "source": [
    "# Run VQA with provided initial parameters\n",
    "best_params = vqa.solve(params_cofing)\n",
    "print(f\"Best params: {best_params}\")"
   ]
  },
  {
   "cell_type": "code",
   "execution_count": 26,
   "metadata": {},
   "outputs": [
    {
     "name": "stdout",
     "output_type": "stream",
     "text": [
      "Best results: -1.7860315362678931\n",
      "Params used for optimizer:\n",
      "[[1.64230366 0.08750879 0.         0.12854769 2.49365561]\n",
      " [0.93907822 0.62299303 1.10213747 0.41506598 1.45096723]],\n",
      "and params used for hyper optimizer: [1.  2.5 2.5]\n"
     ]
    }
   ],
   "source": [
    "# Here created ealier tester will be used to evaluate results\n",
    "\n",
    "best_results = tester.evaluate(best_params)\n",
    "print(f\"Best results: {best_results}\")\n",
    "print(f\"Params used for optimizer:\\n{best_params['angles']},\\n\"\n",
    "      f\"and params used for hyper optimizer: {best_params['hyper_args']}\")"
   ]
  },
  {
   "attachments": {},
   "cell_type": "markdown",
   "metadata": {},
   "source": [
    "#### Using hyper optimizers"
   ]
  },
  {
   "cell_type": "code",
   "execution_count": 48,
   "metadata": {},
   "outputs": [
    {
     "name": "stderr",
     "output_type": "stream",
     "text": [
      "100%|██████████| 100/100 [29:33<00:00, 17.73s/it]\n"
     ]
    }
   ],
   "source": [
    "# Additionally other optimizer can be used to tune some parameters, in below\n",
    "# example, Random optimzier will change weights (hyper_args) and choose ones\n",
    "# that gives the best results after runnign 200 iteration of scipy minimizer\n",
    "\n",
    "from QHyper.optimizers.random import Random\n",
    "\n",
    "solver_config = {\n",
    "    'pqc': {\n",
    "        'type': 'hqaoa',\n",
    "        'layers': 5,\n",
    "    },\n",
    "    'optimizer': {\n",
    "        'type': 'scipy',\n",
    "        'maxfun': 200\n",
    "    }\n",
    "}\n",
    "\n",
    "vqa = VQA(problem, config=solver_config)\n",
    "\n",
    "random = Random(processes=5, number_of_samples=100, bounds=hyper_optimizer_bounds)\n",
    "best_params_h = vqa.solve(params_cofing, random)"
   ]
  },
  {
   "cell_type": "code",
   "execution_count": 49,
   "metadata": {},
   "outputs": [
    {
     "name": "stdout",
     "output_type": "stream",
     "text": [
      "Best results: -0.1508898084256115\n",
      "Params used for optimizer:\n",
      "[0.62729292 0.40374954 0.40249242 0.54078253 0.51545703 0.97628969\n",
      " 1.04418123 0.92627657 0.95441227 1.01531624],\n",
      "and params used for hyper optimizer: [1.02005268 2.10821942 1.94148846 2.14637279 1.88565744]\n"
     ]
    }
   ],
   "source": [
    "# Again, final results will be evaluated with tester\n",
    "\n",
    "best_results = tester.evaluate(best_params_h)\n",
    "print(f\"Best results: {best_results}\")\n",
    "print(f\"Params used for optimizer:\\n{best_params_h['angles']},\\n\"\n",
    "      f\"and params used for hyper optimizer: {best_params['hyper_args']}\")"
   ]
  },
  {
   "cell_type": "code",
   "execution_count": null,
   "metadata": {},
   "outputs": [],
   "source": []
  }
 ],
 "metadata": {
  "kernelspec": {
   "display_name": "Python 3.10.6 ('venv': venv)",
   "language": "python",
   "name": "python3"
  },
  "language_info": {
   "codemirror_mode": {
    "name": "ipython",
    "version": 3
   },
   "file_extension": ".py",
   "mimetype": "text/x-python",
   "name": "python",
   "nbconvert_exporter": "python",
   "pygments_lexer": "ipython3",
   "version": "3.10.6"
  },
  "orig_nbformat": 4,
  "vscode": {
   "interpreter": {
    "hash": "59ddf9d140262b8237ab82f293175fe16bdb83dcbb2d03089c8be0234363df8c"
   }
  }
 },
 "nbformat": 4,
 "nbformat_minor": 2
}
