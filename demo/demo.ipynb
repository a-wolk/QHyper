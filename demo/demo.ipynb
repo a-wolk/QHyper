{
 "cells": [
  {
   "attachments": {},
   "cell_type": "markdown",
   "metadata": {},
   "source": [
    "## QHyper usecase"
   ]
  },
  {
   "attachments": {},
   "cell_type": "markdown",
   "metadata": {},
   "source": [
    "### Create instance of problem"
   ]
  },
  {
   "cell_type": "code",
   "execution_count": 1,
   "metadata": {},
   "outputs": [
    {
     "name": "stdout",
     "output_type": "stream",
     "text": [
      "[Item(weight=1, value=2), Item(weight=1, value=2), Item(weight=1, value=1)]\n"
     ]
    }
   ],
   "source": [
    "from QHyper.problems.knapsack import KnapsackProblem\n",
    "from QHyper.problems.tsp import TSPProblem\n",
    "\n",
    "PROBLEM_TYPE = 'knapsack' # 'tsp'\n",
    "\n",
    "\n",
    "# Each problem needs different parameters, because it depends on the number\n",
    "# of variables and constraints\n",
    "# Number of hyper_optimizer_bounds depends on the number of constraints,\n",
    "# because each constraint requires one weights, and objective function also\n",
    "# requires one\n",
    " \n",
    "if PROBLEM_TYPE == 'knapsack':\n",
    "    # Create knapsack with 3 items: 2 with weights 1 and value 2 - (1, 2),\n",
    "    # and one with weight 1 and value 1 - (1, 1)\n",
    "    problem = KnapsackProblem(max_weight=2, items=[(1, 2), (1, 2),(1, 1)])\n",
    "    print(problem.knapsack.items)\n",
    "    \n",
    "    params_cofing = {\n",
    "        'angles': [[0.5]*5, [1]*5],\n",
    "        'hyper_args': [1, 2.5, 2.5],\n",
    "    }\n",
    "    hyper_optimizer_bounds = 3*[(1, 10)]\n",
    "\n",
    "elif PROBLEM_TYPE == 'tsp':\n",
    "    # Create Traveling Salesmam Problem with 3 cities\n",
    "    problem = TSPProblem(\n",
    "        number_of_cities=3,\n",
    "    )\n",
    "    params_cofing = {\n",
    "        'angles': [[0.5]*5, [1]*5],\n",
    "        'hyper_args': [1, 2, 2, 2, 2],\n",
    "    }\n",
    "    hyper_optimizer_bounds = 5*[(1, 10)]"
   ]
  },
  {
   "cell_type": "code",
   "execution_count": 2,
   "metadata": {},
   "outputs": [
    {
     "name": "stdout",
     "output_type": "stream",
     "text": [
      "Variables used to describe objective functionand constraints: (x0, x1, x2, x3, x4)\n",
      "Objective function: {('x0',): -2, ('x1',): -2, ('x2',): -1}\n",
      "Constraints:\n",
      "    {('x3',): -1, ('x4',): -1, (): 1}\n",
      "    {('x0',): -1, ('x1',): -1, ('x2',): -1, ('x3',): 1, ('x4',): 2}\n"
     ]
    }
   ],
   "source": [
    "print(f\"Variables used to describe objective function\"\n",
    "      f\"and constraints: {problem.variables}\")\n",
    "print(f\"Objective function: {problem.objective_function}\")\n",
    "print(\"Constraints:\")\n",
    "for constraint in problem.constraints:\n",
    "    print(f\"    {constraint}\")"
   ]
  },
  {
   "attachments": {},
   "cell_type": "markdown",
   "metadata": {},
   "source": [
    "### Use VQA to solve knapsack problem"
   ]
  },
  {
   "cell_type": "code",
   "execution_count": 3,
   "metadata": {},
   "outputs": [],
   "source": [
    "from QHyper.solvers.vqa.base import VQA\n",
    "from QHyper.solvers import Solver"
   ]
  },
  {
   "cell_type": "code",
   "execution_count": 4,
   "metadata": {},
   "outputs": [],
   "source": [
    "# Simple quantum circuit without optimzers will be used to test the results\n",
    "# WF-QAOA is choosen becasue this PQC has most suitable evaluation function\n",
    "\n",
    "tester_config = {\n",
    "    'pqc': {\n",
    "        'type': 'wfqaoa',\n",
    "        'layers': 5,\n",
    "    }\n",
    "}\n",
    "\n",
    "tester = VQA(problem, config=tester_config)"
   ]
  },
  {
   "cell_type": "code",
   "execution_count": 5,
   "metadata": {},
   "outputs": [],
   "source": [
    "# Create a VQA instance with HQAOA as PQC and scipy optimizer\n",
    "# This can be done in two various way\n",
    "# 1. Providing dict with config (usefull to save experiment confing in e.g JSON)\n",
    "\n",
    "solver_config = {\n",
    "    \"solver\": {\n",
    "        \"type\": \"vqa\",\n",
    "        \"args\": {\n",
    "            \"config\": {\n",
    "                \"optimizer\": {\n",
    "                    \"type\": \"scipy\",\n",
    "                    \"maxfun\": 200,\n",
    "                },\n",
    "                \"pqc\": {\n",
    "                    \"type\": \"qaoa\",\n",
    "                    \"layers\": 5,\n",
    "                }\n",
    "            }\n",
    "        }\n",
    "    }\n",
    "}\n",
    "\n",
    "vqa = Solver.from_config(problem, solver_config)\n",
    "\n",
    "# # 2. Providing actual isntance of each class like VQA and Optimizer\n",
    "# from QHyper.solvers.vqa.pqc.h_qaoa import HQAOA\n",
    "# from QHyper.optimizers import ScipyOptimizer\n",
    "\n",
    "# vqa = VQA(problem, HQAOA(layers=5), ScipyOptimizer(maxfun=200))"
   ]
  },
  {
   "cell_type": "code",
   "execution_count": 6,
   "metadata": {},
   "outputs": [
    {
     "name": "stdout",
     "output_type": "stream",
     "text": [
      "Best params: SolverResult(results_probabilities={'00000': 0.03278690389745002, '00001': 0.013965567523489684, '00010': 0.008065834743030442, '00011': 0.007079230955165831, '00100': 0.047641289299360956, '00101': 0.0036126948347180725, '00110': 0.11484838334255981, '00111': 0.012717205278036036, '01000': 0.00610836119011453, '01001': 0.03743951895103084, '01010': 0.04195218900993009, '01011': 0.002675627432851954, '01100': 0.0197931019761892, '01101': 0.05304197866283695, '01110': 0.043638754004485955, '01111': 0.023206890957734698, '10000': 0.006108361190114532, '10001': 0.03743951895103085, '10010': 0.04195218900993004, '10011': 0.0026756274328519503, '10100': 0.019793101976189165, '10101': 0.0530419786628369, '10110': 0.04363875400448585, '10111': 0.02320689095773472, '11000': 0.0016971010505737784, '11001': 0.1007041053043673, '11010': 0.004217980460837994, '11011': 0.020009920381888126, '11100': 0.01584276969900559, '11101': 0.0802708177351212, '11110': 0.002259666481145832, '11111': 0.07856768464289042}, params={'angles': array([[6.20194141, 5.82250628, 1.92747774, 4.20412212, 0.        ],\n",
      "       [5.83373888, 6.28318531, 5.90484631, 6.248782  , 1.66597206]]), 'hyper_args': array([1. , 2.5, 2.5])})\n"
     ]
    }
   ],
   "source": [
    "# Run VQA with provided initial parameters\n",
    "best_params = vqa.solve(params_cofing)\n",
    "print(f\"Best params: {best_params}\")"
   ]
  },
  {
   "cell_type": "code",
   "execution_count": 14,
   "metadata": {},
   "outputs": [
    {
     "name": "stdout",
     "output_type": "stream",
     "text": [
      "Best results: -0.827832587433078\n",
      "Params used for optimizer:\n",
      "[3.73821011 0.27008228 1.62472153 2.00362456 4.41866799 1.51786833\n",
      " 0.40470488 0.69482525 0.         2.47660795],\n",
      "and params used for hyper optimizer: [1.41431361 3.09335526 4.43744609]\n"
     ]
    }
   ],
   "source": [
    "# Here created ealier tester will be used to evaluate results\n",
    "\n",
    "best_results = tester.evaluate(best_params)\n",
    "print(f\"Best results: {best_results}\")\n",
    "print(f\"Params used for optimizer:\\n{best_params['angles']},\\n\"\n",
    "      f\"and params used for hyper optimizer: {best_params['hyper_args']}\")"
   ]
  },
  {
   "attachments": {},
   "cell_type": "markdown",
   "metadata": {},
   "source": [
    "#### Using hyper optimizers"
   ]
  },
  {
   "cell_type": "code",
   "execution_count": 14,
   "metadata": {},
   "outputs": [
    {
     "name": "stderr",
     "output_type": "stream",
     "text": [
      "100%|██████████| 100/100 [10:06<00:00,  6.07s/it]\n"
     ]
    }
   ],
   "source": [
    "# Additionally other optimizer can be used to tune some parameters, in below\n",
    "# example, Random optimzier will change weights (hyper_args) and choose ones\n",
    "# that gives the best results after runnign 200 iteration of scipy minimizer\n",
    "\n",
    "solver_config = {\n",
    "    \"solver\": {\n",
    "        \"type\": \"vqa\",\n",
    "        \"args\": {\n",
    "            \"config\": {\n",
    "                \"optimizer\": {\n",
    "                    \"type\": \"scipy\",\n",
    "                    \"maxfun\": 200,\n",
    "                },\n",
    "                \"pqc\": {\n",
    "                    \"type\": \"wfqaoa\",\n",
    "                    \"layers\": 5,\n",
    "                }\n",
    "            }\n",
    "        }\n",
    "    },\n",
    "    \"hyper_optimizer\": {\n",
    "        \"type\": \"random\",    \n",
    "        \"processes\": 5,\n",
    "        \"number_of_samples\": 100,\n",
    "        \"bounds\": hyper_optimizer_bounds\n",
    "    }\n",
    "}\n",
    "vqa = Solver.from_config(problem, solver_config)\n",
    "\n",
    "best_params_h = vqa.solve(params_cofing)"
   ]
  },
  {
   "cell_type": "code",
   "execution_count": 17,
   "metadata": {},
   "outputs": [
    {
     "name": "stdout",
     "output_type": "stream",
     "text": [
      "Best results: -0.8092853930381896\n",
      "Params used for optimizer:\n",
      "[[1.642333   0.08750181 0.         0.12856457 2.49365188]\n",
      " [0.93903123 0.62302204 1.10216079 0.41515657 1.45091435]],\n",
      "and params used for hyper optimizer: [1.41431361 3.09335526 4.43744609]\n"
     ]
    }
   ],
   "source": [
    "# Again, final results will be evaluated with tester\n",
    "\n",
    "best_results = tester.evaluate(best_params_h)\n",
    "print(f\"Best results: {best_results}\")\n",
    "print(f\"Params used for optimizer:\\n{best_params_h['angles']},\\n\"\n",
    "      f\"and params used for hyper optimizer: {best_params['hyper_args']}\")"
   ]
  },
  {
   "cell_type": "code",
   "execution_count": null,
   "metadata": {},
   "outputs": [],
   "source": []
  }
 ],
 "metadata": {
  "kernelspec": {
   "display_name": "Python 3.10.6 ('venv': venv)",
   "language": "python",
   "name": "python3"
  },
  "language_info": {
   "codemirror_mode": {
    "name": "ipython",
    "version": 3
   },
   "file_extension": ".py",
   "mimetype": "text/x-python",
   "name": "python",
   "nbconvert_exporter": "python",
   "pygments_lexer": "ipython3",
   "version": "3.10.12"
  },
  "orig_nbformat": 4,
  "vscode": {
   "interpreter": {
    "hash": "59ddf9d140262b8237ab82f293175fe16bdb83dcbb2d03089c8be0234363df8c"
   }
  }
 },
 "nbformat": 4,
 "nbformat_minor": 2
}
