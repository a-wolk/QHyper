{
 "cells": [
  {
   "attachments": {},
   "cell_type": "markdown",
   "metadata": {},
   "source": [
    "## QHyper usecase"
   ]
  },
  {
   "attachments": {},
   "cell_type": "markdown",
   "metadata": {},
   "source": [
    "### Create instance of problem"
   ]
  },
  {
   "cell_type": "code",
   "execution_count": 1,
   "metadata": {},
   "outputs": [
    {
     "name": "stdout",
     "output_type": "stream",
     "text": [
      "[Item(weight=1, value=2), Item(weight=1, value=2), Item(weight=1, value=1)]\n"
     ]
    }
   ],
   "source": [
    "from QHyper.problems.knapsack import KnapsackProblem\n",
    "from QHyper.problems.tsp import TSPProblem\n",
    "\n",
    "PROBLEM_TYPE = 'knapsack' # 'tsp'\n",
    "\n",
    "\n",
    "# Each problem needs different parameters, because it depends on the number\n",
    "# of variables and constraints\n",
    "# Number of hyper_optimizer_bounds depends on the number of constraints,\n",
    "# because each constraint requires one weights, and objective function also\n",
    "# requires one\n",
    " \n",
    "if PROBLEM_TYPE == 'knapsack':\n",
    "    # Create knapsack with 3 items: 2 with weights 1 and value 2 - (1, 2),\n",
    "    # and one with weight 1 and value 1 - (1, 1)\n",
    "    problem = KnapsackProblem(max_weight=2, items=[(1, 2), (1, 2),(1, 1)])\n",
    "    print(problem.knapsack.items)\n",
    "    \n",
    "    params_cofing = {\n",
    "        'angles': [[0.5]*5, [1]*5],\n",
    "        'hyper_args': [1, 2.5, 2.5],\n",
    "    }\n",
    "    hyper_optimizer_bounds = 3*[(1, 10)]\n",
    "    penalty = 2\n",
    "\n",
    "elif PROBLEM_TYPE == 'tsp':\n",
    "    # Create Traveling Salesmam Problem with 3 cities\n",
    "    problem = TSPProblem(\n",
    "        number_of_cities=3,\n",
    "    )\n",
    "    params_cofing = {\n",
    "        'angles': [[0.5]*5, [1]*5],\n",
    "        'hyper_args': [1, 2, 2, 2, 2],\n",
    "    }\n",
    "    hyper_optimizer_bounds = 5*[(1, 10)]\n",
    "    penalty = -1"
   ]
  },
  {
   "cell_type": "code",
   "execution_count": 2,
   "metadata": {},
   "outputs": [
    {
     "name": "stdout",
     "output_type": "stream",
     "text": [
      "Variables used to describe objective functionand constraints: (x0, x1, x2, x3, x4)\n",
      "Objective function: {('x0',): -2, ('x1',): -2, ('x2',): -1}\n",
      "Constraints:\n",
      "    {('x3',): -1, ('x4',): -1, (): 1}\n",
      "    {('x0',): -1, ('x1',): -1, ('x2',): -1, ('x3',): 1, ('x4',): 2}\n"
     ]
    }
   ],
   "source": [
    "print(f\"Variables used to describe objective function\"\n",
    "      f\"and constraints: {problem.variables}\")\n",
    "print(f\"Objective function: {problem.objective_function}\")\n",
    "print(\"Constraints:\")\n",
    "for constraint in problem.constraints:\n",
    "    print(f\"    {constraint}\")"
   ]
  },
  {
   "attachments": {},
   "cell_type": "markdown",
   "metadata": {},
   "source": [
    "### Use VQA to solve knapsack problem"
   ]
  },
  {
   "cell_type": "code",
   "execution_count": 5,
   "metadata": {},
   "outputs": [],
   "source": [
    "# Create a VQA instance with HQAOA as PQC and scipy optimizer\n",
    "# This can be done in two various way\n",
    "# 1. Providing dict with config (usefull to save experiment confing in e.g JSON)\n",
    "from QHyper.solvers import Solver\n",
    "\n",
    "solver_config = {\n",
    "    \"solver\": {\n",
    "        \"type\": \"vqa\",\n",
    "        \"args\": {\n",
    "            \"config\": {\n",
    "                \"optimizer\": {\n",
    "                    \"type\": \"scipy\",\n",
    "                    \"maxfun\": 200,\n",
    "                },\n",
    "                \"pqc\": {\n",
    "                    \"type\": \"wfqaoa\",\n",
    "                    \"layers\": 5,\n",
    "                    \"limit_results\": 20,\n",
    "                    \"penalty\": penalty,\n",
    "                    \"backend\": \"default.qubit\",\n",
    "                }\n",
    "            }\n",
    "        }\n",
    "    }\n",
    "}\n",
    "\n",
    "vqa = Solver.from_config(problem, solver_config)\n",
    "\n",
    "# # 2. Providing actual isntance of each class like VQA and Optimizer\n",
    "# from QHyper.solvers.vqa.base import VQA\n",
    "# from QHyper.solvers.vqa.pqc.h_qaoa import HQAOA\n",
    "# from QHyper.optimizers import ScipyOptimizer\n",
    "\n",
    "# vqa = VQA(problem, HQAOA(layers=5), ScipyOptimizer(maxfun=200))"
   ]
  },
  {
   "cell_type": "code",
   "execution_count": 6,
   "metadata": {},
   "outputs": [
    {
     "name": "stdout",
     "output_type": "stream",
     "text": [
      "Solver results:\n",
      "Probabilities: {'00000': 0.0732912838324004, '00001': 0.01812365507384847, '00010': 0.05407207652748644, '00011': 0.0701062245930107, '00100': 0.017498889261866067, '00101': 0.009292651366578255, '00110': 0.050293202934572685, '00111': 0.016844666311210565, '01000': 0.046624559969783416, '01001': 0.009582944060964814, '01010': 0.04374581517898236, '01011': 0.007336159588485337, '01100': 0.010700779894629564, '01101': 0.07661867874108277, '01110': 0.007507066502992263, '01111': 0.023008509073494634, '10000': 0.04662455996978336, '10001': 0.0095829440609648, '10010': 0.04374581517898232, '10011': 0.00733615958848532, '10100': 0.010700779894629532, '10101': 0.07661867874108272, '10110': 0.00750706650299228, '10111': 0.02300850907349465, '11000': 0.02873850917070903, '11001': 0.06522050516274285, '11010': 0.01700164098761874, '11011': 0.02196157538990109, '11100': 0.035843090675343484, '11101': 0.014437271029358385, '11110': 0.002494804987010662, '11111': 0.054530926675500725}\n",
      "Best params: {'angles': array([[4.77452593, 3.29033494, 0.85409721, 2.25547951, 5.960884  ],\n",
      "       [1.64590219, 0.48733654, 0.26765959, 0.03158379, 3.06768805]]), 'hyper_args': array([1. , 2.5, 2.5])}\n"
     ]
    }
   ],
   "source": [
    "# Run VQA with provided initial parameters\n",
    "solver_results = vqa.solve(params_cofing)\n",
    "\n",
    "print(\"Solver results:\")\n",
    "print(f\"Probabilities: {solver_results.results_probabilities}\")\n",
    "print(f\"Best params: {solver_results.params}\")"
   ]
  },
  {
   "cell_type": "code",
   "execution_count": 18,
   "metadata": {},
   "outputs": [
    {
     "name": "stdout",
     "output_type": "stream",
     "text": [
      "Evaluation:\n",
      "-1.2555153432454813\n",
      "Sort results:\n",
      "Result: 01101, Prob: 0.076619, Evaluation: -3\n",
      "Result: 10101, Prob: 0.076619, Evaluation: -3\n",
      "Result: 00000, Prob: 0.073291, Evaluation: 0\n",
      "Result: 00011, Prob: 0.070106, Evaluation: 1\n",
      "Result: 11001, Prob: 0.065221, Evaluation: -4\n",
      "Result: 11111, Prob: 0.054531, Evaluation: 1\n",
      "Result: 00010, Prob: 0.054072, Evaluation: 1\n",
      "Result: 00110, Prob: 0.050293, Evaluation: -1\n",
      "Result: 01000, Prob: 0.046625, Evaluation: 1\n",
      "Result: 10000, Prob: 0.046625, Evaluation: 1\n"
     ]
    }
   ],
   "source": [
    "from QHyper.util import (\n",
    "    weighted_avg_evaluation, sort_solver_results, add_evaluation_to_results)\n",
    "\n",
    "# Evaluate results with weighted average evaluation\n",
    "print(\"Evaluation:\")\n",
    "print(weighted_avg_evaluation(\n",
    "    solver_results.results_probabilities, problem.get_score,\n",
    "    penalty=0, limit_results=10, normalize=True\n",
    "))\n",
    "print(\"Sort results:\")\n",
    "sorted_results = sort_solver_results(\n",
    "    solver_results.results_probabilities, limit_results=10)\n",
    "\n",
    "# Add evaluation to results\n",
    "results_with_evaluation = add_evaluation_to_results(\n",
    "    sorted_results, problem.get_score, penalty=penalty)\n",
    "\n",
    "for result, (probability, evaluation) in results_with_evaluation.items():\n",
    "    print(f\"Result: {result}, \"\n",
    "          f\"Prob: {probability:.5}, \"\n",
    "          f\"Evaluation: {evaluation}\")"
   ]
  },
  {
   "attachments": {},
   "cell_type": "markdown",
   "metadata": {},
   "source": [
    "#### Using hyper optimizers"
   ]
  },
  {
   "cell_type": "code",
   "execution_count": 19,
   "metadata": {},
   "outputs": [],
   "source": [
    "# Additionally other optimizer can be used to tune some parameters, in below\n",
    "# example, Random optimzier will change weights (hyper_args) and choose ones\n",
    "# that gives the best results after runnign 200 iteration of scipy minimizer\n",
    "\n",
    "solver_config = {\n",
    "    \"solver\": {\n",
    "        \"type\": \"vqa\",\n",
    "        \"args\": {\n",
    "            \"config\": {\n",
    "                \"optimizer\": {\n",
    "                    \"type\": \"scipy\",\n",
    "                    \"maxfun\": 200,\n",
    "                },\n",
    "                \"pqc\": {\n",
    "                    \"type\": \"wfqaoa\",\n",
    "                    \"layers\": 5,\n",
    "                    \"limit_results\": 20,\n",
    "                    \"penalty\": penalty,\n",
    "                }\n",
    "            }\n",
    "        }\n",
    "    },\n",
    "    \"hyper_optimizer\": {\n",
    "        \"type\": \"random\",    \n",
    "        \"processes\": 5,\n",
    "        \"number_of_samples\": 100,\n",
    "        \"bounds\": hyper_optimizer_bounds,\n",
    "    }\n",
    "}\n",
    "vqa = Solver.from_config(problem, solver_config)"
   ]
  },
  {
   "cell_type": "code",
   "execution_count": 20,
   "metadata": {},
   "outputs": [
    {
     "name": "stderr",
     "output_type": "stream",
     "text": [
      "100%|██████████| 100/100 [06:00<00:00,  3.60s/it]\n"
     ]
    },
    {
     "name": "stdout",
     "output_type": "stream",
     "text": [
      "Solver results:\n",
      "Probabilities: {'00000': 0.007118861872541281, '00001': 0.009921948041810997, '00010': 0.0015266307913184233, '00011': 0.0016639862347727916, '00100': 0.010369559565702876, '00101': 0.01806399881141381, '00110': 0.0015042657900170312, '00111': 0.005333676399055305, '01000': 0.006836296965029216, '01001': 0.011303305749643559, '01010': 0.027840715096155332, '01011': 0.009542662627372089, '01100': 0.011750509111893272, '01101': 0.02283156287760987, '01110': 0.013205497588776809, '01111': 0.01156275096899293, '10000': 0.0068362969650291976, '10001': 0.011303305749643455, '10010': 0.02784071509615512, '10011': 0.009542662627372106, '10100': 0.011750509111893247, '10101': 0.02283156287760984, '10110': 0.013205497588776802, '10111': 0.01156275096899291, '11000': 0.017692962278118122, '11001': 0.5338020887984691, '11010': 0.08673026688362817, '11011': 0.005415330576118064, '11100': 0.011769269908157047, '11101': 0.008547319581291492, '11110': 0.02784585770449222, '11111': 0.022947374792136904}\n",
      "Best params: {'angles': array([[0.39633402, 1.65532872, 0.62914384, 1.36664721, 0.33987416],\n",
      "       [1.70826888, 1.15823726, 1.28481909, 1.11726553, 1.67631991]]), 'hyper_args': array([1.92146524, 1.93735587, 1.59167938])}\n"
     ]
    }
   ],
   "source": [
    "solver_results = vqa.solve(params_cofing)\n",
    "\n",
    "print(\"Solver results:\")\n",
    "print(f\"Probabilities: {solver_results.results_probabilities}\")\n",
    "print(f\"Best params: {solver_results.params}\")"
   ]
  },
  {
   "cell_type": "code",
   "execution_count": 21,
   "metadata": {},
   "outputs": [
    {
     "name": "stdout",
     "output_type": "stream",
     "text": [
      "Evaluation:\n",
      "-2.94839272145375\n",
      "Sort results:\n",
      "Result: 11001, Prob: 0.5338, Evaluation: -4\n",
      "Result: 11010, Prob: 0.08673, Evaluation: 1\n",
      "Result: 11110, Prob: 0.027846, Evaluation: 1\n",
      "Result: 01010, Prob: 0.027841, Evaluation: -2\n",
      "Result: 10010, Prob: 0.027841, Evaluation: -2\n",
      "Result: 11111, Prob: 0.022947, Evaluation: 1\n",
      "Result: 01101, Prob: 0.022832, Evaluation: -3\n",
      "Result: 10101, Prob: 0.022832, Evaluation: -3\n",
      "Result: 00101, Prob: 0.018064, Evaluation: 1\n",
      "Result: 11000, Prob: 0.017693, Evaluation: 1\n"
     ]
    }
   ],
   "source": [
    "print(\"Evaluation:\")\n",
    "print(weighted_avg_evaluation(\n",
    "    solver_results.results_probabilities, problem.get_score,\n",
    "    penalty=0, limit_results=10, normalize=True\n",
    "))\n",
    "print(\"Sort results:\")\n",
    "sorted_results = sort_solver_results(\n",
    "    solver_results.results_probabilities, limit_results=10)\n",
    "\n",
    "results_with_evaluation = add_evaluation_to_results(\n",
    "    sorted_results, problem.get_score, penalty=penalty)\n",
    "\n",
    "for result, (probability, evaluation) in results_with_evaluation.items():\n",
    "    print(f\"Result: {result}, \"\n",
    "          f\"Prob: {probability:.5}, \"\n",
    "          f\"Evaluation: {evaluation}\")"
   ]
  }
 ],
 "metadata": {
  "kernelspec": {
   "display_name": "Python 3.10.6 ('venv': venv)",
   "language": "python",
   "name": "python3"
  },
  "language_info": {
   "codemirror_mode": {
    "name": "ipython",
    "version": 3
   },
   "file_extension": ".py",
   "mimetype": "text/x-python",
   "name": "python",
   "nbconvert_exporter": "python",
   "pygments_lexer": "ipython3",
   "version": "3.10.12"
  },
  "orig_nbformat": 4,
  "vscode": {
   "interpreter": {
    "hash": "59ddf9d140262b8237ab82f293175fe16bdb83dcbb2d03089c8be0234363df8c"
   }
  }
 },
 "nbformat": 4,
 "nbformat_minor": 2
}
