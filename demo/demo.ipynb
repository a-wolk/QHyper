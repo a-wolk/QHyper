{
 "cells": [
  {
   "attachments": {},
   "cell_type": "markdown",
   "metadata": {},
   "source": [
    "## QHyper usecase"
   ]
  },
  {
   "attachments": {},
   "cell_type": "markdown",
   "metadata": {},
   "source": [
    "### Create instance of problem"
   ]
  },
  {
   "cell_type": "code",
   "execution_count": 1,
   "metadata": {},
   "outputs": [
    {
     "name": "stdout",
     "output_type": "stream",
     "text": [
      "[Item(weight=1, value=2), Item(weight=1, value=2), Item(weight=1, value=1)]\n"
     ]
    }
   ],
   "source": [
    "from QHyper.problems.knapsack import KnapsackProblem\n",
    "from QHyper.problems.tsp import TSPProblem\n",
    "\n",
    "PROBLEM_TYPE = 'knapsack' # 'tsp'\n",
    "\n",
    "\n",
    "# Each problem needs different parameters, because it depends on the number\n",
    "# of variables and constraints\n",
    "# Number of hyper_optimizer_bounds depends on the number of constraints,\n",
    "# because each constraint requires one weights, and objective function also\n",
    "# requires one\n",
    " \n",
    "if PROBLEM_TYPE == 'knapsack':\n",
    "    # Create knapsack with 3 items: 2 with weights 1 and value 2 - (1, 2),\n",
    "    # and one with weight 1 and value 1 - (1, 1)\n",
    "    problem = KnapsackProblem(max_weight=2, items=[(1, 2), (1, 2),(1, 1)])\n",
    "    print(problem.knapsack.items)\n",
    "    \n",
    "    params_cofing = {\n",
    "        'angles': [[0.5]*5, [1]*5],\n",
    "        'hyper_args': [1, 2.5, 2.5],\n",
    "    }\n",
    "    hyper_optimizer_bounds = 3*[(1, 10)]\n",
    "\n",
    "elif PROBLEM_TYPE == 'tsp':\n",
    "    # Create Traveling Salesmam Problem with 3 cities\n",
    "    problem = TSPProblem(\n",
    "        number_of_cities=3,\n",
    "    )\n",
    "    params_cofing = {\n",
    "        'angles': [[0.5]*5, [1]*5],\n",
    "        'hyper_args': [1, 2, 2, 2, 2],\n",
    "    }\n",
    "    hyper_optimizer_bounds = 5*[(1, 10)]"
   ]
  },
  {
   "cell_type": "code",
   "execution_count": 2,
   "metadata": {},
   "outputs": [
    {
     "name": "stdout",
     "output_type": "stream",
     "text": [
      "Variables used to describe objective functionand constraints: (x0, x1, x2, x3, x4)\n",
      "Objective function: {('x0',): -2, ('x1',): -2, ('x2',): -1}\n",
      "Constraints:\n",
      "    {('x3',): -1, ('x4',): -1, (): 1}\n",
      "    {('x0',): -1, ('x1',): -1, ('x2',): -1, ('x3',): 1, ('x4',): 2}\n"
     ]
    }
   ],
   "source": [
    "print(f\"Variables used to describe objective function\"\n",
    "      f\"and constraints: {problem.variables}\")\n",
    "print(f\"Objective function: {problem.objective_function}\")\n",
    "print(\"Constraints:\")\n",
    "for constraint in problem.constraints:\n",
    "    print(f\"    {constraint}\")"
   ]
  },
  {
   "attachments": {},
   "cell_type": "markdown",
   "metadata": {},
   "source": [
    "### Use VQA to solve knapsack problem"
   ]
  },
  {
   "cell_type": "code",
   "execution_count": 3,
   "metadata": {},
   "outputs": [],
   "source": [
    "from QHyper.solvers.vqa.base import VQA\n",
    "from QHyper.solvers import Solver"
   ]
  },
  {
   "cell_type": "code",
   "execution_count": 4,
   "metadata": {},
   "outputs": [],
   "source": [
    "# Simple quantum circuit without optimzers will be used to test the results\n",
    "# WF-QAOA is choosen becasue this PQC has most suitable evaluation function\n",
    "\n",
    "# tester_config = {\n",
    "#     'pqc': {\n",
    "#         'type': 'wfqaoa',\n",
    "#         'layers': 5,\n",
    "#     }\n",
    "# }\n",
    "\n",
    "# tester = VQA(problem, config=tester_config)"
   ]
  },
  {
   "cell_type": "code",
   "execution_count": 5,
   "metadata": {},
   "outputs": [],
   "source": [
    "# Create a VQA instance with HQAOA as PQC and scipy optimizer\n",
    "# This can be done in two various way\n",
    "# 1. Providing dict with config (usefull to save experiment confing in e.g JSON)\n",
    "\n",
    "solver_config = {\n",
    "    \"solver\": {\n",
    "        \"type\": \"vqa\",\n",
    "        \"args\": {\n",
    "            \"config\": {\n",
    "                \"optimizer\": {\n",
    "                    \"type\": \"scipy\",\n",
    "                    \"maxfun\": 200,\n",
    "                },\n",
    "                \"pqc\": {\n",
    "                    \"type\": \"wfqaoa\",\n",
    "                    \"layers\": 5,\n",
    "                    \"limit_results\": 20,\n",
    "                    \"penalty\": 2\n",
    "                }\n",
    "            }\n",
    "        }\n",
    "    }\n",
    "}\n",
    "\n",
    "vqa = Solver.from_config(problem, solver_config)\n",
    "\n",
    "# # 2. Providing actual isntance of each class like VQA and Optimizer\n",
    "# from QHyper.solvers.vqa.pqc.h_qaoa import HQAOA\n",
    "# from QHyper.optimizers import ScipyOptimizer\n",
    "\n",
    "# vqa = VQA(problem, HQAOA(layers=5), ScipyOptimizer(maxfun=200))"
   ]
  },
  {
   "cell_type": "code",
   "execution_count": 6,
   "metadata": {},
   "outputs": [
    {
     "name": "stdout",
     "output_type": "stream",
     "text": [
      "Best hyper args: [1.  2.5 2.5]\n",
      "Solver results:\n",
      "Probabilities: {'00000': 0.0732912838324004, '00001': 0.01812365507384847, '00010': 0.05407207652748644, '00011': 0.0701062245930107, '00100': 0.017498889261866067, '00101': 0.009292651366578255, '00110': 0.050293202934572685, '00111': 0.016844666311210565, '01000': 0.046624559969783416, '01001': 0.009582944060964814, '01010': 0.04374581517898236, '01011': 0.007336159588485337, '01100': 0.010700779894629564, '01101': 0.07661867874108277, '01110': 0.007507066502992263, '01111': 0.023008509073494634, '10000': 0.04662455996978336, '10001': 0.0095829440609648, '10010': 0.04374581517898232, '10011': 0.00733615958848532, '10100': 0.010700779894629532, '10101': 0.07661867874108272, '10110': 0.00750706650299228, '10111': 0.02300850907349465, '11000': 0.02873850917070903, '11001': 0.06522050516274285, '11010': 0.01700164098761874, '11011': 0.02196157538990109, '11100': 0.035843090675343484, '11101': 0.014437271029358385, '11110': 0.002494804987010662, '11111': 0.054530926675500725}\n",
      "Best params: {'angles': array([[4.77452593, 3.29033494, 0.85409721, 2.25547951, 5.960884  ],\n",
      "       [1.64590219, 0.48733654, 0.26765959, 0.03158379, 3.06768805]]), 'hyper_args': array([1. , 2.5, 2.5])}\n"
     ]
    }
   ],
   "source": [
    "# Run VQA with provided initial parameters\n",
    "solver_results = vqa.solve(params_cofing)\n",
    "\n",
    "print(\"Solver results:\")\n",
    "print(f\"Probabilities: {solver_results.results_probabilities}\")\n",
    "print(f\"Best params: {solver_results.params}\")"
   ]
  },
  {
   "cell_type": "code",
   "execution_count": 7,
   "metadata": {},
   "outputs": [
    {
     "name": "stdout",
     "output_type": "stream",
     "text": [
      "Evaluation:\n",
      "-1.2555153432454813\n",
      "Sorted results:\n",
      "{'01101': 0.07661867874108277, '10101': 0.07661867874108272, '00000': 0.0732912838324004, '00011': 0.0701062245930107, '11001': 0.06522050516274285, '11111': 0.054530926675500725, '00010': 0.05407207652748644, '00110': 0.050293202934572685, '01000': 0.046624559969783416, '10000': 0.04662455996978336}\n"
     ]
    }
   ],
   "source": [
    "from QHyper.util import weighted_avg_evaluation, sort_solver_results\n",
    "\n",
    "# Evaluate results with weighted average evaluation\n",
    "print(\"Evaluation:\")\n",
    "print(weighted_avg_evaluation(\n",
    "    solver_results.results_probabilities, problem.get_score,\n",
    "    penalty=0, limit_results=10, normalize=True\n",
    "))\n",
    "print(\"Sorted results:\")\n",
    "print(sort_solver_results(solver_results.results_probabilities, limit_results=10))"
   ]
  },
  {
   "cell_type": "code",
   "execution_count": 8,
   "metadata": {},
   "outputs": [],
   "source": [
    "# Here created ealier tester will be used to evaluate results\n",
    "\n",
    "# best_results = tester.evaluate(best_params)\n",
    "# print(f\"Best results: {best_results}\")\n",
    "# print(f\"Params used for optimizer:\\n{best_params['angles']},\\n\"\n",
    "#       f\"and params used for hyper optimizer: {best_params['hyper_args']}\")"
   ]
  },
  {
   "attachments": {},
   "cell_type": "markdown",
   "metadata": {},
   "source": [
    "#### Using hyper optimizers"
   ]
  },
  {
   "cell_type": "code",
   "execution_count": 9,
   "metadata": {},
   "outputs": [],
   "source": [
    "# Additionally other optimizer can be used to tune some parameters, in below\n",
    "# example, Random optimzier will change weights (hyper_args) and choose ones\n",
    "# that gives the best results after runnign 200 iteration of scipy minimizer\n",
    "\n",
    "solver_config = {\n",
    "    \"solver\": {\n",
    "        \"type\": \"vqa\",\n",
    "        \"args\": {\n",
    "            \"config\": {\n",
    "                \"optimizer\": {\n",
    "                    \"type\": \"scipy\",\n",
    "                    \"maxfun\": 200,\n",
    "                },\n",
    "                \"pqc\": {\n",
    "                    \"type\": \"wfqaoa\",\n",
    "                    \"layers\": 5,\n",
    "                    \"limit_results\": 20,\n",
    "                    \"penalty\": 2\n",
    "                }\n",
    "            }\n",
    "        }\n",
    "    },\n",
    "    \"hyper_optimizer\": {\n",
    "        \"type\": \"random\",    \n",
    "        \"processes\": 5,\n",
    "        \"number_of_samples\": 100,\n",
    "        \"bounds\": hyper_optimizer_bounds\n",
    "    }\n",
    "}\n",
    "vqa = Solver.from_config(problem, solver_config)"
   ]
  },
  {
   "cell_type": "code",
   "execution_count": 10,
   "metadata": {},
   "outputs": [
    {
     "name": "stderr",
     "output_type": "stream",
     "text": [
      "  0%|          | 0/100 [00:00<?, ?it/s]"
     ]
    },
    {
     "name": "stderr",
     "output_type": "stream",
     "text": [
      "100%|██████████| 100/100 [05:44<00:00,  3.44s/it]\n"
     ]
    },
    {
     "name": "stdout",
     "output_type": "stream",
     "text": [
      "Best hyper args: [2.04005423 7.83521531 6.33957791]\n",
      "Solver results:\n",
      "Probabilities: {'00000': 0.059239354303146786, '00001': 0.011548323289243477, '00010': 0.032373346567151184, '00011': 0.004432339559983008, '00100': 0.003227543534714331, '00101': 0.014650296991314817, '00110': 0.12355778019742689, '00111': 0.0076988056892276086, '01000': 0.005376032149061929, '01001': 0.010237226411964223, '01010': 0.10710115653854947, '01011': 0.008860764441300541, '01100': 0.008615873127187847, '01101': 0.10812773570267861, '01110': 0.007405266528697867, '01111': 0.006771485701362549, '10000': 0.005376032149061932, '10001': 0.010237226411964217, '10010': 0.10710115653854947, '10011': 0.008860764441300528, '10100': 0.008615873127187855, '10101': 0.10812773570267857, '10110': 0.007405266528697866, '10111': 0.006771485701362545, '11000': 0.008442885983484154, '11001': 0.09616717030614107, '11010': 0.0108197025868455, '11011': 0.0062708363355956035, '11100': 0.00897497056675387, '11101': 0.016041437931758287, '11110': 0.009774056283835757, '11111': 0.061790068671762725}\n",
      "Best params: {'angles': array([[0.02700068, 0.08614246, 6.20870774, 6.27759602, 6.26278591],\n",
      "       [1.15529654, 0.        , 1.32730791, 3.19866203, 1.48120534]]), 'hyper_args': array([2.04005423, 7.83521531, 6.33957791])}\n"
     ]
    }
   ],
   "source": [
    "solver_results = vqa.solve(params_cofing)\n",
    "\n",
    "print(\"Solver results:\")\n",
    "print(f\"Probabilities: {solver_results.results_probabilities}\")\n",
    "print(f\"Best params: {solver_results.params}\")"
   ]
  },
  {
   "cell_type": "code",
   "execution_count": 11,
   "metadata": {},
   "outputs": [
    {
     "name": "stdout",
     "output_type": "stream",
     "text": [
      "Evaluation:\n",
      "-1.719135691005536\n",
      "Sorted results:\n",
      "{'00110': 0.12355778019742689, '01101': 0.10812773570267861, '10101': 0.10812773570267857, '01010': 0.10710115653854947, '10010': 0.10710115653854947, '11001': 0.09616717030614107, '11111': 0.061790068671762725, '00000': 0.059239354303146786, '00010': 0.032373346567151184, '11101': 0.016041437931758287}\n"
     ]
    }
   ],
   "source": [
    "print(\"Evaluation:\")\n",
    "print(weighted_avg_evaluation(\n",
    "    solver_results.results_probabilities, problem.get_score,\n",
    "    penalty=0, limit_results=20, normalize=True\n",
    "))\n",
    "print(\"Sorted results:\")\n",
    "print(sort_solver_results(solver_results.results_probabilities, limit_results=10))"
   ]
  },
  {
   "cell_type": "code",
   "execution_count": null,
   "metadata": {},
   "outputs": [],
   "source": []
  }
 ],
 "metadata": {
  "kernelspec": {
   "display_name": "Python 3.10.6 ('venv': venv)",
   "language": "python",
   "name": "python3"
  },
  "language_info": {
   "codemirror_mode": {
    "name": "ipython",
    "version": 3
   },
   "file_extension": ".py",
   "mimetype": "text/x-python",
   "name": "python",
   "nbconvert_exporter": "python",
   "pygments_lexer": "ipython3",
   "version": "3.10.12"
  },
  "orig_nbformat": 4,
  "vscode": {
   "interpreter": {
    "hash": "59ddf9d140262b8237ab82f293175fe16bdb83dcbb2d03089c8be0234363df8c"
   }
  }
 },
 "nbformat": 4,
 "nbformat_minor": 2
}
