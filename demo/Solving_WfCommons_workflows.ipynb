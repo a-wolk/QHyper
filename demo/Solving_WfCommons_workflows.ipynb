{
 "cells": [
  {
   "attachments": {},
   "cell_type": "markdown",
   "id": "a7d1d81d",
   "metadata": {
    "slideshow": {
     "slide_type": "slide"
    }
   },
   "source": [
    "## WfCommons to QUBO: Dealing with inequality constraints \n",
    "\n",
    "An inequality constraint:  $$h(x) = \\sum_{i} l_i x_i  - C \\leq 0$$"
   ]
  },
  {
   "cell_type": "markdown",
   "id": "bdbc6ec4",
   "metadata": {
    "slideshow": {
     "slide_type": "fragment"
    }
   },
   "source": [
    "1) Using slacks: \n",
    "\n",
    "$$ \\big(\\sum_{i} l_i x_i + \\sum_{k} 2^k s_k - C \\big)^2 = 0  $$\n"
   ]
  },
  {
   "cell_type": "markdown",
   "id": "a39a7cd1",
   "metadata": {
    "slideshow": {
     "slide_type": "fragment"
    }
   },
   "source": [
    "2. Using the **unbalanced function** (A. Montanez-Barrera et al., 2022) :\n",
    "\n",
    "$$ e^{h(x)} \\approx 1 + h(x) + \\frac{1}{2} h(x)^2 $$\n",
    "\n",
    "$$ \\lambda_1 \\big(\\sum_{i} l_i x_i - C\\big) + \\lambda_2 \\big(\\sum_{i} l_i x_i - C\\big)^2 $$"
   ]
  },
  {
   "cell_type": "markdown",
   "id": "c9cd76b6",
   "metadata": {
    "slideshow": {
     "slide_type": "slide"
    }
   },
   "source": [
    "2. Using the **unbalanced function** (A. Montanez-Barrera et al., 2022) :\n",
    "\n",
    "$$ e^{h(x)} \\approx 1 + h(x) + \\frac{1}{2} h(x)^2 $$\n",
    "\n",
    "$$ \\lambda_1 \\big(\\sum_{i} l_i x_i - C\\big) + \\lambda_2 \\big(\\sum_{i} l_i x_i - C\\big)^2 $$"
   ]
  },
  {
   "cell_type": "code",
   "execution_count": 1,
   "id": "f9d96cf4",
   "metadata": {
    "slideshow": {
     "slide_type": "-"
    }
   },
   "outputs": [],
   "source": [
    "import numpy as np\n",
    "params_config = {\n",
    "    'angles': [[1.9482, 4.2254, 4.1086, 5.7801, 4.1416, 3.8738],   # gammas\n",
    "               [0.9043, 2.5178, 1.7931, 2.4655, 1.3755, 1.0457]],  # betas\n",
    "    'hyper_args': [1, 2, 2], # obj. function, lambda_1, lambda_2\n",
    "}"
   ]
  },
  {
   "cell_type": "code",
   "execution_count": 2,
   "id": "8dbdf752",
   "metadata": {
    "slideshow": {
     "slide_type": "slide"
    }
   },
   "outputs": [],
   "source": [
    "from QHyper.solvers import VQA, solver_from_config\n",
    "\n",
    "solver_config = {\n",
    "    \"problem\": {\n",
    "        \"type\": \"workflow_scheduling\",\n",
    "        \"encoding\": \"binary\",\n",
    "        \"tasks_file\": \"workflows_data/workflows/3_tasks_1_path.json\",\n",
    "        \"machines_file\": \"workflows_data/machines/4_machines.json\",\n",
    "        \"deadline\": 13,\n",
    "    },\n",
    "    \"solver\": {\n",
    "        \"type\": \"vqa\",\n",
    "        \"pqc\": {\n",
    "            \"type\": \"sim_hamiltonian_qaoa\",\n",
    "            \"layers\": 6,\n",
    "            \"optimizer\": \"adam\",\n",
    "            \"optimizer_args\": {\n",
    "                \"stepsize\": 0.00045,\n",
    "                \"steps\": 1,\n",
    "                \"verbose\": True,\n",
    "            },\n",
    "            \"backend\": \"lightning.qubit\",\n",
    "        },\n",
    "        \"params_inits\": params_config\n",
    "    }\n",
    "}\n",
    "\n",
    "vqa = solver_from_config(solver_config)"
   ]
  },
  {
   "cell_type": "code",
   "execution_count": 3,
   "id": "9a6cd5de",
   "metadata": {},
   "outputs": [],
   "source": [
    "import pennylane as qml\n",
    "\n",
    "dev = qml.device(\"lightning.qubit\", wires=[str(x) for x in vqa.problem.variables] + [f\"a{i}\" for i in range(3 + 2 + len(vqa.problem.variables))])\n",
    "\n",
    "vqa.pqc.dev = dev\n",
    "test_circuit = vqa.pqc.get_expval_circuit(vqa.problem, list(vqa.params_inits['hyper_args']))\n",
    "\n",
    "# cost_operator = vqa.pqc.create_qubo(vqa.problem, list(vqa.params_inits['hyper_args']))\n",
    "# @qml.qnode(dev)\n",
    "# def test_circuit(params):\n",
    "#     vqa.pqc._circuit(vqa.problem, params, cost_operator)\n",
    "#     return qml.state()"
   ]
  },
  {
   "cell_type": "code",
   "execution_count": 4,
   "id": "82096d66",
   "metadata": {},
   "outputs": [
    {
     "name": "stdout",
     "output_type": "stream",
     "text": [
      "SimHamiltonianQAOA 6 lightning.qubit\n",
      "AAAAAAAAAAAAAAAAAAAAAAAAAA\n",
      "BBBBBBBBBBBBBBBBBBBBBBBBBBB\n",
      "CCCCCCCCCCCCCCCCCCCCCCCCCCCCC\n",
      "CCCCCCCCCCCCCCCCCCCCCCCCCCCCC\n",
      "CCCCCCCCCCCCCCCCCCCCCCCCCCCCC\n",
      "CCCCCCCCCCCCCCCCCCCCCCCCCCCCC\n",
      "CCCCCCCCCCCCCCCCCCCCCCCCCCCCC\n",
      "CCCCCCCCCCCCCCCCCCCCCCCCCCCCC\n",
      "CCCCCCCCCCCCCCCCCCCCCCCCCCCCC\n",
      "CCCCCCCCCCCCCCCCCCCCCCCCCCCCC\n",
      "CCCCCCCCCCCCCCCCCCCCCCCCCCCCC\n",
      "CCCCCCCCCCCCCCCCCCCCCCCCCCCCC\n",
      "CCCCCCCCCCCCCCCCCCCCCCCCCCCCC\n",
      "CCCCCCCCCCCCCCCCCCCCCCCCCCCCC\n",
      "CCCCCCCCCCCCCCCCCCCCCCCCCCCCC\n",
      "CCCCCCCCCCCCCCCCCCCCCCCCCCCCC\n",
      "CCCCCCCCCCCCCCCCCCCCCCCCCCCCC\n",
      "CCCCCCCCCCCCCCCCCCCCCCCCCCCCC\n",
      "CCCCCCCCCCCCCCCCCCCCCCCCCCCCC\n",
      "CCCCCCCCCCCCCCCCCCCCCCCCCCCCC\n",
      "CCCCCCCCCCCCCCCCCCCCCCCCCCCCC\n",
      "CCCCCCCCCCCCCCCCCCCCCCCCCCCCC\n",
      "CCCCCCCCCCCCCCCCCCCCCCCCCCCCC\n",
      "CCCCCCCCCCCCCCCCCCCCCCCCCCCCC\n",
      "CCCCCCCCCCCCCCCCCCCCCCCCCCCCC\n",
      "CCCCCCCCCCCCCCCCCCCCCCCCCCCCC\n",
      "AAAAAAAAAAAAAAAAAAAAAAAAAA\n",
      "BBBBBBBBBBBBBBBBBBBBBBBBBBB\n",
      "CCCCCCCCCCCCCCCCCCCCCCCCCCCCC\n",
      "CCCCCCCCCCCCCCCCCCCCCCCCCCCCC\n",
      "CCCCCCCCCCCCCCCCCCCCCCCCCCCCC\n",
      "CCCCCCCCCCCCCCCCCCCCCCCCCCCCC\n",
      "CCCCCCCCCCCCCCCCCCCCCCCCCCCCC\n",
      "CCCCCCCCCCCCCCCCCCCCCCCCCCCCC\n",
      "CCCCCCCCCCCCCCCCCCCCCCCCCCCCC\n",
      "CCCCCCCCCCCCCCCCCCCCCCCCCCCCC\n",
      "CCCCCCCCCCCCCCCCCCCCCCCCCCCCC\n",
      "CCCCCCCCCCCCCCCCCCCCCCCCCCCCC\n",
      "CCCCCCCCCCCCCCCCCCCCCCCCCCCCC\n",
      "CCCCCCCCCCCCCCCCCCCCCCCCCCCCC\n",
      "CCCCCCCCCCCCCCCCCCCCCCCCCCCCC\n",
      "CCCCCCCCCCCCCCCCCCCCCCCCCCCCC\n",
      "CCCCCCCCCCCCCCCCCCCCCCCCCCCCC\n",
      "CCCCCCCCCCCCCCCCCCCCCCCCCCCCC\n",
      "CCCCCCCCCCCCCCCCCCCCCCCCCCCCC\n",
      "CCCCCCCCCCCCCCCCCCCCCCCCCCCCC\n",
      "CCCCCCCCCCCCCCCCCCCCCCCCCCCCC\n",
      "CCCCCCCCCCCCCCCCCCCCCCCCCCCCC\n",
      "CCCCCCCCCCCCCCCCCCCCCCCCCCCCC\n",
      "CCCCCCCCCCCCCCCCCCCCCCCCCCCCC\n",
      "CCCCCCCCCCCCCCCCCCCCCCCCCCCCC\n",
      "CCCCCCCCCCCCCCCCCCCCCCCCCCCCC\n",
      "AAAAAAAAAAAAAAAAAAAAAAAAAA\n",
      "BBBBBBBBBBBBBBBBBBBBBBBBBBB\n",
      "CCCCCCCCCCCCCCCCCCCCCCCCCCCCC\n",
      "CCCCCCCCCCCCCCCCCCCCCCCCCCCCC\n",
      "CCCCCCCCCCCCCCCCCCCCCCCCCCCCC\n",
      "CCCCCCCCCCCCCCCCCCCCCCCCCCCCC\n",
      "CCCCCCCCCCCCCCCCCCCCCCCCCCCCC\n",
      "CCCCCCCCCCCCCCCCCCCCCCCCCCCCC\n",
      "CCCCCCCCCCCCCCCCCCCCCCCCCCCCC\n",
      "CCCCCCCCCCCCCCCCCCCCCCCCCCCCC\n",
      "CCCCCCCCCCCCCCCCCCCCCCCCCCCCC\n",
      "CCCCCCCCCCCCCCCCCCCCCCCCCCCCC\n",
      "CCCCCCCCCCCCCCCCCCCCCCCCCCCCC\n",
      "CCCCCCCCCCCCCCCCCCCCCCCCCCCCC\n",
      "CCCCCCCCCCCCCCCCCCCCCCCCCCCCC\n",
      "CCCCCCCCCCCCCCCCCCCCCCCCCCCCC\n",
      "CCCCCCCCCCCCCCCCCCCCCCCCCCCCC\n",
      "CCCCCCCCCCCCCCCCCCCCCCCCCCCCC\n",
      "CCCCCCCCCCCCCCCCCCCCCCCCCCCCC\n",
      "CCCCCCCCCCCCCCCCCCCCCCCCCCCCC\n",
      "CCCCCCCCCCCCCCCCCCCCCCCCCCCCC\n",
      "CCCCCCCCCCCCCCCCCCCCCCCCCCCCC\n",
      "CCCCCCCCCCCCCCCCCCCCCCCCCCCCC\n",
      "CCCCCCCCCCCCCCCCCCCCCCCCCCCCC\n",
      "CCCCCCCCCCCCCCCCCCCCCCCCCCCCC\n",
      "CCCCCCCCCCCCCCCCCCCCCCCCCCCCC\n",
      "AAAAAAAAAAAAAAAAAAAAAAAAAA\n",
      "BBBBBBBBBBBBBBBBBBBBBBBBBBB\n",
      "CCCCCCCCCCCCCCCCCCCCCCCCCCCCC\n",
      "CCCCCCCCCCCCCCCCCCCCCCCCCCCCC\n",
      "CCCCCCCCCCCCCCCCCCCCCCCCCCCCC\n",
      "CCCCCCCCCCCCCCCCCCCCCCCCCCCCC\n",
      "CCCCCCCCCCCCCCCCCCCCCCCCCCCCC\n",
      "CCCCCCCCCCCCCCCCCCCCCCCCCCCCC\n",
      "CCCCCCCCCCCCCCCCCCCCCCCCCCCCC\n",
      "CCCCCCCCCCCCCCCCCCCCCCCCCCCCC\n",
      "CCCCCCCCCCCCCCCCCCCCCCCCCCCCC\n",
      "CCCCCCCCCCCCCCCCCCCCCCCCCCCCC\n",
      "CCCCCCCCCCCCCCCCCCCCCCCCCCCCC\n",
      "CCCCCCCCCCCCCCCCCCCCCCCCCCCCC\n",
      "CCCCCCCCCCCCCCCCCCCCCCCCCCCCC\n",
      "CCCCCCCCCCCCCCCCCCCCCCCCCCCCC\n",
      "CCCCCCCCCCCCCCCCCCCCCCCCCCCCC\n",
      "CCCCCCCCCCCCCCCCCCCCCCCCCCCCC\n",
      "CCCCCCCCCCCCCCCCCCCCCCCCCCCCC\n",
      "CCCCCCCCCCCCCCCCCCCCCCCCCCCCC\n",
      "CCCCCCCCCCCCCCCCCCCCCCCCCCCCC\n"
     ]
    },
    {
     "ename": "KeyboardInterrupt",
     "evalue": "",
     "output_type": "error",
     "traceback": [
      "\u001b[0;31m---------------------------------------------------------------------------\u001b[0m",
      "\u001b[0;31mKeyboardInterrupt\u001b[0m                         Traceback (most recent call last)",
      "Cell \u001b[0;32mIn[4], line 1\u001b[0m\n\u001b[0;32m----> 1\u001b[0m \u001b[38;5;28mprint\u001b[39m(\u001b[43mtest_circuit\u001b[49m\u001b[43m(\u001b[49m\u001b[43mvqa\u001b[49m\u001b[38;5;241;43m.\u001b[39;49m\u001b[43mparams_inits\u001b[49m\u001b[43m[\u001b[49m\u001b[38;5;124;43m'\u001b[39;49m\u001b[38;5;124;43mangles\u001b[39;49m\u001b[38;5;124;43m'\u001b[39;49m\u001b[43m]\u001b[49m\u001b[43m)\u001b[49m)\n",
      "File \u001b[0;32m~/Desktop/QHyper/.venv/lib/python3.10/site-packages/pennylane/qnode.py:976\u001b[0m, in \u001b[0;36mQNode.__call__\u001b[0;34m(self, *args, **kwargs)\u001b[0m\n\u001b[1;32m    973\u001b[0m         kwargs[\u001b[38;5;124m\"\u001b[39m\u001b[38;5;124mshots\u001b[39m\u001b[38;5;124m\"\u001b[39m] \u001b[38;5;241m=\u001b[39m _get_device_shots(\u001b[38;5;28mself\u001b[39m\u001b[38;5;241m.\u001b[39m_original_device)\n\u001b[1;32m    975\u001b[0m \u001b[38;5;66;03m# construct the tape\u001b[39;00m\n\u001b[0;32m--> 976\u001b[0m \u001b[38;5;28;43mself\u001b[39;49m\u001b[38;5;241;43m.\u001b[39;49m\u001b[43mconstruct\u001b[49m\u001b[43m(\u001b[49m\u001b[43margs\u001b[49m\u001b[43m,\u001b[49m\u001b[43m \u001b[49m\u001b[43mkwargs\u001b[49m\u001b[43m)\u001b[49m\n\u001b[1;32m    978\u001b[0m cache \u001b[38;5;241m=\u001b[39m \u001b[38;5;28mself\u001b[39m\u001b[38;5;241m.\u001b[39mexecute_kwargs\u001b[38;5;241m.\u001b[39mget(\u001b[38;5;124m\"\u001b[39m\u001b[38;5;124mcache\u001b[39m\u001b[38;5;124m\"\u001b[39m, \u001b[38;5;28;01mFalse\u001b[39;00m)\n\u001b[1;32m    979\u001b[0m using_custom_cache \u001b[38;5;241m=\u001b[39m (\n\u001b[1;32m    980\u001b[0m     \u001b[38;5;28mhasattr\u001b[39m(cache, \u001b[38;5;124m\"\u001b[39m\u001b[38;5;124m__getitem__\u001b[39m\u001b[38;5;124m\"\u001b[39m)\n\u001b[1;32m    981\u001b[0m     \u001b[38;5;129;01mand\u001b[39;00m \u001b[38;5;28mhasattr\u001b[39m(cache, \u001b[38;5;124m\"\u001b[39m\u001b[38;5;124m__setitem__\u001b[39m\u001b[38;5;124m\"\u001b[39m)\n\u001b[1;32m    982\u001b[0m     \u001b[38;5;129;01mand\u001b[39;00m \u001b[38;5;28mhasattr\u001b[39m(cache, \u001b[38;5;124m\"\u001b[39m\u001b[38;5;124m__delitem__\u001b[39m\u001b[38;5;124m\"\u001b[39m)\n\u001b[1;32m    983\u001b[0m )\n",
      "File \u001b[0;32m~/Desktop/QHyper/.venv/lib/python3.10/site-packages/pennylane/qnode.py:862\u001b[0m, in \u001b[0;36mQNode.construct\u001b[0;34m(self, args, kwargs)\u001b[0m\n\u001b[1;32m    859\u001b[0m     \u001b[38;5;28mself\u001b[39m\u001b[38;5;241m.\u001b[39minterface \u001b[38;5;241m=\u001b[39m qml\u001b[38;5;241m.\u001b[39mmath\u001b[38;5;241m.\u001b[39mget_interface(\u001b[38;5;241m*\u001b[39margs, \u001b[38;5;241m*\u001b[39m\u001b[38;5;28mlist\u001b[39m(kwargs\u001b[38;5;241m.\u001b[39mvalues()))\n\u001b[1;32m    861\u001b[0m \u001b[38;5;28;01mwith\u001b[39;00m qml\u001b[38;5;241m.\u001b[39mqueuing\u001b[38;5;241m.\u001b[39mAnnotatedQueue() \u001b[38;5;28;01mas\u001b[39;00m q:\n\u001b[0;32m--> 862\u001b[0m     \u001b[38;5;28mself\u001b[39m\u001b[38;5;241m.\u001b[39m_qfunc_output \u001b[38;5;241m=\u001b[39m \u001b[38;5;28;43mself\u001b[39;49m\u001b[38;5;241;43m.\u001b[39;49m\u001b[43mfunc\u001b[49m\u001b[43m(\u001b[49m\u001b[38;5;241;43m*\u001b[39;49m\u001b[43margs\u001b[49m\u001b[43m,\u001b[49m\u001b[43m \u001b[49m\u001b[38;5;241;43m*\u001b[39;49m\u001b[38;5;241;43m*\u001b[39;49m\u001b[43mkwargs\u001b[49m\u001b[43m)\u001b[49m\n\u001b[1;32m    864\u001b[0m \u001b[38;5;28mself\u001b[39m\u001b[38;5;241m.\u001b[39m_tape \u001b[38;5;241m=\u001b[39m QuantumScript\u001b[38;5;241m.\u001b[39mfrom_queue(q, shots)\n\u001b[1;32m    866\u001b[0m params \u001b[38;5;241m=\u001b[39m \u001b[38;5;28mself\u001b[39m\u001b[38;5;241m.\u001b[39mtape\u001b[38;5;241m.\u001b[39mget_parameters(trainable_only\u001b[38;5;241m=\u001b[39m\u001b[38;5;28;01mFalse\u001b[39;00m)\n",
      "File \u001b[0;32m~/Desktop/QHyper/demo/QHyper/solvers/vqa/pqc/qaoa.py:83\u001b[0m, in \u001b[0;36mQAOA.get_expval_circuit.<locals>.expval_circuit\u001b[0;34m(params)\u001b[0m\n\u001b[1;32m     81\u001b[0m \u001b[38;5;129m@qml\u001b[39m\u001b[38;5;241m.\u001b[39mqnode(\u001b[38;5;28mself\u001b[39m\u001b[38;5;241m.\u001b[39mdev)\n\u001b[1;32m     82\u001b[0m \u001b[38;5;28;01mdef\u001b[39;00m \u001b[38;5;21mexpval_circuit\u001b[39m(params: npt\u001b[38;5;241m.\u001b[39mNDArray[np\u001b[38;5;241m.\u001b[39mfloat64]) \u001b[38;5;241m-\u001b[39m\u001b[38;5;241m>\u001b[39m \u001b[38;5;28mfloat\u001b[39m:\n\u001b[0;32m---> 83\u001b[0m     \u001b[38;5;28;43mself\u001b[39;49m\u001b[38;5;241;43m.\u001b[39;49m\u001b[43m_circuit\u001b[49m\u001b[43m(\u001b[49m\u001b[43mproblem\u001b[49m\u001b[43m,\u001b[49m\u001b[43m \u001b[49m\u001b[43mparams\u001b[49m\u001b[43m,\u001b[49m\u001b[43m \u001b[49m\u001b[43mcost_operator\u001b[49m\u001b[43m)\u001b[49m\n\u001b[1;32m     84\u001b[0m     \u001b[38;5;28;01mreturn\u001b[39;00m cast(\u001b[38;5;28mfloat\u001b[39m, qml\u001b[38;5;241m.\u001b[39mexpval(cost_operator))\n",
      "File \u001b[0;32m~/Desktop/QHyper/demo/QHyper/solvers/vqa/pqc/sim_hamiltonian_qaoa.py:101\u001b[0m, in \u001b[0;36mSimHamiltonianQAOA._circuit\u001b[0;34m(self, problem, params, cost_operator)\u001b[0m\n\u001b[1;32m     97\u001b[0m     \u001b[38;5;66;03m#qml.exp(self._calculate_mixing_hamiltonian(problem), (-1j) * beta)\u001b[39;00m\n\u001b[1;32m     98\u001b[0m \n\u001b[1;32m     99\u001b[0m \u001b[38;5;66;03m#self._hadamard_layer(problem) #TODO: superposition of feasible states\u001b[39;00m\n\u001b[1;32m    100\u001b[0m qml\u001b[38;5;241m.\u001b[39mQubitStateVector(\u001b[38;5;28mself\u001b[39m\u001b[38;5;241m.\u001b[39m_calculate_state(problem), wires\u001b[38;5;241m=\u001b[39m[\u001b[38;5;28mstr\u001b[39m(v) \u001b[38;5;28;01mfor\u001b[39;00m v \u001b[38;5;129;01min\u001b[39;00m problem\u001b[38;5;241m.\u001b[39mvariables])\n\u001b[0;32m--> 101\u001b[0m \u001b[43mqml\u001b[49m\u001b[38;5;241;43m.\u001b[39;49m\u001b[43mlayer\u001b[49m\u001b[43m(\u001b[49m\u001b[43mqaoa_layer\u001b[49m\u001b[43m,\u001b[49m\u001b[43m \u001b[49m\u001b[38;5;28;43mself\u001b[39;49m\u001b[38;5;241;43m.\u001b[39;49m\u001b[43mlayers\u001b[49m\u001b[43m,\u001b[49m\u001b[43m \u001b[49m\u001b[43mparams\u001b[49m\u001b[43m[\u001b[49m\u001b[38;5;241;43m0\u001b[39;49m\u001b[43m]\u001b[49m\u001b[43m,\u001b[49m\u001b[43m \u001b[49m\u001b[43mparams\u001b[49m\u001b[43m[\u001b[49m\u001b[38;5;241;43m1\u001b[39;49m\u001b[43m]\u001b[49m\u001b[43m)\u001b[49m\n",
      "File \u001b[0;32m~/Desktop/QHyper/.venv/lib/python3.10/site-packages/pennylane/templates/layer.py:213\u001b[0m, in \u001b[0;36mlayer\u001b[0;34m(template, depth, *args, **kwargs)\u001b[0m\n\u001b[1;32m    211\u001b[0m \u001b[38;5;28;01mfor\u001b[39;00m i \u001b[38;5;129;01min\u001b[39;00m \u001b[38;5;28mrange\u001b[39m(\u001b[38;5;241m0\u001b[39m, \u001b[38;5;28mint\u001b[39m(depth)):\n\u001b[1;32m    212\u001b[0m     arg_params \u001b[38;5;241m=\u001b[39m [k[i] \u001b[38;5;28;01mfor\u001b[39;00m k \u001b[38;5;129;01min\u001b[39;00m args]\n\u001b[0;32m--> 213\u001b[0m     \u001b[43mtemplate\u001b[49m\u001b[43m(\u001b[49m\u001b[38;5;241;43m*\u001b[39;49m\u001b[43marg_params\u001b[49m\u001b[43m,\u001b[49m\u001b[43m \u001b[49m\u001b[38;5;241;43m*\u001b[39;49m\u001b[38;5;241;43m*\u001b[39;49m\u001b[43mkwargs\u001b[49m\u001b[43m)\u001b[49m\n",
      "File \u001b[0;32m~/Desktop/QHyper/demo/QHyper/solvers/vqa/pqc/sim_hamiltonian_qaoa.py:96\u001b[0m, in \u001b[0;36mSimHamiltonianQAOA._circuit.<locals>.qaoa_layer\u001b[0;34m(gamma, beta)\u001b[0m\n\u001b[1;32m     94\u001b[0m \u001b[38;5;28;01mdef\u001b[39;00m \u001b[38;5;21mqaoa_layer\u001b[39m(gamma: \u001b[38;5;28mlist\u001b[39m[\u001b[38;5;28mfloat\u001b[39m], beta: \u001b[38;5;28mlist\u001b[39m[\u001b[38;5;28mfloat\u001b[39m]) \u001b[38;5;241m-\u001b[39m\u001b[38;5;241m>\u001b[39m \u001b[38;5;28;01mNone\u001b[39;00m:\n\u001b[1;32m     95\u001b[0m     qml\u001b[38;5;241m.\u001b[39mqaoa\u001b[38;5;241m.\u001b[39mcost_layer(gamma, cost_operator)\n\u001b[0;32m---> 96\u001b[0m     \u001b[43msimulator\u001b[49m\u001b[43m(\u001b[49m\u001b[43mgen_neigh_oracle\u001b[49m\u001b[43m,\u001b[49m\u001b[43m \u001b[49m\u001b[43mbeta\u001b[49m\u001b[43m,\u001b[49m\u001b[43m \u001b[49m\u001b[38;5;241;43m1\u001b[39;49m\u001b[43m)\u001b[49m\u001b[43m(\u001b[49m\u001b[43m[\u001b[49m\u001b[38;5;28;43mstr\u001b[39;49m\u001b[43m(\u001b[49m\u001b[43mv\u001b[49m\u001b[43m)\u001b[49m\u001b[43m \u001b[49m\u001b[38;5;28;43;01mfor\u001b[39;49;00m\u001b[43m \u001b[49m\u001b[43mv\u001b[49m\u001b[43m \u001b[49m\u001b[38;5;129;43;01min\u001b[39;49;00m\u001b[43m \u001b[49m\u001b[43mproblem\u001b[49m\u001b[38;5;241;43m.\u001b[39;49m\u001b[43mvariables\u001b[49m\u001b[43m]\u001b[49m\u001b[43m,\u001b[49m\u001b[43m \u001b[49m\u001b[43m[\u001b[49m\u001b[38;5;124;43mf\u001b[39;49m\u001b[38;5;124;43m\"\u001b[39;49m\u001b[38;5;124;43ma\u001b[39;49m\u001b[38;5;132;43;01m{\u001b[39;49;00m\u001b[43mi\u001b[49m\u001b[38;5;132;43;01m}\u001b[39;49;00m\u001b[38;5;124;43m\"\u001b[39;49m\u001b[43m \u001b[49m\u001b[38;5;28;43;01mfor\u001b[39;49;00m\u001b[43m \u001b[49m\u001b[43mi\u001b[49m\u001b[43m \u001b[49m\u001b[38;5;129;43;01min\u001b[39;49;00m\u001b[43m \u001b[49m\u001b[38;5;28;43mrange\u001b[39;49m\u001b[43m(\u001b[49m\u001b[38;5;241;43m3\u001b[39;49m\u001b[43m \u001b[49m\u001b[38;5;241;43m+\u001b[39;49m\u001b[43m \u001b[49m\u001b[38;5;241;43m2\u001b[39;49m\u001b[43m \u001b[49m\u001b[38;5;241;43m+\u001b[39;49m\u001b[43m \u001b[49m\u001b[38;5;28;43mlen\u001b[39;49m\u001b[43m(\u001b[49m\u001b[43mproblem\u001b[49m\u001b[38;5;241;43m.\u001b[39;49m\u001b[43mvariables\u001b[49m\u001b[43m)\u001b[49m\u001b[43m)\u001b[49m\u001b[43m]\u001b[49m\u001b[43m)\u001b[49m\n",
      "File \u001b[0;32m~/Desktop/QHyper/demo/QHyper/solvers/vqa/pqc/hsim/simulator.py:80\u001b[0m, in \u001b[0;36msimulator.<locals>.func\u001b[0;34m(x_qbits, ancilla_qbits)\u001b[0m\n\u001b[1;32m     78\u001b[0m     color_simulator(t\u001b[38;5;241m/\u001b[39m(\u001b[38;5;241m2\u001b[39m\u001b[38;5;241m*\u001b[39mr), Color(j, \u001b[38;5;241m0\u001b[39m, \u001b[38;5;241m0\u001b[39m), gen_neigh_oracle)(x_qbits, ancilla_qbits)\n\u001b[1;32m     79\u001b[0m \u001b[38;5;28;01mfor\u001b[39;00m j \u001b[38;5;129;01min\u001b[39;00m \u001b[38;5;28mrange\u001b[39m(n\u001b[38;5;241m-\u001b[39m\u001b[38;5;241m1\u001b[39m, \u001b[38;5;241m-\u001b[39m\u001b[38;5;241m1\u001b[39m, \u001b[38;5;241m-\u001b[39m\u001b[38;5;241m1\u001b[39m):\n\u001b[0;32m---> 80\u001b[0m     \u001b[43mcolor_simulator\u001b[49m\u001b[43m(\u001b[49m\u001b[43mt\u001b[49m\u001b[38;5;241;43m/\u001b[39;49m\u001b[43m(\u001b[49m\u001b[38;5;241;43m2\u001b[39;49m\u001b[38;5;241;43m*\u001b[39;49m\u001b[43mr\u001b[49m\u001b[43m)\u001b[49m\u001b[43m,\u001b[49m\u001b[43m \u001b[49m\u001b[43mColor\u001b[49m\u001b[43m(\u001b[49m\u001b[43mj\u001b[49m\u001b[43m,\u001b[49m\u001b[43m \u001b[49m\u001b[38;5;241;43m0\u001b[39;49m\u001b[43m,\u001b[49m\u001b[43m \u001b[49m\u001b[38;5;241;43m0\u001b[39;49m\u001b[43m)\u001b[49m\u001b[43m,\u001b[49m\u001b[43m \u001b[49m\u001b[43mgen_neigh_oracle\u001b[49m\u001b[43m)\u001b[49m\u001b[43m(\u001b[49m\u001b[43mx_qbits\u001b[49m\u001b[43m,\u001b[49m\u001b[43m \u001b[49m\u001b[43mancilla_qbits\u001b[49m\u001b[43m)\u001b[49m\n",
      "File \u001b[0;32m~/Desktop/QHyper/demo/QHyper/solvers/vqa/pqc/hsim/simulator.py:68\u001b[0m, in \u001b[0;36mcolor_simulator.<locals>.func\u001b[0;34m(x_qbits, ancilla_qbits)\u001b[0m\n\u001b[1;32m     67\u001b[0m \u001b[38;5;28;01mdef\u001b[39;00m \u001b[38;5;21mfunc\u001b[39m(x_qbits, ancilla_qbits):\n\u001b[0;32m---> 68\u001b[0m     \u001b[43msimulator\u001b[49m\u001b[43m(\u001b[49m\u001b[43mx_qbits\u001b[49m\u001b[43m,\u001b[49m\u001b[43m \u001b[49m\u001b[43mancilla_qbits\u001b[49m\u001b[43m)\u001b[49m\n",
      "File \u001b[0;32m~/Desktop/QHyper/demo/QHyper/solvers/vqa/pqc/hsim/simulator.py:46\u001b[0m, in \u001b[0;36msimulate_max_one.<locals>.func\u001b[0;34m(x_qbits, ancilla_qbits)\u001b[0m\n\u001b[1;32m     43\u001b[0m w_qbit \u001b[38;5;241m=\u001b[39m ancilla_qbits[\u001b[38;5;28mlen\u001b[39m(x_qbits)]\n\u001b[1;32m     44\u001b[0m flag_qbit \u001b[38;5;241m=\u001b[39m ancilla_qbits[\u001b[38;5;28mlen\u001b[39m(x_qbits)\u001b[38;5;241m+\u001b[39m\u001b[38;5;241m1\u001b[39m]\n\u001b[0;32m---> 46\u001b[0m \u001b[43moracle\u001b[49m\u001b[43m(\u001b[49m\u001b[43mx_qbits\u001b[49m\u001b[43m,\u001b[49m\u001b[43m \u001b[49m\u001b[43my_qbits\u001b[49m\u001b[43m,\u001b[49m\u001b[43m \u001b[49m\u001b[43mw_qbit\u001b[49m\u001b[43m,\u001b[49m\u001b[43m \u001b[49m\u001b[43mancilla_qbits\u001b[49m\u001b[43m[\u001b[49m\u001b[38;5;28;43mlen\u001b[39;49m\u001b[43m(\u001b[49m\u001b[43mx_qbits\u001b[49m\u001b[43m)\u001b[49m\u001b[38;5;241;43m+\u001b[39;49m\u001b[38;5;241;43m2\u001b[39;49m\u001b[43m:\u001b[49m\u001b[43m]\u001b[49m\u001b[43m)\u001b[49m\n\u001b[1;32m     47\u001b[0m A(x_qbits, y_qbits, flag_qbit)()\n\u001b[1;32m     48\u001b[0m qml\u001b[38;5;241m.\u001b[39mctrl(qml\u001b[38;5;241m.\u001b[39mPhaseShift(\u001b[38;5;241m-\u001b[39mt, wires\u001b[38;5;241m=\u001b[39mw_qbit), flag_qbit, \u001b[38;5;241m0\u001b[39m)\n",
      "File \u001b[0;32m~/Desktop/QHyper/demo/QHyper/solvers/vqa/pqc/hsim/simulator.py:61\u001b[0m, in \u001b[0;36mgen_color_oracle.<locals>.func\u001b[0;34m(x_qbits, y_qbits, w_qbit, ancilla_qbits)\u001b[0m\n\u001b[1;32m     60\u001b[0m \u001b[38;5;28;01mdef\u001b[39;00m \u001b[38;5;21mfunc\u001b[39m(x_qbits, y_qbits, w_qbit, ancilla_qbits):\n\u001b[0;32m---> 61\u001b[0m     \u001b[43mj_neigh_oracle\u001b[49m\u001b[43m(\u001b[49m\u001b[43mx_qbits\u001b[49m\u001b[43m,\u001b[49m\u001b[43m \u001b[49m\u001b[43my_qbits\u001b[49m\u001b[43m,\u001b[49m\u001b[43m \u001b[49m\u001b[43mw_qbit\u001b[49m\u001b[43m,\u001b[49m\u001b[43m \u001b[49m\u001b[43mancilla_qbits\u001b[49m\u001b[43m)\u001b[49m\n",
      "File \u001b[0;32m~/Desktop/QHyper/demo/QHyper/solvers/vqa/pqc/hsim/dummy_oracle.py:10\u001b[0m, in \u001b[0;36mgen_neigh_oracle_generator.<locals>.gen_neigh_oracle.<locals>.neigh_oracle\u001b[0;34m(x_qbits, y_qbits, w_qbit, ancilla_qbits)\u001b[0m\n\u001b[1;32m      8\u001b[0m \u001b[38;5;28;01mdef\u001b[39;00m \u001b[38;5;21mneigh_oracle\u001b[39m(x_qbits, y_qbits, w_qbit, ancilla_qbits):\n\u001b[1;32m      9\u001b[0m     qml\u001b[38;5;241m.\u001b[39mPauliX(x_qbits[j])\n\u001b[0;32m---> 10\u001b[0m     \u001b[43mvalidate\u001b[49m\u001b[43m(\u001b[49m\u001b[43mx_qbits\u001b[49m\u001b[43m,\u001b[49m\u001b[43m \u001b[49m\u001b[43mw_qbit\u001b[49m\u001b[43m,\u001b[49m\u001b[43m \u001b[49m\u001b[43my_qbits\u001b[49m\u001b[43m \u001b[49m\u001b[38;5;241;43m+\u001b[39;49m\u001b[43m \u001b[49m\u001b[43mancilla_qbits\u001b[49m\u001b[43m)\u001b[49m\n\u001b[1;32m     11\u001b[0m     \u001b[38;5;28;01mfor\u001b[39;00m x_q,y_q \u001b[38;5;129;01min\u001b[39;00m \u001b[38;5;28mzip\u001b[39m(x_qbits, y_qbits):\n\u001b[1;32m     12\u001b[0m         qml\u001b[38;5;241m.\u001b[39mctrl(qml\u001b[38;5;241m.\u001b[39mPauliX(y_q), x_q, \u001b[38;5;241m1\u001b[39m)\n",
      "File \u001b[0;32m~/Desktop/QHyper/demo/QHyper/solvers/vqa/pqc/sim_hamiltonian_qaoa.py:91\u001b[0m, in \u001b[0;36mSimHamiltonianQAOA._circuit.<locals>.validate\u001b[0;34m(y_qbits, flag_qbit, ancilla_qbits)\u001b[0m\n\u001b[1;32m     89\u001b[0m check_constraints(y_qbits, c_flag_qbits, ancilla_qbits)\n\u001b[1;32m     90\u001b[0m qml\u001b[38;5;241m.\u001b[39mctrl(qml\u001b[38;5;241m.\u001b[39mPauliX, control\u001b[38;5;241m=\u001b[39mc_flag_qbits, control_values\u001b[38;5;241m=\u001b[39m[\u001b[38;5;241m1\u001b[39m]\u001b[38;5;241m*\u001b[39m\u001b[38;5;28mlen\u001b[39m(c_flag_qbits))(flag_qbit)\n\u001b[0;32m---> 91\u001b[0m \u001b[43mqml\u001b[49m\u001b[38;5;241;43m.\u001b[39;49m\u001b[43madjoint\u001b[49m\u001b[43m(\u001b[49m\u001b[43mcheck_constraints\u001b[49m\u001b[43m)\u001b[49m\u001b[43m(\u001b[49m\u001b[43my_qbits\u001b[49m\u001b[43m,\u001b[49m\u001b[43m \u001b[49m\u001b[43mc_flag_qbits\u001b[49m\u001b[43m,\u001b[49m\u001b[43m \u001b[49m\u001b[43mancilla_qbits\u001b[49m\u001b[43m)\u001b[49m\n",
      "File \u001b[0;32m~/Desktop/QHyper/.venv/lib/python3.10/site-packages/pennylane/ops/op_math/adjoint.py:179\u001b[0m, in \u001b[0;36madjoint.<locals>.wrapper\u001b[0;34m(*args, **kwargs)\u001b[0m\n\u001b[1;32m    177\u001b[0m \u001b[38;5;129m@wraps\u001b[39m(fn)\n\u001b[1;32m    178\u001b[0m \u001b[38;5;28;01mdef\u001b[39;00m \u001b[38;5;21mwrapper\u001b[39m(\u001b[38;5;241m*\u001b[39margs, \u001b[38;5;241m*\u001b[39m\u001b[38;5;241m*\u001b[39mkwargs):\n\u001b[0;32m--> 179\u001b[0m     qscript \u001b[38;5;241m=\u001b[39m \u001b[43mmake_qscript\u001b[49m\u001b[43m(\u001b[49m\u001b[43mfn\u001b[49m\u001b[43m)\u001b[49m\u001b[43m(\u001b[49m\u001b[38;5;241;43m*\u001b[39;49m\u001b[43margs\u001b[49m\u001b[43m,\u001b[49m\u001b[43m \u001b[49m\u001b[38;5;241;43m*\u001b[39;49m\u001b[38;5;241;43m*\u001b[39;49m\u001b[43mkwargs\u001b[49m\u001b[43m)\u001b[49m\n\u001b[1;32m    180\u001b[0m     \u001b[38;5;28;01mif\u001b[39;00m lazy:\n\u001b[1;32m    181\u001b[0m         adjoint_ops \u001b[38;5;241m=\u001b[39m [Adjoint(op) \u001b[38;5;28;01mfor\u001b[39;00m op \u001b[38;5;129;01min\u001b[39;00m \u001b[38;5;28mreversed\u001b[39m(qscript\u001b[38;5;241m.\u001b[39moperations)]\n",
      "File \u001b[0;32m~/Desktop/QHyper/.venv/lib/python3.10/site-packages/pennylane/tape/qscript.py:1261\u001b[0m, in \u001b[0;36mmake_qscript.<locals>.wrapper\u001b[0;34m(*args, **kwargs)\u001b[0m\n\u001b[1;32m   1259\u001b[0m \u001b[38;5;28;01mdef\u001b[39;00m \u001b[38;5;21mwrapper\u001b[39m(\u001b[38;5;241m*\u001b[39margs, \u001b[38;5;241m*\u001b[39m\u001b[38;5;241m*\u001b[39mkwargs):\n\u001b[1;32m   1260\u001b[0m     \u001b[38;5;28;01mwith\u001b[39;00m AnnotatedQueue() \u001b[38;5;28;01mas\u001b[39;00m q:\n\u001b[0;32m-> 1261\u001b[0m         \u001b[43mfn\u001b[49m\u001b[43m(\u001b[49m\u001b[38;5;241;43m*\u001b[39;49m\u001b[43margs\u001b[49m\u001b[43m,\u001b[49m\u001b[43m \u001b[49m\u001b[38;5;241;43m*\u001b[39;49m\u001b[38;5;241;43m*\u001b[39;49m\u001b[43mkwargs\u001b[49m\u001b[43m)\u001b[49m\n\u001b[1;32m   1263\u001b[0m     \u001b[38;5;28;01mreturn\u001b[39;00m QuantumScript\u001b[38;5;241m.\u001b[39mfrom_queue(q, shots)\n",
      "File \u001b[0;32m~/Desktop/QHyper/demo/QHyper/solvers/vqa/pqc/sim_hamiltonian_qaoa.py:80\u001b[0m, in \u001b[0;36mSimHamiltonianQAOA._circuit.<locals>.check_constraints\u001b[0;34m(y_qbits, c_flag_qbits, ancilla_qbits)\u001b[0m\n\u001b[1;32m     77\u001b[0m r_len \u001b[38;5;241m=\u001b[39m \u001b[38;5;28mmax\u001b[39m(neg_len, pos_len) \u001b[38;5;241m+\u001b[39m \u001b[38;5;241m1\u001b[39m\n\u001b[1;32m     78\u001b[0m r_qbits \u001b[38;5;241m=\u001b[39m ancilla_qbits[:r_len]\n\u001b[0;32m---> 80\u001b[0m \u001b[43mcheck_constraint\u001b[49m\u001b[43m(\u001b[49m\u001b[43mconstraint\u001b[49m\u001b[43m)\u001b[49m\u001b[43m(\u001b[49m\u001b[43mr_qbits\u001b[49m\u001b[43m,\u001b[49m\u001b[43m \u001b[49m\u001b[43my_qbits\u001b[49m\u001b[43m)\u001b[49m\n\u001b[1;32m     81\u001b[0m qml\u001b[38;5;241m.\u001b[39mctrl(qml\u001b[38;5;241m.\u001b[39mPauliX, control\u001b[38;5;241m=\u001b[39mr_qbits[\u001b[38;5;241m0\u001b[39m], control_values\u001b[38;5;241m=\u001b[39m\u001b[38;5;241m1\u001b[39m)(flag_qbit)\n\u001b[1;32m     82\u001b[0m qml\u001b[38;5;241m.\u001b[39madjoint(check_constraint(constraint))(r_qbits, y_qbits)\n",
      "File \u001b[0;32m~/Desktop/QHyper/demo/QHyper/solvers/vqa/pqc/sim_hamiltonian_qaoa.py:53\u001b[0m, in \u001b[0;36mSimHamiltonianQAOA._circuit.<locals>.check_constraint.<locals>.func\u001b[0;34m(r_qbits, control_qbits)\u001b[0m\n\u001b[1;32m     50\u001b[0m     \u001b[38;5;28;01mif\u001b[39;00m \u001b[38;5;28mlen\u001b[39m(\u001b[38;5;28mvars\u001b[39m) \u001b[38;5;241m==\u001b[39m \u001b[38;5;241m0\u001b[39m:\n\u001b[1;32m     51\u001b[0m         \u001b[38;5;28;01mcontinue\u001b[39;00m\n\u001b[0;32m---> 53\u001b[0m     \u001b[43mctrl_add\u001b[49m\u001b[43m(\u001b[49m\u001b[43mcoeff\u001b[49m\u001b[43m)\u001b[49m\u001b[43m(\u001b[49m\u001b[43mr_qbits\u001b[49m\u001b[43m,\u001b[49m\u001b[43m \u001b[49m\u001b[43mcontrol_qbits\u001b[49m\u001b[43m)\u001b[49m\n\u001b[1;32m     54\u001b[0m qml\u001b[38;5;241m.\u001b[39madjoint(qml\u001b[38;5;241m.\u001b[39mQFT)(wires\u001b[38;5;241m=\u001b[39mr_qbits)\n",
      "File \u001b[0;32m~/Desktop/QHyper/demo/QHyper/solvers/vqa/pqc/sim_hamiltonian_qaoa.py:43\u001b[0m, in \u001b[0;36mSimHamiltonianQAOA._circuit.<locals>.ctrl_add.<locals>.func\u001b[0;34m(r_qbits, control_qbits)\u001b[0m\n\u001b[1;32m     41\u001b[0m \u001b[38;5;28;01mdef\u001b[39;00m \u001b[38;5;21mfunc\u001b[39m(r_qbits, control_qbits):\n\u001b[1;32m     42\u001b[0m     \u001b[38;5;28;01mfor\u001b[39;00m i \u001b[38;5;129;01min\u001b[39;00m \u001b[38;5;28mrange\u001b[39m(\u001b[38;5;28mlen\u001b[39m(r_qbits)):\n\u001b[0;32m---> 43\u001b[0m         \u001b[43mqml\u001b[49m\u001b[38;5;241;43m.\u001b[39;49m\u001b[43mctrl\u001b[49m\u001b[43m(\u001b[49m\u001b[43mqml\u001b[49m\u001b[38;5;241;43m.\u001b[39;49m\u001b[43mRZ\u001b[49m\u001b[43m,\u001b[49m\u001b[43m \u001b[49m\u001b[43mcontrol\u001b[49m\u001b[38;5;241;43m=\u001b[39;49m\u001b[43mcontrol_qbits\u001b[49m\u001b[43m,\u001b[49m\u001b[43m \u001b[49m\u001b[43mcontrol_values\u001b[49m\u001b[38;5;241;43m=\u001b[39;49m\u001b[43m[\u001b[49m\u001b[38;5;241;43m1\u001b[39;49m\u001b[43m]\u001b[49m\u001b[38;5;241;43m*\u001b[39;49m\u001b[38;5;28;43mlen\u001b[39;49m\u001b[43m(\u001b[49m\u001b[43mcontrol_qbits\u001b[49m\u001b[43m)\u001b[49m\u001b[43m)\u001b[49m\u001b[43m(\u001b[49m\u001b[43mk\u001b[49m\u001b[43m \u001b[49m\u001b[38;5;241;43m*\u001b[39;49m\u001b[43m \u001b[49m\u001b[43mnp\u001b[49m\u001b[38;5;241;43m.\u001b[39;49m\u001b[43mpi\u001b[49m\u001b[43m \u001b[49m\u001b[38;5;241;43m/\u001b[39;49m\u001b[43m \u001b[49m\u001b[43m(\u001b[49m\u001b[38;5;241;43m2\u001b[39;49m\u001b[38;5;241;43m*\u001b[39;49m\u001b[38;5;241;43m*\u001b[39;49m\u001b[43mi\u001b[49m\u001b[43m)\u001b[49m\u001b[43m,\u001b[49m\u001b[43m \u001b[49m\u001b[43mwires\u001b[49m\u001b[38;5;241;43m=\u001b[39;49m\u001b[43mr_qbits\u001b[49m\u001b[43m[\u001b[49m\u001b[43mi\u001b[49m\u001b[43m]\u001b[49m\u001b[43m)\u001b[49m\n",
      "File \u001b[0;32m~/Desktop/QHyper/.venv/lib/python3.10/site-packages/pennylane/ops/op_math/controlled.py:164\u001b[0m, in \u001b[0;36mctrl.<locals>.wrapper\u001b[0;34m(*args, **kwargs)\u001b[0m\n\u001b[1;32m    162\u001b[0m \u001b[38;5;129m@wraps\u001b[39m(op)\n\u001b[1;32m    163\u001b[0m \u001b[38;5;28;01mdef\u001b[39;00m \u001b[38;5;21mwrapper\u001b[39m(\u001b[38;5;241m*\u001b[39margs, \u001b[38;5;241m*\u001b[39m\u001b[38;5;241m*\u001b[39mkwargs):\n\u001b[0;32m--> 164\u001b[0m     qscript \u001b[38;5;241m=\u001b[39m \u001b[43mqml\u001b[49m\u001b[38;5;241;43m.\u001b[39;49m\u001b[43mtape\u001b[49m\u001b[38;5;241;43m.\u001b[39;49m\u001b[43mmake_qscript\u001b[49m\u001b[43m(\u001b[49m\u001b[43mop\u001b[49m\u001b[43m)\u001b[49m\u001b[43m(\u001b[49m\u001b[38;5;241;43m*\u001b[39;49m\u001b[43margs\u001b[49m\u001b[43m,\u001b[49m\u001b[43m \u001b[49m\u001b[38;5;241;43m*\u001b[39;49m\u001b[38;5;241;43m*\u001b[39;49m\u001b[43mkwargs\u001b[49m\u001b[43m)\u001b[49m\n\u001b[1;32m    166\u001b[0m     \u001b[38;5;66;03m# flip control_values == 0 wires here, so we don't have to do it for each individual op.\u001b[39;00m\n\u001b[1;32m    167\u001b[0m     flip_control_on_zero \u001b[38;5;241m=\u001b[39m (\u001b[38;5;28mlen\u001b[39m(qscript) \u001b[38;5;241m>\u001b[39m \u001b[38;5;241m1\u001b[39m) \u001b[38;5;129;01mand\u001b[39;00m (control_values \u001b[38;5;129;01mis\u001b[39;00m \u001b[38;5;129;01mnot\u001b[39;00m \u001b[38;5;28;01mNone\u001b[39;00m)\n",
      "File \u001b[0;32m~/Desktop/QHyper/.venv/lib/python3.10/site-packages/pennylane/tape/qscript.py:1261\u001b[0m, in \u001b[0;36mmake_qscript.<locals>.wrapper\u001b[0;34m(*args, **kwargs)\u001b[0m\n\u001b[1;32m   1259\u001b[0m \u001b[38;5;28;01mdef\u001b[39;00m \u001b[38;5;21mwrapper\u001b[39m(\u001b[38;5;241m*\u001b[39margs, \u001b[38;5;241m*\u001b[39m\u001b[38;5;241m*\u001b[39mkwargs):\n\u001b[1;32m   1260\u001b[0m     \u001b[38;5;28;01mwith\u001b[39;00m AnnotatedQueue() \u001b[38;5;28;01mas\u001b[39;00m q:\n\u001b[0;32m-> 1261\u001b[0m         \u001b[43mfn\u001b[49m\u001b[43m(\u001b[49m\u001b[38;5;241;43m*\u001b[39;49m\u001b[43margs\u001b[49m\u001b[43m,\u001b[49m\u001b[43m \u001b[49m\u001b[38;5;241;43m*\u001b[39;49m\u001b[38;5;241;43m*\u001b[39;49m\u001b[43mkwargs\u001b[49m\u001b[43m)\u001b[49m\n\u001b[1;32m   1263\u001b[0m     \u001b[38;5;28;01mreturn\u001b[39;00m QuantumScript\u001b[38;5;241m.\u001b[39mfrom_queue(q, shots)\n",
      "File \u001b[0;32m~/Desktop/QHyper/.venv/lib/python3.10/site-packages/pennylane/ops/qubit/parametric_ops_single_qubit.py:264\u001b[0m, in \u001b[0;36mRZ.__init__\u001b[0;34m(self, phi, wires, id)\u001b[0m\n\u001b[1;32m    263\u001b[0m \u001b[38;5;28;01mdef\u001b[39;00m \u001b[38;5;21m__init__\u001b[39m(\u001b[38;5;28mself\u001b[39m, phi, wires, \u001b[38;5;28mid\u001b[39m\u001b[38;5;241m=\u001b[39m\u001b[38;5;28;01mNone\u001b[39;00m):\n\u001b[0;32m--> 264\u001b[0m     \u001b[38;5;28;43msuper\u001b[39;49m\u001b[43m(\u001b[49m\u001b[43m)\u001b[49m\u001b[38;5;241;43m.\u001b[39;49m\u001b[38;5;21;43m__init__\u001b[39;49m\u001b[43m(\u001b[49m\u001b[43mphi\u001b[49m\u001b[43m,\u001b[49m\u001b[43m \u001b[49m\u001b[43mwires\u001b[49m\u001b[38;5;241;43m=\u001b[39;49m\u001b[43mwires\u001b[49m\u001b[43m,\u001b[49m\u001b[43m \u001b[49m\u001b[38;5;28;43mid\u001b[39;49m\u001b[38;5;241;43m=\u001b[39;49m\u001b[38;5;28;43mid\u001b[39;49m\u001b[43m)\u001b[49m\n",
      "File \u001b[0;32m~/Desktop/QHyper/.venv/lib/python3.10/site-packages/pennylane/operation.py:1770\u001b[0m, in \u001b[0;36mOperation.__init__\u001b[0;34m(self, wires, id, *params)\u001b[0m\n\u001b[1;32m   1769\u001b[0m \u001b[38;5;28;01mdef\u001b[39;00m \u001b[38;5;21m__init__\u001b[39m(\u001b[38;5;28mself\u001b[39m, \u001b[38;5;241m*\u001b[39mparams, wires\u001b[38;5;241m=\u001b[39m\u001b[38;5;28;01mNone\u001b[39;00m, \u001b[38;5;28mid\u001b[39m\u001b[38;5;241m=\u001b[39m\u001b[38;5;28;01mNone\u001b[39;00m):\n\u001b[0;32m-> 1770\u001b[0m     \u001b[38;5;28;43msuper\u001b[39;49m\u001b[43m(\u001b[49m\u001b[43m)\u001b[49m\u001b[38;5;241;43m.\u001b[39;49m\u001b[38;5;21;43m__init__\u001b[39;49m\u001b[43m(\u001b[49m\u001b[38;5;241;43m*\u001b[39;49m\u001b[43mparams\u001b[49m\u001b[43m,\u001b[49m\u001b[43m \u001b[49m\u001b[43mwires\u001b[49m\u001b[38;5;241;43m=\u001b[39;49m\u001b[43mwires\u001b[49m\u001b[43m,\u001b[49m\u001b[43m \u001b[49m\u001b[38;5;28;43mid\u001b[39;49m\u001b[38;5;241;43m=\u001b[39;49m\u001b[38;5;28;43mid\u001b[39;49m\u001b[43m)\u001b[49m\n\u001b[1;32m   1772\u001b[0m     \u001b[38;5;66;03m# check the grad_recipe validity\u001b[39;00m\n\u001b[1;32m   1773\u001b[0m     \u001b[38;5;28;01mif\u001b[39;00m \u001b[38;5;28mself\u001b[39m\u001b[38;5;241m.\u001b[39mgrad_recipe \u001b[38;5;129;01mis\u001b[39;00m \u001b[38;5;28;01mNone\u001b[39;00m:\n\u001b[1;32m   1774\u001b[0m         \u001b[38;5;66;03m# Make sure grad_recipe is an iterable of correct length instead of None\u001b[39;00m\n",
      "File \u001b[0;32m~/Desktop/QHyper/.venv/lib/python3.10/site-packages/pennylane/operation.py:1031\u001b[0m, in \u001b[0;36mOperator.__init__\u001b[0;34m(self, wires, id, *params)\u001b[0m\n\u001b[1;32m   1023\u001b[0m     param_string \u001b[38;5;241m=\u001b[39m \u001b[38;5;124m\"\u001b[39m\u001b[38;5;124m,\u001b[39m\u001b[38;5;130;01m\\n\u001b[39;00m\u001b[38;5;124m\"\u001b[39m\u001b[38;5;241m.\u001b[39mjoin(_format(p) \u001b[38;5;28;01mfor\u001b[39;00m p \u001b[38;5;129;01min\u001b[39;00m params)\n\u001b[1;32m   1025\u001b[0m     \u001b[38;5;28;01mreturn\u001b[39;00m (\n\u001b[1;32m   1026\u001b[0m         \u001b[38;5;124mf\u001b[39m\u001b[38;5;124m\"\u001b[39m\u001b[38;5;132;01m{\u001b[39;00mop_label\u001b[38;5;132;01m}\u001b[39;00m\u001b[38;5;130;01m\\n\u001b[39;00m\u001b[38;5;124m(\u001b[39m\u001b[38;5;132;01m{\u001b[39;00mparam_string\u001b[38;5;132;01m}\u001b[39;00m\u001b[38;5;124m)\u001b[39m\u001b[38;5;124m\"\u001b[39m\n\u001b[1;32m   1027\u001b[0m         \u001b[38;5;28;01mif\u001b[39;00m \u001b[38;5;28mself\u001b[39m\u001b[38;5;241m.\u001b[39m_id \u001b[38;5;129;01mis\u001b[39;00m \u001b[38;5;28;01mNone\u001b[39;00m\n\u001b[1;32m   1028\u001b[0m         \u001b[38;5;28;01melse\u001b[39;00m \u001b[38;5;124mf\u001b[39m\u001b[38;5;124m'\u001b[39m\u001b[38;5;132;01m{\u001b[39;00mop_label\u001b[38;5;132;01m}\u001b[39;00m\u001b[38;5;130;01m\\n\u001b[39;00m\u001b[38;5;124m(\u001b[39m\u001b[38;5;132;01m{\u001b[39;00mparam_string\u001b[38;5;132;01m}\u001b[39;00m\u001b[38;5;124m,\u001b[39m\u001b[38;5;124m\"\u001b[39m\u001b[38;5;132;01m{\u001b[39;00m\u001b[38;5;28mself\u001b[39m\u001b[38;5;241m.\u001b[39m_id\u001b[38;5;132;01m}\u001b[39;00m\u001b[38;5;124m\"\u001b[39m\u001b[38;5;124m)\u001b[39m\u001b[38;5;124m'\u001b[39m\n\u001b[1;32m   1029\u001b[0m     )\n\u001b[0;32m-> 1031\u001b[0m \u001b[38;5;28;01mdef\u001b[39;00m \u001b[38;5;21m__init__\u001b[39m(\u001b[38;5;28mself\u001b[39m, \u001b[38;5;241m*\u001b[39mparams, wires\u001b[38;5;241m=\u001b[39m\u001b[38;5;28;01mNone\u001b[39;00m, \u001b[38;5;28mid\u001b[39m\u001b[38;5;241m=\u001b[39m\u001b[38;5;28;01mNone\u001b[39;00m):\n\u001b[1;32m   1032\u001b[0m     \u001b[38;5;66;03m# pylint: disable=too-many-branches\u001b[39;00m\n\u001b[1;32m   1033\u001b[0m     \u001b[38;5;28mself\u001b[39m\u001b[38;5;241m.\u001b[39m_name \u001b[38;5;241m=\u001b[39m \u001b[38;5;28mself\u001b[39m\u001b[38;5;241m.\u001b[39m\u001b[38;5;18m__class__\u001b[39m\u001b[38;5;241m.\u001b[39m\u001b[38;5;18m__name__\u001b[39m  \u001b[38;5;66;03m#: str: name of the operator\u001b[39;00m\n\u001b[1;32m   1034\u001b[0m     \u001b[38;5;28mself\u001b[39m\u001b[38;5;241m.\u001b[39m_id \u001b[38;5;241m=\u001b[39m \u001b[38;5;28mid\u001b[39m\n",
      "\u001b[0;31mKeyboardInterrupt\u001b[0m: "
     ]
    }
   ],
   "source": [
    "print(test_circuit(vqa.params_inits['angles']))"
   ]
  },
  {
   "cell_type": "code",
   "execution_count": null,
   "id": "39d54fdc",
   "metadata": {},
   "outputs": [
    {
     "name": "stdout",
     "output_type": "stream",
     "text": [
      "010010 27\n",
      "010110 28\n",
      "011001 28\n",
      "011010 28\n",
      "100000 25\n",
      "100001 27\n",
      "100010 27\n",
      "100100 26\n",
      "100101 28\n",
      "100110 28\n",
      "101000 26\n",
      "101001 28\n",
      "101010 28\n"
     ]
    }
   ],
   "source": [
    "from QHyper.util import Operator\n",
    "\n",
    "variables_n = len(vqa.problem.variables)\n",
    "#x = 0b100000\n",
    "for ox in range(2**variables_n):\n",
    "    x = list(map(int, bin(ox)[2:].zfill(variables_n)))[::-1]\n",
    "    values = {str(var): x[i] for i,var in enumerate(vqa.problem.variables)}\n",
    "\n",
    "    valid = True\n",
    "    for constraint in vqa.problem.constraints:\n",
    "        res = 0\n",
    "        for vars, coeff in constraint.lhs.items():\n",
    "            res += coeff * np.prod([values[var] for var in vars])\n",
    "\n",
    "        if constraint.operator == Operator.LE:\n",
    "            valid = res <= constraint.rhs\n",
    "        elif constraint.operator == Operator.GE:\n",
    "            valid = res >= constraint.rhs\n",
    "        \n",
    "        if not valid:\n",
    "            break\n",
    "    \n",
    "    if not valid:\n",
    "        continue\n",
    "\n",
    "    res = -8*values['x0']*values['x1'] + 2*values['x0'] + 2*values['x1'] - 4*values['x2']*values['x3'] + values['x2'] + values['x3'] - 16*values['x4']*values['x5'] + 4*values['x4'] + 4*values['x5'] + 21\n",
    "    print(bin(ox)[2:].zfill(variables_n), res)\n",
    "\n",
    "#vqa.problem.objective_function.as_polynomial()\n",
    "\n",
    "# for constraint in vqa.problem.constraints:\n",
    "#     res = 0\n",
    "#     for vars, coeff in constraint.lhs.items():\n",
    "#         res += coeff * np.prod([values[var] for var in vars])\n",
    "\n",
    "#     if constraint.operator == Operator.LE:\n",
    "#         print(res, \"<=\", constraint.rhs, \":\", res <= constraint.rhs)\n",
    "#     elif constraint.operator == Operator.GE:\n",
    "#         print(res, \">=\", constraint.rhs, \":\", res >= constraint.rhs)"
   ]
  },
  {
   "cell_type": "code",
   "execution_count": null,
   "id": "4db373e2",
   "metadata": {},
   "outputs": [],
   "source": [
    "import pennylane as qml\n",
    "import pennylane.numpy as np\n",
    "\n",
    "qml.grad(vqa.pqc.get_expval_circuit(vqa.problem, params_config['hyper_args']))(np.array(params_config['angles']))"
   ]
  },
  {
   "cell_type": "code",
   "execution_count": null,
   "id": "d0ebc0e7",
   "metadata": {},
   "outputs": [],
   "source": [
    "vqa.pqc.get_expval_circuit(vqa.problem, params_config['hyper_args'])(np.array(params_config['angles']))"
   ]
  },
  {
   "cell_type": "code",
   "execution_count": null,
   "id": "4dd41e41",
   "metadata": {},
   "outputs": [],
   "source": [
    "opt = qml.AdamOptimizer()\n",
    "theta_new = opt.step(vqa.pqc.get_expval_circuit(vqa.problem, params_config['hyper_args']), np.array(params_config['angles']))\n",
    "theta_new"
   ]
  },
  {
   "cell_type": "code",
   "execution_count": 13,
   "id": "d5baf644",
   "metadata": {
    "slideshow": {
     "slide_type": "slide"
    }
   },
   "outputs": [
    {
     "name": "stdout",
     "output_type": "stream",
     "text": [
      "SimHamiltonianQAOA 6 lightning.qubit\n",
      "Step 1/1: 27.23076923069155\n",
      "SimHamiltonianQAOA 6 lightning.qubit\n"
     ]
    },
    {
     "ename": "WireError",
     "evalue": "Wire with label a1 not found in <Wires = ['x0', 'x1', 'x2', 'x3', 'x4', 'x5']>.",
     "output_type": "error",
     "traceback": [
      "\u001b[0;31m---------------------------------------------------------------------------\u001b[0m",
      "\u001b[0;31mValueError\u001b[0m                                Traceback (most recent call last)",
      "File \u001b[0;32m~/Desktop/QHyper/.venv/lib/python3.10/site-packages/pennylane/wires.py:248\u001b[0m, in \u001b[0;36mWires.index\u001b[0;34m(self, wire)\u001b[0m\n\u001b[1;32m    247\u001b[0m \u001b[38;5;28;01mtry\u001b[39;00m:\n\u001b[0;32m--> 248\u001b[0m     \u001b[38;5;28;01mreturn\u001b[39;00m \u001b[38;5;28;43mself\u001b[39;49m\u001b[38;5;241;43m.\u001b[39;49m\u001b[43m_labels\u001b[49m\u001b[38;5;241;43m.\u001b[39;49m\u001b[43mindex\u001b[49m\u001b[43m(\u001b[49m\u001b[43mwire\u001b[49m\u001b[43m)\u001b[49m\n\u001b[1;32m    249\u001b[0m \u001b[38;5;28;01mexcept\u001b[39;00m \u001b[38;5;167;01mValueError\u001b[39;00m \u001b[38;5;28;01mas\u001b[39;00m e:\n",
      "\u001b[0;31mValueError\u001b[0m: tuple.index(x): x not in tuple",
      "\nThe above exception was the direct cause of the following exception:\n",
      "\u001b[0;31mWireError\u001b[0m                                 Traceback (most recent call last)",
      "Cell \u001b[0;32mIn[13], line 1\u001b[0m\n\u001b[0;32m----> 1\u001b[0m solver_results \u001b[38;5;241m=\u001b[39m \u001b[43mvqa\u001b[49m\u001b[38;5;241;43m.\u001b[39;49m\u001b[43msolve\u001b[49m\u001b[43m(\u001b[49m\u001b[43m)\u001b[49m\n",
      "File \u001b[0;32m~/Desktop/QHyper/demo/QHyper/solvers/vqa/base.py:132\u001b[0m, in \u001b[0;36mVQA.solve\u001b[0;34m(self, params_inits)\u001b[0m\n\u001b[1;32m    127\u001b[0m opt_wrapper \u001b[38;5;241m=\u001b[39m LocalOptimizerFunction(\n\u001b[1;32m    128\u001b[0m         \u001b[38;5;28mself\u001b[39m\u001b[38;5;241m.\u001b[39mpqc, \u001b[38;5;28mself\u001b[39m\u001b[38;5;241m.\u001b[39mproblem, best_hargs)\n\u001b[1;32m    129\u001b[0m opt_res \u001b[38;5;241m=\u001b[39m \u001b[38;5;28mself\u001b[39m\u001b[38;5;241m.\u001b[39moptimizer\u001b[38;5;241m.\u001b[39mminimize(opt_wrapper, opt_args)\n\u001b[1;32m    131\u001b[0m \u001b[38;5;28;01mreturn\u001b[39;00m SolverResult(\n\u001b[0;32m--> 132\u001b[0m     \u001b[38;5;28;43mself\u001b[39;49m\u001b[38;5;241;43m.\u001b[39;49m\u001b[43mpqc\u001b[49m\u001b[38;5;241;43m.\u001b[39;49m\u001b[43mrun_with_probs\u001b[49m\u001b[43m(\u001b[49m\u001b[38;5;28;43mself\u001b[39;49m\u001b[38;5;241;43m.\u001b[39;49m\u001b[43mproblem\u001b[49m\u001b[43m,\u001b[49m\u001b[43m \u001b[49m\u001b[43mopt_res\u001b[49m\u001b[38;5;241;43m.\u001b[39;49m\u001b[43mparams\u001b[49m\u001b[43m,\u001b[49m\u001b[43m \u001b[49m\u001b[43mbest_hargs\u001b[49m\u001b[43m)\u001b[49m,\n\u001b[1;32m    133\u001b[0m     \u001b[38;5;28mself\u001b[39m\u001b[38;5;241m.\u001b[39mpqc\u001b[38;5;241m.\u001b[39mget_params_init_format(opt_res\u001b[38;5;241m.\u001b[39mparams, best_hargs),\n\u001b[1;32m    134\u001b[0m     opt_res\u001b[38;5;241m.\u001b[39mhistory,\n\u001b[1;32m    135\u001b[0m )\n",
      "File \u001b[0;32m~/Desktop/QHyper/demo/QHyper/solvers/vqa/pqc/qaoa.py:136\u001b[0m, in \u001b[0;36mQAOA.run_with_probs\u001b[0;34m(self, problem, opt_args, hyper_args)\u001b[0m\n\u001b[1;32m    129\u001b[0m \u001b[38;5;28;01mdef\u001b[39;00m \u001b[38;5;21mrun_with_probs\u001b[39m(\n\u001b[1;32m    130\u001b[0m     \u001b[38;5;28mself\u001b[39m,\n\u001b[1;32m    131\u001b[0m     problem: Problem,\n\u001b[1;32m    132\u001b[0m     opt_args: npt\u001b[38;5;241m.\u001b[39mNDArray[np\u001b[38;5;241m.\u001b[39mfloat64],\n\u001b[1;32m    133\u001b[0m     hyper_args: npt\u001b[38;5;241m.\u001b[39mNDArray[np\u001b[38;5;241m.\u001b[39mfloat64],\n\u001b[1;32m    134\u001b[0m ) \u001b[38;5;241m-\u001b[39m\u001b[38;5;241m>\u001b[39m \u001b[38;5;28mdict\u001b[39m[\u001b[38;5;28mstr\u001b[39m, \u001b[38;5;28mfloat\u001b[39m]:\n\u001b[1;32m    135\u001b[0m     \u001b[38;5;28mself\u001b[39m\u001b[38;5;241m.\u001b[39mdev \u001b[38;5;241m=\u001b[39m qml\u001b[38;5;241m.\u001b[39mdevice(\u001b[38;5;28mself\u001b[39m\u001b[38;5;241m.\u001b[39mbackend, wires\u001b[38;5;241m=\u001b[39m[\u001b[38;5;28mstr\u001b[39m(x) \u001b[38;5;28;01mfor\u001b[39;00m x \u001b[38;5;129;01min\u001b[39;00m problem\u001b[38;5;241m.\u001b[39mvariables])\n\u001b[0;32m--> 136\u001b[0m     probs \u001b[38;5;241m=\u001b[39m \u001b[38;5;28;43mself\u001b[39;49m\u001b[38;5;241;43m.\u001b[39;49m\u001b[43mget_probs_func\u001b[49m\u001b[43m(\u001b[49m\u001b[43mproblem\u001b[49m\u001b[43m,\u001b[49m\u001b[43m \u001b[49m\u001b[38;5;28;43mlist\u001b[39;49m\u001b[43m(\u001b[49m\u001b[43mhyper_args\u001b[49m\u001b[43m)\u001b[49m\u001b[43m)\u001b[49m\u001b[43m(\u001b[49m\u001b[43mopt_args\u001b[49m\u001b[38;5;241;43m.\u001b[39;49m\u001b[43mreshape\u001b[49m\u001b[43m(\u001b[49m\u001b[38;5;241;43m2\u001b[39;49m\u001b[43m,\u001b[49m\u001b[43m \u001b[49m\u001b[38;5;241;43m-\u001b[39;49m\u001b[38;5;241;43m1\u001b[39;49m\u001b[43m)\u001b[49m\u001b[43m)\u001b[49m\n\u001b[1;32m    137\u001b[0m     \u001b[38;5;28;01mreturn\u001b[39;00m {\n\u001b[1;32m    138\u001b[0m         \u001b[38;5;28mformat\u001b[39m(result, \u001b[38;5;124m\"\u001b[39m\u001b[38;5;124mb\u001b[39m\u001b[38;5;124m\"\u001b[39m)\u001b[38;5;241m.\u001b[39mzfill(\u001b[38;5;28mlen\u001b[39m(problem\u001b[38;5;241m.\u001b[39mvariables)): \u001b[38;5;28mfloat\u001b[39m(prob)\n\u001b[1;32m    139\u001b[0m         \u001b[38;5;28;01mfor\u001b[39;00m result, prob \u001b[38;5;129;01min\u001b[39;00m \u001b[38;5;28menumerate\u001b[39m(probs)\n\u001b[1;32m    140\u001b[0m     }\n",
      "File \u001b[0;32m~/Desktop/QHyper/.venv/lib/python3.10/site-packages/pennylane/qnode.py:1039\u001b[0m, in \u001b[0;36mQNode.__call__\u001b[0;34m(self, *args, **kwargs)\u001b[0m\n\u001b[1;32m   1034\u001b[0m         full_transform_program\u001b[38;5;241m.\u001b[39m_set_all_argnums(\n\u001b[1;32m   1035\u001b[0m             \u001b[38;5;28mself\u001b[39m, args, kwargs, argnums\n\u001b[1;32m   1036\u001b[0m         )  \u001b[38;5;66;03m# pylint: disable=protected-access\u001b[39;00m\n\u001b[1;32m   1038\u001b[0m \u001b[38;5;66;03m# pylint: disable=unexpected-keyword-arg\u001b[39;00m\n\u001b[0;32m-> 1039\u001b[0m res \u001b[38;5;241m=\u001b[39m \u001b[43mqml\u001b[49m\u001b[38;5;241;43m.\u001b[39;49m\u001b[43mexecute\u001b[49m\u001b[43m(\u001b[49m\n\u001b[1;32m   1040\u001b[0m \u001b[43m    \u001b[49m\u001b[43m(\u001b[49m\u001b[38;5;28;43mself\u001b[39;49m\u001b[38;5;241;43m.\u001b[39;49m\u001b[43m_tape\u001b[49m\u001b[43m,\u001b[49m\u001b[43m)\u001b[49m\u001b[43m,\u001b[49m\n\u001b[1;32m   1041\u001b[0m \u001b[43m    \u001b[49m\u001b[43mdevice\u001b[49m\u001b[38;5;241;43m=\u001b[39;49m\u001b[38;5;28;43mself\u001b[39;49m\u001b[38;5;241;43m.\u001b[39;49m\u001b[43mdevice\u001b[49m\u001b[43m,\u001b[49m\n\u001b[1;32m   1042\u001b[0m \u001b[43m    \u001b[49m\u001b[43mgradient_fn\u001b[49m\u001b[38;5;241;43m=\u001b[39;49m\u001b[38;5;28;43mself\u001b[39;49m\u001b[38;5;241;43m.\u001b[39;49m\u001b[43mgradient_fn\u001b[49m\u001b[43m,\u001b[49m\n\u001b[1;32m   1043\u001b[0m \u001b[43m    \u001b[49m\u001b[43minterface\u001b[49m\u001b[38;5;241;43m=\u001b[39;49m\u001b[38;5;28;43mself\u001b[39;49m\u001b[38;5;241;43m.\u001b[39;49m\u001b[43minterface\u001b[49m\u001b[43m,\u001b[49m\n\u001b[1;32m   1044\u001b[0m \u001b[43m    \u001b[49m\u001b[43mtransform_program\u001b[49m\u001b[38;5;241;43m=\u001b[39;49m\u001b[43mfull_transform_program\u001b[49m\u001b[43m,\u001b[49m\n\u001b[1;32m   1045\u001b[0m \u001b[43m    \u001b[49m\u001b[43mconfig\u001b[49m\u001b[38;5;241;43m=\u001b[39;49m\u001b[43mconfig\u001b[49m\u001b[43m,\u001b[49m\n\u001b[1;32m   1046\u001b[0m \u001b[43m    \u001b[49m\u001b[43mgradient_kwargs\u001b[49m\u001b[38;5;241;43m=\u001b[39;49m\u001b[38;5;28;43mself\u001b[39;49m\u001b[38;5;241;43m.\u001b[39;49m\u001b[43mgradient_kwargs\u001b[49m\u001b[43m,\u001b[49m\n\u001b[1;32m   1047\u001b[0m \u001b[43m    \u001b[49m\u001b[43moverride_shots\u001b[49m\u001b[38;5;241;43m=\u001b[39;49m\u001b[43moverride_shots\u001b[49m\u001b[43m,\u001b[49m\n\u001b[1;32m   1048\u001b[0m \u001b[43m    \u001b[49m\u001b[38;5;241;43m*\u001b[39;49m\u001b[38;5;241;43m*\u001b[39;49m\u001b[38;5;28;43mself\u001b[39;49m\u001b[38;5;241;43m.\u001b[39;49m\u001b[43mexecute_kwargs\u001b[49m\u001b[43m,\u001b[49m\n\u001b[1;32m   1049\u001b[0m \u001b[43m\u001b[49m\u001b[43m)\u001b[49m\n\u001b[1;32m   1051\u001b[0m res \u001b[38;5;241m=\u001b[39m res[\u001b[38;5;241m0\u001b[39m]\n\u001b[1;32m   1053\u001b[0m \u001b[38;5;66;03m# convert result to the interface in case the qfunc has no parameters\u001b[39;00m\n",
      "File \u001b[0;32m~/Desktop/QHyper/.venv/lib/python3.10/site-packages/pennylane/interfaces/execution.py:808\u001b[0m, in \u001b[0;36mexecute\u001b[0;34m(tapes, device, gradient_fn, interface, transform_program, config, grad_on_execution, gradient_kwargs, cache, cachesize, max_diff, override_shots, expand_fn, max_expansion, device_batch_transform, device_vjp)\u001b[0m\n\u001b[1;32m    803\u001b[0m ml_boundary_execute \u001b[38;5;241m=\u001b[39m _get_ml_boundary_execute(\n\u001b[1;32m    804\u001b[0m     interface, _grad_on_execution, config\u001b[38;5;241m.\u001b[39muse_device_jacobian_product\n\u001b[1;32m    805\u001b[0m )\n\u001b[1;32m    807\u001b[0m \u001b[38;5;28;01mif\u001b[39;00m interface \u001b[38;5;129;01min\u001b[39;00m jpc_interfaces:\n\u001b[0;32m--> 808\u001b[0m     results \u001b[38;5;241m=\u001b[39m \u001b[43mml_boundary_execute\u001b[49m\u001b[43m(\u001b[49m\u001b[43mtapes\u001b[49m\u001b[43m,\u001b[49m\u001b[43m \u001b[49m\u001b[43mexecute_fn\u001b[49m\u001b[43m,\u001b[49m\u001b[43m \u001b[49m\u001b[43mjpc\u001b[49m\u001b[43m,\u001b[49m\u001b[43m \u001b[49m\u001b[43mdevice\u001b[49m\u001b[38;5;241;43m=\u001b[39;49m\u001b[43mdevice\u001b[49m\u001b[43m)\u001b[49m\n\u001b[1;32m    809\u001b[0m \u001b[38;5;28;01melse\u001b[39;00m:\n\u001b[1;32m    810\u001b[0m     results \u001b[38;5;241m=\u001b[39m ml_boundary_execute(\n\u001b[1;32m    811\u001b[0m         tapes, device, execute_fn, gradient_fn, gradient_kwargs, _n\u001b[38;5;241m=\u001b[39m\u001b[38;5;241m1\u001b[39m, max_diff\u001b[38;5;241m=\u001b[39mmax_diff\n\u001b[1;32m    812\u001b[0m     )\n",
      "File \u001b[0;32m~/Desktop/QHyper/.venv/lib/python3.10/site-packages/pennylane/interfaces/autograd.py:147\u001b[0m, in \u001b[0;36mautograd_execute\u001b[0;34m(tapes, execute_fn, jpc, device)\u001b[0m\n\u001b[1;32m    142\u001b[0m \u001b[38;5;66;03m# pylint misidentifies autograd.builtins as a dict\u001b[39;00m\n\u001b[1;32m    143\u001b[0m \u001b[38;5;66;03m# pylint: disable=no-member\u001b[39;00m\n\u001b[1;32m    144\u001b[0m parameters \u001b[38;5;241m=\u001b[39m autograd\u001b[38;5;241m.\u001b[39mbuiltins\u001b[38;5;241m.\u001b[39mtuple(\n\u001b[1;32m    145\u001b[0m     [autograd\u001b[38;5;241m.\u001b[39mbuiltins\u001b[38;5;241m.\u001b[39mlist(t\u001b[38;5;241m.\u001b[39mget_parameters()) \u001b[38;5;28;01mfor\u001b[39;00m t \u001b[38;5;129;01min\u001b[39;00m tapes]\n\u001b[1;32m    146\u001b[0m )\n\u001b[0;32m--> 147\u001b[0m \u001b[38;5;28;01mreturn\u001b[39;00m \u001b[43m_execute\u001b[49m\u001b[43m(\u001b[49m\u001b[43mparameters\u001b[49m\u001b[43m,\u001b[49m\u001b[43m \u001b[49m\u001b[38;5;28;43mtuple\u001b[39;49m\u001b[43m(\u001b[49m\u001b[43mtapes\u001b[49m\u001b[43m)\u001b[49m\u001b[43m,\u001b[49m\u001b[43m \u001b[49m\u001b[43mexecute_fn\u001b[49m\u001b[43m,\u001b[49m\u001b[43m \u001b[49m\u001b[43mjpc\u001b[49m\u001b[43m)\u001b[49m\n",
      "File \u001b[0;32m~/Desktop/QHyper/.venv/lib/python3.10/site-packages/autograd/tracer.py:48\u001b[0m, in \u001b[0;36mprimitive.<locals>.f_wrapped\u001b[0;34m(*args, **kwargs)\u001b[0m\n\u001b[1;32m     46\u001b[0m     \u001b[38;5;28;01mreturn\u001b[39;00m new_box(ans, trace, node)\n\u001b[1;32m     47\u001b[0m \u001b[38;5;28;01melse\u001b[39;00m:\n\u001b[0;32m---> 48\u001b[0m     \u001b[38;5;28;01mreturn\u001b[39;00m \u001b[43mf_raw\u001b[49m\u001b[43m(\u001b[49m\u001b[38;5;241;43m*\u001b[39;49m\u001b[43margs\u001b[49m\u001b[43m,\u001b[49m\u001b[43m \u001b[49m\u001b[38;5;241;43m*\u001b[39;49m\u001b[38;5;241;43m*\u001b[39;49m\u001b[43mkwargs\u001b[49m\u001b[43m)\u001b[49m\n",
      "File \u001b[0;32m~/Desktop/QHyper/.venv/lib/python3.10/site-packages/pennylane/interfaces/autograd.py:168\u001b[0m, in \u001b[0;36m_execute\u001b[0;34m(parameters, tapes, execute_fn, jpc)\u001b[0m\n\u001b[1;32m    150\u001b[0m \u001b[38;5;129m@autograd\u001b[39m\u001b[38;5;241m.\u001b[39mextend\u001b[38;5;241m.\u001b[39mprimitive\n\u001b[1;32m    151\u001b[0m \u001b[38;5;28;01mdef\u001b[39;00m \u001b[38;5;21m_execute\u001b[39m(\n\u001b[1;32m    152\u001b[0m     parameters,\n\u001b[0;32m   (...)\u001b[0m\n\u001b[1;32m    155\u001b[0m     jpc,\n\u001b[1;32m    156\u001b[0m ):  \u001b[38;5;66;03m# pylint: disable=unused-argument\u001b[39;00m\n\u001b[1;32m    157\u001b[0m \u001b[38;5;250m    \u001b[39m\u001b[38;5;124;03m\"\"\"Autodifferentiable wrapper around a way of executing tapes.\u001b[39;00m\n\u001b[1;32m    158\u001b[0m \n\u001b[1;32m    159\u001b[0m \u001b[38;5;124;03m    Args:\u001b[39;00m\n\u001b[0;32m   (...)\u001b[0m\n\u001b[1;32m    166\u001b[0m \n\u001b[1;32m    167\u001b[0m \u001b[38;5;124;03m    \"\"\"\u001b[39;00m\n\u001b[0;32m--> 168\u001b[0m     \u001b[38;5;28;01mreturn\u001b[39;00m \u001b[43mexecute_fn\u001b[49m\u001b[43m(\u001b[49m\u001b[43mtapes\u001b[49m\u001b[43m)\u001b[49m\n",
      "File \u001b[0;32m~/Desktop/QHyper/.venv/lib/python3.10/site-packages/pennylane/interfaces/execution.py:261\u001b[0m, in \u001b[0;36m_make_inner_execute.<locals>.inner_execute\u001b[0;34m(tapes, **_)\u001b[0m\n\u001b[1;32m    259\u001b[0m \u001b[38;5;28;01mif\u001b[39;00m numpy_only:\n\u001b[1;32m    260\u001b[0m     tapes \u001b[38;5;241m=\u001b[39m \u001b[38;5;28mtuple\u001b[39m(qml\u001b[38;5;241m.\u001b[39mtransforms\u001b[38;5;241m.\u001b[39mconvert_to_numpy_parameters(t) \u001b[38;5;28;01mfor\u001b[39;00m t \u001b[38;5;129;01min\u001b[39;00m tapes)\n\u001b[0;32m--> 261\u001b[0m \u001b[38;5;28;01mreturn\u001b[39;00m \u001b[43mcached_device_execution\u001b[49m\u001b[43m(\u001b[49m\u001b[43mtapes\u001b[49m\u001b[43m)\u001b[49m\n",
      "File \u001b[0;32m~/Desktop/QHyper/.venv/lib/python3.10/site-packages/pennylane/interfaces/execution.py:383\u001b[0m, in \u001b[0;36mcache_execute.<locals>.wrapper\u001b[0;34m(tapes, **kwargs)\u001b[0m\n\u001b[1;32m    378\u001b[0m         \u001b[38;5;28;01mreturn\u001b[39;00m (res, []) \u001b[38;5;28;01mif\u001b[39;00m return_tuple \u001b[38;5;28;01melse\u001b[39;00m res\n\u001b[1;32m    380\u001b[0m \u001b[38;5;28;01melse\u001b[39;00m:\n\u001b[1;32m    381\u001b[0m     \u001b[38;5;66;03m# execute all unique tapes that do not exist in the cache\u001b[39;00m\n\u001b[1;32m    382\u001b[0m     \u001b[38;5;66;03m# convert to list as new device interface returns a tuple\u001b[39;00m\n\u001b[0;32m--> 383\u001b[0m     res \u001b[38;5;241m=\u001b[39m \u001b[38;5;28mlist\u001b[39m(\u001b[43mfn\u001b[49m\u001b[43m(\u001b[49m\u001b[38;5;28;43mtuple\u001b[39;49m\u001b[43m(\u001b[49m\u001b[43mexecution_tapes\u001b[49m\u001b[38;5;241;43m.\u001b[39;49m\u001b[43mvalues\u001b[49m\u001b[43m(\u001b[49m\u001b[43m)\u001b[49m\u001b[43m)\u001b[49m\u001b[43m,\u001b[49m\u001b[43m \u001b[49m\u001b[38;5;241;43m*\u001b[39;49m\u001b[38;5;241;43m*\u001b[39;49m\u001b[43mkwargs\u001b[49m\u001b[43m)\u001b[49m)\n\u001b[1;32m    385\u001b[0m final_res \u001b[38;5;241m=\u001b[39m []\n\u001b[1;32m    387\u001b[0m \u001b[38;5;28;01mfor\u001b[39;00m i, tape \u001b[38;5;129;01min\u001b[39;00m \u001b[38;5;28menumerate\u001b[39m(tapes):\n",
      "File \u001b[0;32m/usr/local/lib/python3.10/contextlib.py:79\u001b[0m, in \u001b[0;36mContextDecorator.__call__.<locals>.inner\u001b[0;34m(*args, **kwds)\u001b[0m\n\u001b[1;32m     76\u001b[0m \u001b[38;5;129m@wraps\u001b[39m(func)\n\u001b[1;32m     77\u001b[0m \u001b[38;5;28;01mdef\u001b[39;00m \u001b[38;5;21minner\u001b[39m(\u001b[38;5;241m*\u001b[39margs, \u001b[38;5;241m*\u001b[39m\u001b[38;5;241m*\u001b[39mkwds):\n\u001b[1;32m     78\u001b[0m     \u001b[38;5;28;01mwith\u001b[39;00m \u001b[38;5;28mself\u001b[39m\u001b[38;5;241m.\u001b[39m_recreate_cm():\n\u001b[0;32m---> 79\u001b[0m         \u001b[38;5;28;01mreturn\u001b[39;00m \u001b[43mfunc\u001b[49m\u001b[43m(\u001b[49m\u001b[38;5;241;43m*\u001b[39;49m\u001b[43margs\u001b[49m\u001b[43m,\u001b[49m\u001b[43m \u001b[49m\u001b[38;5;241;43m*\u001b[39;49m\u001b[38;5;241;43m*\u001b[39;49m\u001b[43mkwds\u001b[49m\u001b[43m)\u001b[49m\n",
      "File \u001b[0;32m~/Desktop/QHyper/.venv/lib/python3.10/site-packages/pennylane/_qubit_device.py:459\u001b[0m, in \u001b[0;36mQubitDevice.batch_execute\u001b[0;34m(self, circuits)\u001b[0m\n\u001b[1;32m    454\u001b[0m \u001b[38;5;28;01mfor\u001b[39;00m circuit \u001b[38;5;129;01min\u001b[39;00m circuits:\n\u001b[1;32m    455\u001b[0m     \u001b[38;5;66;03m# we need to reset the device here, else it will\u001b[39;00m\n\u001b[1;32m    456\u001b[0m     \u001b[38;5;66;03m# not start the next computation in the zero state\u001b[39;00m\n\u001b[1;32m    457\u001b[0m     \u001b[38;5;28mself\u001b[39m\u001b[38;5;241m.\u001b[39mreset()\n\u001b[0;32m--> 459\u001b[0m     res \u001b[38;5;241m=\u001b[39m \u001b[38;5;28;43mself\u001b[39;49m\u001b[38;5;241;43m.\u001b[39;49m\u001b[43mexecute\u001b[49m\u001b[43m(\u001b[49m\u001b[43mcircuit\u001b[49m\u001b[43m)\u001b[49m\n\u001b[1;32m    460\u001b[0m     results\u001b[38;5;241m.\u001b[39mappend(res)\n\u001b[1;32m    462\u001b[0m \u001b[38;5;28;01mif\u001b[39;00m \u001b[38;5;28mself\u001b[39m\u001b[38;5;241m.\u001b[39mtracker\u001b[38;5;241m.\u001b[39mactive:\n",
      "File \u001b[0;32m~/Desktop/QHyper/.venv/lib/python3.10/site-packages/pennylane/_qubit_device.py:277\u001b[0m, in \u001b[0;36mQubitDevice.execute\u001b[0;34m(self, circuit, **kwargs)\u001b[0m\n\u001b[1;32m    274\u001b[0m \u001b[38;5;28mself\u001b[39m\u001b[38;5;241m.\u001b[39mcheck_validity(circuit\u001b[38;5;241m.\u001b[39moperations, circuit\u001b[38;5;241m.\u001b[39mobservables)\n\u001b[1;32m    276\u001b[0m \u001b[38;5;66;03m# apply all circuit operations\u001b[39;00m\n\u001b[0;32m--> 277\u001b[0m \u001b[38;5;28;43mself\u001b[39;49m\u001b[38;5;241;43m.\u001b[39;49m\u001b[43mapply\u001b[49m\u001b[43m(\u001b[49m\u001b[43mcircuit\u001b[49m\u001b[38;5;241;43m.\u001b[39;49m\u001b[43moperations\u001b[49m\u001b[43m,\u001b[49m\u001b[43m \u001b[49m\u001b[43mrotations\u001b[49m\u001b[38;5;241;43m=\u001b[39;49m\u001b[38;5;28;43mself\u001b[39;49m\u001b[38;5;241;43m.\u001b[39;49m\u001b[43m_get_diagonalizing_gates\u001b[49m\u001b[43m(\u001b[49m\u001b[43mcircuit\u001b[49m\u001b[43m)\u001b[49m\u001b[43m,\u001b[49m\u001b[43m \u001b[49m\u001b[38;5;241;43m*\u001b[39;49m\u001b[38;5;241;43m*\u001b[39;49m\u001b[43mkwargs\u001b[49m\u001b[43m)\u001b[49m\n\u001b[1;32m    279\u001b[0m \u001b[38;5;66;03m# generate computational basis samples\u001b[39;00m\n\u001b[1;32m    280\u001b[0m sample_type \u001b[38;5;241m=\u001b[39m (SampleMP, CountsMP, ClassicalShadowMP, ShadowExpvalMP)\n",
      "File \u001b[0;32m~/Desktop/QHyper/.venv/lib/python3.10/site-packages/pennylane_lightning/lightning_qubit/lightning_qubit.py:471\u001b[0m, in \u001b[0;36mLightningQubit.apply\u001b[0;34m(self, operations, rotations, **kwargs)\u001b[0m\n\u001b[1;32m    465\u001b[0m         \u001b[38;5;28;01mraise\u001b[39;00m DeviceError(\n\u001b[1;32m    466\u001b[0m             \u001b[38;5;124mf\u001b[39m\u001b[38;5;124m\"\u001b[39m\u001b[38;5;124mOperation \u001b[39m\u001b[38;5;132;01m{\u001b[39;00moperation\u001b[38;5;241m.\u001b[39mname\u001b[38;5;132;01m}\u001b[39;00m\u001b[38;5;124m cannot be used after other \u001b[39m\u001b[38;5;124m\"\u001b[39m\n\u001b[1;32m    467\u001b[0m             \u001b[38;5;124mf\u001b[39m\u001b[38;5;124m\"\u001b[39m\u001b[38;5;124mOperations have already been applied on a \u001b[39m\u001b[38;5;132;01m{\u001b[39;00m\u001b[38;5;28mself\u001b[39m\u001b[38;5;241m.\u001b[39mshort_name\u001b[38;5;132;01m}\u001b[39;00m\u001b[38;5;124m device.\u001b[39m\u001b[38;5;124m\"\u001b[39m\n\u001b[1;32m    468\u001b[0m         )\n\u001b[1;32m    470\u001b[0m \u001b[38;5;28;01mif\u001b[39;00m operations:\n\u001b[0;32m--> 471\u001b[0m     \u001b[38;5;28mself\u001b[39m\u001b[38;5;241m.\u001b[39m_pre_rotated_state \u001b[38;5;241m=\u001b[39m \u001b[38;5;28;43mself\u001b[39;49m\u001b[38;5;241;43m.\u001b[39;49m\u001b[43mapply_lightning\u001b[49m\u001b[43m(\u001b[49m\u001b[38;5;28;43mself\u001b[39;49m\u001b[38;5;241;43m.\u001b[39;49m\u001b[43m_state\u001b[49m\u001b[43m,\u001b[49m\u001b[43m \u001b[49m\u001b[43moperations\u001b[49m\u001b[43m)\u001b[49m\n\u001b[1;32m    472\u001b[0m \u001b[38;5;28;01melse\u001b[39;00m:\n\u001b[1;32m    473\u001b[0m     \u001b[38;5;28mself\u001b[39m\u001b[38;5;241m.\u001b[39m_pre_rotated_state \u001b[38;5;241m=\u001b[39m \u001b[38;5;28mself\u001b[39m\u001b[38;5;241m.\u001b[39m_state\n",
      "File \u001b[0;32m~/Desktop/QHyper/.venv/lib/python3.10/site-packages/pennylane_lightning/lightning_qubit/lightning_qubit.py:425\u001b[0m, in \u001b[0;36mLightningQubit.apply_lightning\u001b[0;34m(self, state, operations)\u001b[0m\n\u001b[1;32m    423\u001b[0m     \u001b[38;5;28;01mcontinue\u001b[39;00m\n\u001b[1;32m    424\u001b[0m method \u001b[38;5;241m=\u001b[39m \u001b[38;5;28mgetattr\u001b[39m(sim, operation\u001b[38;5;241m.\u001b[39mname, \u001b[38;5;28;01mNone\u001b[39;00m)\n\u001b[0;32m--> 425\u001b[0m wires \u001b[38;5;241m=\u001b[39m \u001b[38;5;28;43mself\u001b[39;49m\u001b[38;5;241;43m.\u001b[39;49m\u001b[43mwires\u001b[49m\u001b[38;5;241;43m.\u001b[39;49m\u001b[43mindices\u001b[49m\u001b[43m(\u001b[49m\u001b[43moperation\u001b[49m\u001b[38;5;241;43m.\u001b[39;49m\u001b[43mwires\u001b[49m\u001b[43m)\u001b[49m\n\u001b[1;32m    427\u001b[0m \u001b[38;5;28;01mif\u001b[39;00m method \u001b[38;5;129;01mis\u001b[39;00m \u001b[38;5;129;01mnot\u001b[39;00m \u001b[38;5;28;01mNone\u001b[39;00m:  \u001b[38;5;66;03m# apply specialized gate\u001b[39;00m\n\u001b[1;32m    428\u001b[0m     inv \u001b[38;5;241m=\u001b[39m \u001b[38;5;28;01mFalse\u001b[39;00m\n",
      "File \u001b[0;32m~/Desktop/QHyper/.venv/lib/python3.10/site-packages/pennylane/wires.py:274\u001b[0m, in \u001b[0;36mWires.indices\u001b[0;34m(self, wires)\u001b[0m\n\u001b[1;32m    271\u001b[0m \u001b[38;5;28;01mif\u001b[39;00m \u001b[38;5;129;01mnot\u001b[39;00m \u001b[38;5;28misinstance\u001b[39m(wires, Iterable):\n\u001b[1;32m    272\u001b[0m     \u001b[38;5;28;01mreturn\u001b[39;00m [\u001b[38;5;28mself\u001b[39m\u001b[38;5;241m.\u001b[39mindex(wires)]\n\u001b[0;32m--> 274\u001b[0m \u001b[38;5;28;01mreturn\u001b[39;00m [\u001b[38;5;28mself\u001b[39m\u001b[38;5;241m.\u001b[39mindex(w) \u001b[38;5;28;01mfor\u001b[39;00m w \u001b[38;5;129;01min\u001b[39;00m wires]\n",
      "File \u001b[0;32m~/Desktop/QHyper/.venv/lib/python3.10/site-packages/pennylane/wires.py:274\u001b[0m, in \u001b[0;36m<listcomp>\u001b[0;34m(.0)\u001b[0m\n\u001b[1;32m    271\u001b[0m \u001b[38;5;28;01mif\u001b[39;00m \u001b[38;5;129;01mnot\u001b[39;00m \u001b[38;5;28misinstance\u001b[39m(wires, Iterable):\n\u001b[1;32m    272\u001b[0m     \u001b[38;5;28;01mreturn\u001b[39;00m [\u001b[38;5;28mself\u001b[39m\u001b[38;5;241m.\u001b[39mindex(wires)]\n\u001b[0;32m--> 274\u001b[0m \u001b[38;5;28;01mreturn\u001b[39;00m [\u001b[38;5;28;43mself\u001b[39;49m\u001b[38;5;241;43m.\u001b[39;49m\u001b[43mindex\u001b[49m\u001b[43m(\u001b[49m\u001b[43mw\u001b[49m\u001b[43m)\u001b[49m \u001b[38;5;28;01mfor\u001b[39;00m w \u001b[38;5;129;01min\u001b[39;00m wires]\n",
      "File \u001b[0;32m~/Desktop/QHyper/.venv/lib/python3.10/site-packages/pennylane/wires.py:250\u001b[0m, in \u001b[0;36mWires.index\u001b[0;34m(self, wire)\u001b[0m\n\u001b[1;32m    248\u001b[0m     \u001b[38;5;28;01mreturn\u001b[39;00m \u001b[38;5;28mself\u001b[39m\u001b[38;5;241m.\u001b[39m_labels\u001b[38;5;241m.\u001b[39mindex(wire)\n\u001b[1;32m    249\u001b[0m \u001b[38;5;28;01mexcept\u001b[39;00m \u001b[38;5;167;01mValueError\u001b[39;00m \u001b[38;5;28;01mas\u001b[39;00m e:\n\u001b[0;32m--> 250\u001b[0m     \u001b[38;5;28;01mraise\u001b[39;00m WireError(\u001b[38;5;124mf\u001b[39m\u001b[38;5;124m\"\u001b[39m\u001b[38;5;124mWire with label \u001b[39m\u001b[38;5;132;01m{\u001b[39;00mwire\u001b[38;5;132;01m}\u001b[39;00m\u001b[38;5;124m not found in \u001b[39m\u001b[38;5;132;01m{\u001b[39;00m\u001b[38;5;28mself\u001b[39m\u001b[38;5;132;01m}\u001b[39;00m\u001b[38;5;124m.\u001b[39m\u001b[38;5;124m\"\u001b[39m) \u001b[38;5;28;01mfrom\u001b[39;00m \u001b[38;5;21;01me\u001b[39;00m\n",
      "\u001b[0;31mWireError\u001b[0m: Wire with label a1 not found in <Wires = ['x0', 'x1', 'x2', 'x3', 'x4', 'x5']>."
     ]
    }
   ],
   "source": [
    "solver_results = vqa.solve()"
   ]
  },
  {
   "cell_type": "code",
   "execution_count": null,
   "id": "554606e3",
   "metadata": {
    "slideshow": {
     "slide_type": "slide"
    }
   },
   "outputs": [
    {
     "data": {
      "text/plain": [
       "<Axes: xlabel='index', ylabel='value'>"
      ]
     },
     "execution_count": 8,
     "metadata": {},
     "output_type": "execute_result"
    },
    {
     "data": {
      "image/png": "[encoded data removed]",
      "text/plain": [
       "<Figure size 640x480 with 1 Axes>"
      ]
     },
     "metadata": {},
     "output_type": "display_data"
    }
   ],
   "source": [
    "import pandas as pd\n",
    "\n",
    "pd.DataFrame(solver_results.history[0]).reset_index().plot(x='index',y='value', kind='scatter')"
   ]
  },
  {
   "cell_type": "code",
   "execution_count": null,
   "id": "dc368439",
   "metadata": {
    "slideshow": {
     "slide_type": "slide"
    }
   },
   "outputs": [
    {
     "name": "stdout",
     "output_type": "stream",
     "text": [
      "Best params: {'angles': tensor([[1.90240071, 4.1802942 , 4.14856017, 5.7482359 , 4.09994406,\n",
      "         3.83450025],\n",
      "        [0.89295476, 2.55770442, 1.82959608, 2.49176822, 1.34016335,\n",
      "         1.08143327]], requires_grad=True), 'hyper_args': tensor([1, 2, 2], requires_grad=True)}\n"
     ]
    }
   ],
   "source": [
    "print(f\"Best params: {solver_results.params}\")"
   ]
  },
  {
   "cell_type": "code",
   "execution_count": null,
   "id": "f4710450",
   "metadata": {
    "slideshow": {
     "slide_type": "slide"
    }
   },
   "outputs": [
    {
     "name": "stdout",
     "output_type": "stream",
     "text": [
      "Evaluation:\n",
      "25.641779768292206\n",
      "Sort results:\n",
      "Result: 000001, \t Prob: 0.40823, \t Evaluation: 25.0\n",
      "Result: 001001, \t Prob: 0.28299, \t Evaluation: 26.0\n",
      "Result: 000101, \t Prob: 0.28299, \t Evaluation: 26.0\n",
      "Result: 010101, \t Prob: 0.0034585, \t Evaluation: 28.0\n",
      "Result: 010110, \t Prob: 0.0034585, \t Evaluation: 28.0\n",
      "Result: 011001, \t Prob: 0.0034585, \t Evaluation: 28.0\n",
      "Result: 011010, \t Prob: 0.0034585, \t Evaluation: 28.0\n",
      "Result: 100101, \t Prob: 0.0034585, \t Evaluation: 28.0\n",
      "Result: 100110, \t Prob: 0.0034585, \t Evaluation: 28.0\n",
      "Result: 101001, \t Prob: 0.0034585, \t Evaluation: 28.0\n",
      "Result: 010001, \t Prob: 0.00052923, \t Evaluation: 27.0\n",
      "Result: 010010, \t Prob: 0.00052923, \t Evaluation: 27.0\n",
      "Result: 100001, \t Prob: 0.00052923, \t Evaluation: 27.0\n",
      "Result: 000110, \t Prob: 4.5386e-31, \t Evaluation: 0\n",
      "Result: 000010, \t Prob: 4.0017e-31, \t Evaluation: 0\n",
      "Result: 001011, \t Prob: 2.4083e-31, \t Evaluation: 0\n",
      "Result: 000100, \t Prob: 1.9277e-31, \t Evaluation: 0\n",
      "Result: 001101, \t Prob: 1.798e-31, \t Evaluation: 0\n",
      "Result: 001010, \t Prob: 8.3883e-32, \t Evaluation: 0\n",
      "Result: 001100, \t Prob: 7.2327e-32, \t Evaluation: 0\n"
     ]
    }
   ],
   "source": [
    "from QHyper.util import (\n",
    "    weighted_avg_evaluation, sort_solver_results, add_evaluation_to_results)\n",
    "\n",
    "# Evaluate results with weighted average evaluation\n",
    "print(\"Evaluation:\")\n",
    "print(weighted_avg_evaluation(\n",
    "    solver_results.results_probabilities, vqa.problem.get_score,\n",
    "    penalty=0, limit_results=20, normalize=True\n",
    "))\n",
    "print(\"Sort results:\")\n",
    "sorted_results = sort_solver_results(\n",
    "    solver_results.results_probabilities, limit_results=20)\n",
    "\n",
    "# Add evaluation to results\n",
    "results_with_evaluation = add_evaluation_to_results(\n",
    "    sorted_results, vqa.problem.get_score, penalty=0)\n",
    "\n",
    "for result, (probability, evaluation) in results_with_evaluation.items():\n",
    "    print(f\"Result: {result}, \"\n",
    "          f\"\\t Prob: {probability:.5}, \"\n",
    "          f\"\\t Evaluation: {evaluation}\")"
   ]
  },
  {
   "cell_type": "markdown",
   "id": "445bdb20",
   "metadata": {},
   "source": [
    "3_tasks_1_path\n",
    "100 steps\n",
    "\n",
    "\n",
    "Step 1/100: 25.968905774803304\n",
    "Step 2/100: 25.96247836802759\n",
    "Step 3/100: 25.956240732858326\n",
    "Step 4/100: 25.950199566933627\n",
    "Step 5/100: 25.944360737418947\n",
    "Step 6/100: 25.938728969308432\n",
    "Step 7/100: 25.93330744625486\n",
    "Step 8/100: 25.9280973176079\n",
    "Step 9/100: 25.923097132379045\n",
    "Step 10/100: 25.9183022750492\n",
    "Step 11/100: 25.91370455419189\n",
    "Step 12/100: 25.909292150526607\n",
    "Step 13/100: 25.90505009368018\n",
    "Step 14/100: 25.90096127716746\n",
    "Step 15/100: 25.89700781546321\n",
    "Step 16/100: 25.893172414662633\n",
    "Step 17/100: 25.88943943504043\n",
    "Step 18/100: 25.88579546486404\n",
    "Step 19/100: 25.882229421076893\n",
    "Step 20/100: 25.87873232932199\n",
    "Step 21/100: 25.87529696019702\n",
    "Step 22/100: 25.8719174476026\n",
    "Step 23/100: 25.868588951516337\n",
    "Step 24/100: 25.86530738485753\n",
    "Step 25/100: 25.86206920379774\n",
    "...\n",
    "Step 97/100: 25.65343702502367\n",
    "Step 98/100: 25.650518023342087\n",
    "Step 99/100: 25.647601797128527\n",
    "Step 100/100: 25.644688867254033\n",
    "\n",
    "\n",
    "\n",
    "Evaluation:\n",
    "25.641779768292206\n",
    "Sort results:\n",
    "Result: 000001, \t Prob: 0.40823, \t Evaluation: 25.0\n",
    "Result: 001001, \t Prob: 0.28299, \t Evaluation: 26.0\n",
    "Result: 000101, \t Prob: 0.28299, \t Evaluation: 26.0\n",
    "Result: 010101, \t Prob: 0.0034585, \t Evaluation: 28.0\n",
    "Result: 010110, \t Prob: 0.0034585, \t Evaluation: 28.0\n",
    "Result: 011001, \t Prob: 0.0034585, \t Evaluation: 28.0\n",
    "Result: 011010, \t Prob: 0.0034585, \t Evaluation: 28.0\n",
    "Result: 100101, \t Prob: 0.0034585, \t Evaluation: 28.0\n",
    "Result: 100110, \t Prob: 0.0034585, \t Evaluation: 28.0\n",
    "Result: 101001, \t Prob: 0.0034585, \t Evaluation: 28.0\n",
    "Result: 010001, \t Prob: 0.00052923, \t Evaluation: 27.0\n",
    "Result: 010010, \t Prob: 0.00052923, \t Evaluation: 27.0\n",
    "Result: 100001, \t Prob: 0.00052923, \t Evaluation: 27.0\n",
    "Result: 000110, \t Prob: 4.5386e-31, \t Evaluation: 0\n",
    "Result: 000010, \t Prob: 4.0017e-31, \t Evaluation: 0\n",
    "Result: 001011, \t Prob: 2.4083e-31, \t Evaluation: 0\n",
    "Result: 000100, \t Prob: 1.9277e-31, \t Evaluation: 0\n",
    "Result: 001101, \t Prob: 1.798e-31, \t Evaluation: 0\n",
    "Result: 001010, \t Prob: 8.3883e-32, \t Evaluation: 0\n",
    "Result: 001100, \t Prob: 7.2327e-32, \t Evaluation: 0"
   ]
  },
  {
   "cell_type": "code",
   "execution_count": null,
   "id": "cf32337e",
   "metadata": {
    "slideshow": {
     "slide_type": "slide"
    }
   },
   "outputs": [],
   "source": [
    "solver_config = {\n",
    "    \"problem\": {\n",
    "        \"type\": \"workflow_scheduling\",\n",
    "        \"encoding\": \"one-hot\",\n",
    "        \"tasks_file\": \"workflows_data/workflows/srasearch_22_tasks.json\", \n",
    "        \"machines_file\": \"workflows_data/machines/cyfronet.json\",\n",
    "        \"deadline\": 5000,\n",
    "    },\n",
    "    \"solver\": {\n",
    "        \"type\": \"cqm\",\n",
    "        \"time\": 10,\n",
    "    }\n",
    "}\n",
    "\n",
    "cqm = solver_from_config(solver_config)"
   ]
  },
  {
   "cell_type": "code",
   "execution_count": null,
   "id": "b1db06a5",
   "metadata": {
    "slideshow": {
     "slide_type": "slide"
    }
   },
   "outputs": [],
   "source": [
    "result = cqm.solve()"
   ]
  },
  {
   "cell_type": "code",
   "execution_count": null,
   "id": "6a46c235",
   "metadata": {
    "scrolled": true,
    "slideshow": {
     "slide_type": "-"
    }
   },
   "outputs": [
    {
     "data": {
      "text/plain": [
       "{'bowtie2-build_ID0000001': 'AresCpu',\n",
       " 'bowtie2_ID0000021': 'AresGpu',\n",
       " 'merge_ID0000022': 'ZeusCpu',\n",
       " 'bowtie2_ID0000003': 'AresGpu',\n",
       " 'fasterq-dump_ID0000004': 'AresGpu',\n",
       " 'bowtie2_ID0000005': 'PrometeusGpu',\n",
       " 'fasterq-dump_ID0000006': 'AresGpu',\n",
       " 'bowtie2_ID0000007': 'PrometeusGpu',\n",
       " 'fasterq-dump_ID0000008': 'AresGpu',\n",
       " 'bowtie2_ID0000009': 'PrometeusGpu',\n",
       " 'fasterq-dump_ID0000010': 'AresGpu',\n",
       " 'bowtie2_ID0000011': 'PrometeusGpu',\n",
       " 'fasterq-dump_ID0000012': 'AresGpu',\n",
       " 'fasterq-dump_ID0000002': 'AresGpu',\n",
       " 'bowtie2_ID0000013': 'PrometeusGpu',\n",
       " 'fasterq-dump_ID0000014': 'AresGpu',\n",
       " 'bowtie2_ID0000015': 'PrometeusGpu',\n",
       " 'fasterq-dump_ID0000016': 'AresGpu',\n",
       " 'bowtie2_ID0000017': 'AresGpu',\n",
       " 'fasterq-dump_ID0000018': 'AresGpu',\n",
       " 'bowtie2_ID0000019': 'PrometeusGpu',\n",
       " 'fasterq-dump_ID0000020': 'AresGpu'}"
      ]
     },
     "execution_count": 9,
     "metadata": {},
     "output_type": "execute_result"
    }
   ],
   "source": [
    "cqm.problem.decode_solution(result)"
   ]
  }
 ],
 "metadata": {
  "celltoolbar": "Slideshow",
  "kernelspec": {
   "display_name": "Python 3 (ipykernel)",
   "language": "python",
   "name": "python3"
  },
  "language_info": {
   "codemirror_mode": {
    "name": "ipython",
    "version": 3
   },
   "file_extension": ".py",
   "mimetype": "text/x-python",
   "name": "python",
   "nbconvert_exporter": "python",
   "pygments_lexer": "ipython3",
   "version": "3.10.12"
  }
 },
 "nbformat": 4,
 "nbformat_minor": 5
}
