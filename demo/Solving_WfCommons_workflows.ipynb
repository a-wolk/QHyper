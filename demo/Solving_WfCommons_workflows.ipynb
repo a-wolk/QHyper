{
 "cells": [
  {
   "attachments": {},
   "cell_type": "markdown",
   "id": "a7d1d81d",
   "metadata": {
    "slideshow": {
     "slide_type": "slide"
    }
   },
   "source": [
    "## WfCommons to QUBO: Dealing with inequality constraints \n",
    "\n",
    "An inequality constraint:  $$h(x) = \\sum_{i} l_i x_i  - C \\leq 0$$"
   ]
  },
  {
   "cell_type": "markdown",
   "id": "bdbc6ec4",
   "metadata": {
    "slideshow": {
     "slide_type": "fragment"
    }
   },
   "source": [
    "1) Using slacks: \n",
    "\n",
    "$$ \\big(\\sum_{i} l_i x_i + \\sum_{k} 2^k s_k - C \\big)^2 = 0  $$\n"
   ]
  },
  {
   "cell_type": "markdown",
   "id": "a39a7cd1",
   "metadata": {
    "slideshow": {
     "slide_type": "fragment"
    }
   },
   "source": [
    "2. Using the **unbalanced function** (A. Montanez-Barrera et al., 2022) :\n",
    "\n",
    "$$ e^{h(x)} \\approx 1 + h(x) + \\frac{1}{2} h(x)^2 $$\n",
    "\n",
    "$$ \\lambda_1 \\big(\\sum_{i} l_i x_i - C\\big) + \\lambda_2 \\big(\\sum_{i} l_i x_i - C\\big)^2 $$"
   ]
  },
  {
   "cell_type": "markdown",
   "id": "c9cd76b6",
   "metadata": {
    "slideshow": {
     "slide_type": "slide"
    }
   },
   "source": [
    "2. Using the **unbalanced function** (A. Montanez-Barrera et al., 2022) :\n",
    "\n",
    "$$ e^{h(x)} \\approx 1 + h(x) + \\frac{1}{2} h(x)^2 $$\n",
    "\n",
    "$$ \\lambda_1 \\big(\\sum_{i} l_i x_i - C\\big) + \\lambda_2 \\big(\\sum_{i} l_i x_i - C\\big)^2 $$"
   ]
  },
  {
   "cell_type": "code",
   "execution_count": 1,
   "id": "f9d96cf4",
   "metadata": {
    "slideshow": {
     "slide_type": "-"
    }
   },
   "outputs": [],
   "source": [
    "import numpy as np\n",
    "params_config = {\n",
    "    'angles': [[1.9482, 4.2254, 4.1086, 5.7801, 4.1416, 3.8738],   # gammas\n",
    "               [0.9043, 2.5178, 1.7931, 2.4655, 1.3755, 1.0457]],  # betas\n",
    "    'hyper_args': [1, 2, 2], # obj. function, lambda_1, lambda_2\n",
    "}"
   ]
  },
  {
   "cell_type": "code",
   "execution_count": 2,
   "id": "8dbdf752",
   "metadata": {
    "slideshow": {
     "slide_type": "slide"
    }
   },
   "outputs": [],
   "source": [
    "from QHyper.solvers import VQA, solver_from_config\n",
    "\n",
    "solver_config = {\n",
    "    \"problem\": {\n",
    "        \"type\": \"workflow_scheduling\",\n",
    "        \"encoding\": \"binary\",\n",
    "        \"tasks_file\": \"workflows_data/workflows/3_tasks_1_path.json\",\n",
    "        \"machines_file\": \"workflows_data/machines/4_machines.json\",\n",
    "        \"deadline\": 13,\n",
    "    },\n",
    "    \"solver\": {\n",
    "        \"type\": \"vqa\",\n",
    "        \"pqc\": {\n",
    "            \"type\": \"sim_hamiltonian_qaoa\",\n",
    "            \"layers\": 6,\n",
    "            \"optimizer\": \"adam\",\n",
    "            \"optimizer_args\": {\n",
    "                \"stepsize\": 0.00045,\n",
    "                \"steps\": 1,\n",
    "                \"verbose\": True,\n",
    "            },\n",
    "            \"backend\": \"lightning.qubit\",\n",
    "        },\n",
    "        \"params_inits\": params_config\n",
    "    }\n",
    "}\n",
    "\n",
    "vqa = solver_from_config(solver_config)"
   ]
  },
  {
   "cell_type": "code",
   "execution_count": 13,
   "id": "c7ff7fdc",
   "metadata": {},
   "outputs": [
    {
     "data": {
      "text/plain": [
       "[{('x0', 'x1'): 16.0, ('x0',): -2.0, ('x1',): -4.0, ('x2', 'x3'): 8.0, ('x2',): -1.0, ('x3',): -2.0, ('x4', 'x5'): 32.0, ('x4',): -4.0, ('x5',): -8.0, (): 21.0} <= 13]"
      ]
     },
     "execution_count": 13,
     "metadata": {},
     "output_type": "execute_result"
    }
   ],
   "source": [
    "vqa.problem.constraints"
   ]
  },
  {
   "cell_type": "code",
   "execution_count": 3,
   "id": "9a6cd5de",
   "metadata": {},
   "outputs": [],
   "source": [
    "import pennylane as qml\n",
    "\n",
    "dev = qml.device(\"lightning.qubit\", wires=[str(x) for x in vqa.problem.variables] + [f\"a{i}\" for i in range(3 + 2 + len(vqa.problem.variables))])\n",
    "\n",
    "vqa.pqc.dev = dev\n",
    "test_circuit = vqa.pqc.get_expval_circuit(vqa.problem, list(vqa.params_inits['hyper_args']))\n",
    "\n",
    "# cost_operator = vqa.pqc.create_qubo(vqa.problem, list(vqa.params_inits['hyper_args']))\n",
    "# @qml.qnode(dev)\n",
    "# def test_circuit(params):\n",
    "#     vqa.pqc._circuit(vqa.problem, params, cost_operator)\n",
    "#     return qml.state()"
   ]
  },
  {
   "cell_type": "code",
   "execution_count": 4,
   "id": "82096d66",
   "metadata": {},
   "outputs": [
    {
     "name": "stdout",
     "output_type": "stream",
     "text": [
      "SimHamiltonianQAOA 6 lightning.qubit\n",
      "25.102057580503878\n"
     ]
    }
   ],
   "source": [
    "print(test_circuit(vqa.params_inits['angles']))"
   ]
  },
  {
   "cell_type": "code",
   "execution_count": 30,
   "id": "adbb0640",
   "metadata": {},
   "outputs": [
    {
     "name": "stdout",
     "output_type": "stream",
     "text": [
      "000001 0.015625000000060528\n",
      "000101 0.01562500000006007\n",
      "001001 0.0156250000000603\n",
      "010001 0.01562500000005959\n",
      "010010 0.015625000000060528\n",
      "010101 0.015625000000059112\n",
      "010110 0.01562500000006007\n",
      "011001 0.015625000000059355\n",
      "011010 0.015625000000060306\n",
      "100001 0.01562500000006007\n",
      "100101 0.015625000000059612\n",
      "100110 0.01562500000006055\n",
      "101001 0.015625000000059827\n"
     ]
    }
   ],
   "source": [
    "import math\n",
    "from QHyper.util import Operator\n",
    "import pennylane as qml\n",
    "\n",
    "def ctrl_add(k):\n",
    "    def func(r_qbits, control_qbits):\n",
    "        for i in range(len(r_qbits)):\n",
    "            qml.ctrl(qml.RZ, control=control_qbits, control_values=[1]*len(control_qbits))(k * np.pi / (2**i), wires=r_qbits[i])\n",
    "    return func\n",
    "\n",
    "def add(k):\n",
    "    def func(r_qbits):\n",
    "        for i in range(len(r_qbits)):\n",
    "            qml.RZ(k * np.pi / (2**i), wires=r_qbits[i])\n",
    "    return func\n",
    "        \n",
    "def check_constraint(constraint, C):\n",
    "    def func(r_qbits, control_qbits):\n",
    "        qml.QFT(wires=r_qbits)\n",
    "        for vars, coeff in constraint.lhs.items():\n",
    "            if len(vars) == 0:\n",
    "                continue\n",
    "                    \n",
    "            ctrl_add(coeff)(r_qbits, [control_qbits[int(str(x)[1])] for x in vars])\n",
    "        add(C)(r_qbits)\n",
    "        qml.adjoint(qml.QFT)(wires=r_qbits)\n",
    "    return func\n",
    "        \n",
    "def check_constraints(y_qbits, c_flag_qbits, ancilla_qbits):\n",
    "    for constraint,flag_qbit in zip(vqa.problem.constraints, c_flag_qbits):\n",
    "        max_v = sum([coeff if coeff > 0 and len(vars) > 0 else 0 for vars, coeff in constraint.lhs.items()])\n",
    "        min_v = sum([coeff if coeff < 0 and len(vars) > 0 else 0 for vars, coeff in constraint.lhs.items()])\n",
    "        C = sum([coeff if len(vars) == 0 else 0 for vars, coeff in constraint.lhs.items()]) - constraint.rhs\n",
    "        if constraint.operator == Operator.GE:\n",
    "            max_v, min_v = -min_v, -max_v\n",
    "            C = -C\n",
    "\n",
    "        min_v -= 1\n",
    "        if C > 0:\n",
    "            vrange = (min_v, max_v + C)\n",
    "        else:\n",
    "            vrange = (min_v + C, max_v)\n",
    "\n",
    "        if vrange[1] <= 0 or vrange[0] >= 0:\n",
    "            print(\"Constraint is always satisfied\")\n",
    "            continue\n",
    "\n",
    "        neg_len = math.ceil(math.log2(-vrange[0]))\n",
    "        pos_len = math.ceil(math.log2(vrange[1] + 1))\n",
    "        r_len = max(neg_len, pos_len) + 1\n",
    "        r_qbits = ancilla_qbits[:r_len]\n",
    "\n",
    "        check_constraint(constraint, C-1)(r_qbits, y_qbits)\n",
    "        qml.ctrl(qml.PauliX, control=r_qbits[0], control_values=1)(flag_qbit)\n",
    "        qml.adjoint(check_constraint(constraint, C-1))(r_qbits, y_qbits)\n",
    "        \n",
    "def validate(y_qbits, flag_qbit, ancilla_qbits) -> None:\n",
    "    c_flag_qbits = ancilla_qbits[:len(vqa.problem.constraints)]\n",
    "    ancilla_qbits = ancilla_qbits[len(vqa.problem.constraints):]\n",
    "\n",
    "    check_constraints(y_qbits, c_flag_qbits, ancilla_qbits)\n",
    "    qml.ctrl(qml.PauliX, control=c_flag_qbits, control_values=[1]*len(c_flag_qbits))(flag_qbit)\n",
    "    qml.adjoint(check_constraints)(y_qbits, c_flag_qbits, ancilla_qbits)\n",
    "\n",
    "dev = qml.device(\"lightning.qubit\", wires=[str(x) for x in vqa.problem.variables] + [f\"a{i}\" for i in range(10)])\n",
    "\n",
    "@qml.qnode(dev)\n",
    "def test_validate():\n",
    "    for x in vqa.problem.variables:\n",
    "        qml.Hadamard(wires=str(x))\n",
    "    validate([str(x) for x in vqa.problem.variables], \"a0\", [f\"a{i}\" for i in range(1, 10)])\n",
    "    return qml.probs(wires=[str(x) for x in vqa.problem.variables] + [\"a0\"])\n",
    "\n",
    "probs = test_validate()\n",
    "probs = {\n",
    "    format(result, \"b\").zfill(len(vqa.problem.variables)+1): float(prob)\n",
    "    for result, prob in enumerate(probs)\n",
    "}\n",
    "\n",
    "for k,v in probs.items():\n",
    "    if k[6] == \"1\" and abs(v) > 1e-15:\n",
    "        print(k[:6], v)"
   ]
  },
  {
   "cell_type": "code",
   "execution_count": null,
   "id": "39d54fdc",
   "metadata": {},
   "outputs": [
    {
     "name": "stdout",
     "output_type": "stream",
     "text": [
      "010010 27\n",
      "010110 28\n",
      "011001 28\n",
      "011010 28\n",
      "100000 25\n",
      "100001 27\n",
      "100010 27\n",
      "100100 26\n",
      "100101 28\n",
      "100110 28\n",
      "101000 26\n",
      "101001 28\n",
      "101010 28\n"
     ]
    }
   ],
   "source": [
    "from QHyper.util import Operator\n",
    "\n",
    "variables_n = len(vqa.problem.variables)\n",
    "#x = 0b100000\n",
    "for ox in range(2**variables_n):\n",
    "    x = list(map(int, bin(ox)[2:].zfill(variables_n)))[::-1]\n",
    "    values = {str(var): x[i] for i,var in enumerate(vqa.problem.variables)}\n",
    "\n",
    "    valid = True\n",
    "    for constraint in vqa.problem.constraints:\n",
    "        res = 0\n",
    "        for vars, coeff in constraint.lhs.items():\n",
    "            res += coeff * np.prod([values[var] for var in vars])\n",
    "\n",
    "        if constraint.operator == Operator.LE:\n",
    "            valid = res <= constraint.rhs\n",
    "        elif constraint.operator == Operator.GE:\n",
    "            valid = res >= constraint.rhs\n",
    "        \n",
    "        if not valid:\n",
    "            break\n",
    "    \n",
    "    if not valid:\n",
    "        continue\n",
    "\n",
    "    res = -8*values['x0']*values['x1'] + 2*values['x0'] + 2*values['x1'] - 4*values['x2']*values['x3'] + values['x2'] + values['x3'] - 16*values['x4']*values['x5'] + 4*values['x4'] + 4*values['x5'] + 21\n",
    "    print(bin(ox)[2:].zfill(variables_n), res)\n",
    "\n",
    "#vqa.problem.objective_function.as_polynomial()\n",
    "\n",
    "# for constraint in vqa.problem.constraints:\n",
    "#     res = 0\n",
    "#     for vars, coeff in constraint.lhs.items():\n",
    "#         res += coeff * np.prod([values[var] for var in vars])\n",
    "\n",
    "#     if constraint.operator == Operator.LE:\n",
    "#         print(res, \"<=\", constraint.rhs, \":\", res <= constraint.rhs)\n",
    "#     elif constraint.operator == Operator.GE:\n",
    "#         print(res, \">=\", constraint.rhs, \":\", res >= constraint.rhs)"
   ]
  },
  {
   "cell_type": "code",
   "execution_count": null,
   "id": "4db373e2",
   "metadata": {},
   "outputs": [],
   "source": [
    "import pennylane as qml\n",
    "import pennylane.numpy as np\n",
    "\n",
    "qml.grad(vqa.pqc.get_expval_circuit(vqa.problem, params_config['hyper_args']))(np.array(params_config['angles']))"
   ]
  },
  {
   "cell_type": "code",
   "execution_count": null,
   "id": "d0ebc0e7",
   "metadata": {},
   "outputs": [],
   "source": [
    "vqa.pqc.get_expval_circuit(vqa.problem, params_config['hyper_args'])(np.array(params_config['angles']))"
   ]
  },
  {
   "cell_type": "code",
   "execution_count": null,
   "id": "4dd41e41",
   "metadata": {},
   "outputs": [],
   "source": [
    "opt = qml.AdamOptimizer()\n",
    "theta_new = opt.step(vqa.pqc.get_expval_circuit(vqa.problem, params_config['hyper_args']), np.array(params_config['angles']))\n",
    "theta_new"
   ]
  },
  {
   "cell_type": "code",
   "execution_count": 4,
   "id": "d5baf644",
   "metadata": {
    "slideshow": {
     "slide_type": "slide"
    }
   },
   "outputs": [
    {
     "name": "stdout",
     "output_type": "stream",
     "text": [
      "SimHamiltonianQAOA 6 lightning.qubit\n",
      "Step 1/1: 27.463085002458072\n",
      "SimHamiltonianQAOA 6 lightning.qubit\n"
     ]
    }
   ],
   "source": [
    "solver_results = vqa.solve()"
   ]
  },
  {
   "cell_type": "code",
   "execution_count": null,
   "id": "554606e3",
   "metadata": {
    "slideshow": {
     "slide_type": "slide"
    }
   },
   "outputs": [
    {
     "data": {
      "text/plain": [
       "<Axes: xlabel='index', ylabel='value'>"
      ]
     },
     "execution_count": 8,
     "metadata": {},
     "output_type": "execute_result"
    },
    {
     "data": {
      "image/png": "[encoded data removed]",
      "text/plain": [
       "<Figure size 640x480 with 1 Axes>"
      ]
     },
     "metadata": {},
     "output_type": "display_data"
    }
   ],
   "source": [
    "import pandas as pd\n",
    "\n",
    "pd.DataFrame(solver_results.history[0]).reset_index().plot(x='index',y='value', kind='scatter')"
   ]
  },
  {
   "cell_type": "code",
   "execution_count": 11,
   "id": "dc368439",
   "metadata": {
    "slideshow": {
     "slide_type": "slide"
    }
   },
   "outputs": [
    {
     "name": "stdout",
     "output_type": "stream",
     "text": [
      "Best params: {'angles': tensor([[1.9482    , 4.22540002, 4.10860029, 5.7800999 , 4.1415997 ,\n",
      "         3.87379895],\n",
      "        [0.9043    , 2.5178    , 1.7931    , 2.4655    , 1.3755    ,\n",
      "         1.0457    ]], requires_grad=True), 'hyper_args': tensor([1, 2, 2], requires_grad=True)}\n"
     ]
    }
   ],
   "source": [
    "print(f\"Best params: {solver_results.params}\")"
   ]
  },
  {
   "cell_type": "code",
   "execution_count": 5,
   "id": "f4710450",
   "metadata": {
    "slideshow": {
     "slide_type": "slide"
    }
   },
   "outputs": [
    {
     "name": "stdout",
     "output_type": "stream",
     "text": [
      "Evaluation:\n",
      "27.4593237156662\n",
      "Sort results:\n",
      "Result: 011001, \t Prob: 0.24991, \t Evaluation: 28.0\n",
      "Result: 011010, \t Prob: 0.14619, \t Evaluation: 28.0\n",
      "Result: 001001, \t Prob: 0.11641, \t Evaluation: 26.0\n",
      "Result: 100110, \t Prob: 0.076923, \t Evaluation: 28.0\n",
      "Result: 010001, \t Prob: 0.073999, \t Evaluation: 27.0\n",
      "Result: 101001, \t Prob: 0.072245, \t Evaluation: 28.0\n",
      "Result: 010101, \t Prob: 0.070593, \t Evaluation: 28.0\n",
      "Result: 010010, \t Prob: 0.043287, \t Evaluation: 27.0\n",
      "Result: 010110, \t Prob: 0.041294, \t Evaluation: 28.0\n",
      "Result: 000001, \t Prob: 0.03447, \t Evaluation: 25.0\n",
      "Result: 000101, \t Prob: 0.032883, \t Evaluation: 26.0\n",
      "Result: 100001, \t Prob: 0.021392, \t Evaluation: 27.0\n",
      "Result: 100101, \t Prob: 0.020407, \t Evaluation: 28.0\n",
      "Result: 000110, \t Prob: 4.4658e-13, \t Evaluation: 0\n",
      "Result: 110101, \t Prob: 3.9316e-13, \t Evaluation: 0\n",
      "Result: 110001, \t Prob: 3.1987e-13, \t Evaluation: 0\n",
      "Result: 100111, \t Prob: 2.7091e-13, \t Evaluation: 0\n",
      "Result: 000010, \t Prob: 2.5406e-13, \t Evaluation: 0\n",
      "Result: 001010, \t Prob: 2.3658e-13, \t Evaluation: 0\n",
      "Result: 011000, \t Prob: 2.2798e-13, \t Evaluation: 0\n"
     ]
    }
   ],
   "source": [
    "from QHyper.util import (\n",
    "    weighted_avg_evaluation, sort_solver_results, add_evaluation_to_results)\n",
    "\n",
    "# Evaluate results with weighted average evaluation\n",
    "print(\"Evaluation:\")\n",
    "print(weighted_avg_evaluation(\n",
    "    solver_results.results_probabilities, vqa.problem.get_score,\n",
    "    penalty=0, limit_results=20, normalize=True\n",
    "))\n",
    "print(\"Sort results:\")\n",
    "sorted_results = sort_solver_results(\n",
    "    solver_results.results_probabilities, limit_results=20)\n",
    "\n",
    "# Add evaluation to results\n",
    "results_with_evaluation = add_evaluation_to_results(\n",
    "    sorted_results, vqa.problem.get_score, penalty=0)\n",
    "\n",
    "for result, (probability, evaluation) in results_with_evaluation.items():\n",
    "    print(f\"Result: {result}, \"\n",
    "          f\"\\t Prob: {probability:.5}, \"\n",
    "          f\"\\t Evaluation: {evaluation}\")"
   ]
  },
  {
   "cell_type": "markdown",
   "id": "445bdb20",
   "metadata": {},
   "source": [
    "3_tasks_1_path\n",
    "100 steps\n",
    "\n",
    "\n",
    "Step 1/100: 25.968905774803304\n",
    "Step 2/100: 25.96247836802759\n",
    "Step 3/100: 25.956240732858326\n",
    "Step 4/100: 25.950199566933627\n",
    "Step 5/100: 25.944360737418947\n",
    "Step 6/100: 25.938728969308432\n",
    "Step 7/100: 25.93330744625486\n",
    "Step 8/100: 25.9280973176079\n",
    "Step 9/100: 25.923097132379045\n",
    "Step 10/100: 25.9183022750492\n",
    "Step 11/100: 25.91370455419189\n",
    "Step 12/100: 25.909292150526607\n",
    "Step 13/100: 25.90505009368018\n",
    "Step 14/100: 25.90096127716746\n",
    "Step 15/100: 25.89700781546321\n",
    "Step 16/100: 25.893172414662633\n",
    "Step 17/100: 25.88943943504043\n",
    "Step 18/100: 25.88579546486404\n",
    "Step 19/100: 25.882229421076893\n",
    "Step 20/100: 25.87873232932199\n",
    "Step 21/100: 25.87529696019702\n",
    "Step 22/100: 25.8719174476026\n",
    "Step 23/100: 25.868588951516337\n",
    "Step 24/100: 25.86530738485753\n",
    "Step 25/100: 25.86206920379774\n",
    "...\n",
    "Step 97/100: 25.65343702502367\n",
    "Step 98/100: 25.650518023342087\n",
    "Step 99/100: 25.647601797128527\n",
    "Step 100/100: 25.644688867254033\n",
    "\n",
    "\n",
    "\n",
    "Evaluation:\n",
    "25.641779768292206\n",
    "Sort results:\n",
    "Result: 000001, \t Prob: 0.40823, \t Evaluation: 25.0\n",
    "Result: 001001, \t Prob: 0.28299, \t Evaluation: 26.0\n",
    "Result: 000101, \t Prob: 0.28299, \t Evaluation: 26.0\n",
    "Result: 010101, \t Prob: 0.0034585, \t Evaluation: 28.0\n",
    "Result: 010110, \t Prob: 0.0034585, \t Evaluation: 28.0\n",
    "Result: 011001, \t Prob: 0.0034585, \t Evaluation: 28.0\n",
    "Result: 011010, \t Prob: 0.0034585, \t Evaluation: 28.0\n",
    "Result: 100101, \t Prob: 0.0034585, \t Evaluation: 28.0\n",
    "Result: 100110, \t Prob: 0.0034585, \t Evaluation: 28.0\n",
    "Result: 101001, \t Prob: 0.0034585, \t Evaluation: 28.0\n",
    "Result: 010001, \t Prob: 0.00052923, \t Evaluation: 27.0\n",
    "Result: 010010, \t Prob: 0.00052923, \t Evaluation: 27.0\n",
    "Result: 100001, \t Prob: 0.00052923, \t Evaluation: 27.0\n",
    "Result: 000110, \t Prob: 4.5386e-31, \t Evaluation: 0\n",
    "Result: 000010, \t Prob: 4.0017e-31, \t Evaluation: 0\n",
    "Result: 001011, \t Prob: 2.4083e-31, \t Evaluation: 0\n",
    "Result: 000100, \t Prob: 1.9277e-31, \t Evaluation: 0\n",
    "Result: 001101, \t Prob: 1.798e-31, \t Evaluation: 0\n",
    "Result: 001010, \t Prob: 8.3883e-32, \t Evaluation: 0\n",
    "Result: 001100, \t Prob: 7.2327e-32, \t Evaluation: 0"
   ]
  },
  {
   "cell_type": "code",
   "execution_count": null,
   "id": "cf32337e",
   "metadata": {
    "slideshow": {
     "slide_type": "slide"
    }
   },
   "outputs": [],
   "source": [
    "solver_config = {\n",
    "    \"problem\": {\n",
    "        \"type\": \"workflow_scheduling\",\n",
    "        \"encoding\": \"one-hot\",\n",
    "        \"tasks_file\": \"workflows_data/workflows/srasearch_22_tasks.json\", \n",
    "        \"machines_file\": \"workflows_data/machines/cyfronet.json\",\n",
    "        \"deadline\": 5000,\n",
    "    },\n",
    "    \"solver\": {\n",
    "        \"type\": \"cqm\",\n",
    "        \"time\": 10,\n",
    "    }\n",
    "}\n",
    "\n",
    "cqm = solver_from_config(solver_config)"
   ]
  },
  {
   "cell_type": "code",
   "execution_count": null,
   "id": "b1db06a5",
   "metadata": {
    "slideshow": {
     "slide_type": "slide"
    }
   },
   "outputs": [],
   "source": [
    "result = cqm.solve()"
   ]
  },
  {
   "cell_type": "code",
   "execution_count": null,
   "id": "6a46c235",
   "metadata": {
    "scrolled": true,
    "slideshow": {
     "slide_type": "-"
    }
   },
   "outputs": [
    {
     "data": {
      "text/plain": [
       "{'bowtie2-build_ID0000001': 'AresCpu',\n",
       " 'bowtie2_ID0000021': 'AresGpu',\n",
       " 'merge_ID0000022': 'ZeusCpu',\n",
       " 'bowtie2_ID0000003': 'AresGpu',\n",
       " 'fasterq-dump_ID0000004': 'AresGpu',\n",
       " 'bowtie2_ID0000005': 'PrometeusGpu',\n",
       " 'fasterq-dump_ID0000006': 'AresGpu',\n",
       " 'bowtie2_ID0000007': 'PrometeusGpu',\n",
       " 'fasterq-dump_ID0000008': 'AresGpu',\n",
       " 'bowtie2_ID0000009': 'PrometeusGpu',\n",
       " 'fasterq-dump_ID0000010': 'AresGpu',\n",
       " 'bowtie2_ID0000011': 'PrometeusGpu',\n",
       " 'fasterq-dump_ID0000012': 'AresGpu',\n",
       " 'fasterq-dump_ID0000002': 'AresGpu',\n",
       " 'bowtie2_ID0000013': 'PrometeusGpu',\n",
       " 'fasterq-dump_ID0000014': 'AresGpu',\n",
       " 'bowtie2_ID0000015': 'PrometeusGpu',\n",
       " 'fasterq-dump_ID0000016': 'AresGpu',\n",
       " 'bowtie2_ID0000017': 'AresGpu',\n",
       " 'fasterq-dump_ID0000018': 'AresGpu',\n",
       " 'bowtie2_ID0000019': 'PrometeusGpu',\n",
       " 'fasterq-dump_ID0000020': 'AresGpu'}"
      ]
     },
     "execution_count": 9,
     "metadata": {},
     "output_type": "execute_result"
    }
   ],
   "source": [
    "cqm.problem.decode_solution(result)"
   ]
  }
 ],
 "metadata": {
  "celltoolbar": "Slideshow",
  "kernelspec": {
   "display_name": "Python 3 (ipykernel)",
   "language": "python",
   "name": "python3"
  },
  "language_info": {
   "codemirror_mode": {
    "name": "ipython",
    "version": 3
   },
   "file_extension": ".py",
   "mimetype": "text/x-python",
   "name": "python",
   "nbconvert_exporter": "python",
   "pygments_lexer": "ipython3",
   "version": "3.10.12"
  }
 },
 "nbformat": 4,
 "nbformat_minor": 5
}
