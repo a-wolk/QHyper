{
 "cells": [
  {
   "cell_type": "code",
   "execution_count": null,
   "metadata": {},
   "outputs": [],
   "source": [
    "import pennylane as qml\n",
    "import numpy as np\n",
    "\n",
    "from QHyper.optimizers.CEM import CEM\n",
    "from QHyper.optimizers.random import Random\n",
    "from QHyper.optimizers.qml_gradient_descent import QmlGradientDescent\n",
    "from QHyper.solvers.QAOA.core import QAOA"
   ]
  },
  {
   "cell_type": "markdown",
   "metadata": {},
   "source": [
    "## TSP problem"
   ]
  },
  {
   "cell_type": "code",
   "execution_count": null,
   "metadata": {},
   "outputs": [],
   "source": [
    "from QHyper.problems.TSP import TSPProblem"
   ]
  },
  {
   "cell_type": "code",
   "execution_count": null,
   "metadata": {},
   "outputs": [],
   "source": [
    "tsp = TSPProblem(\n",
    "    number_of_cities=3,\n",
    ")"
   ]
  },
  {
   "cell_type": "code",
   "execution_count": null,
   "metadata": {},
   "outputs": [],
   "source": [
    "solver = QAOA(\n",
    "    problem=tsp,\n",
    "    platform=\"pennylane\",\n",
    "    optimizer=QmlGradientDescent(200, qml.AdamOptimizer(stepsize=0.05)),\n",
    "    layers=5,\n",
    "    angles=[[0.5]*5, [0.5]*5],\n",
    "    # mixer: str=,\n",
    "    weights=[1, 1, 1],\n",
    "    hyperoptimizer=CEM(\n",
    "        epochs=5,\n",
    "        samples_per_epoch=100,\n",
    "        elite_frac=0.1\n",
    "    ),\n",
    "    # backend=\n",
    ")"
   ]
  },
  {
   "cell_type": "code",
   "execution_count": null,
   "metadata": {},
   "outputs": [],
   "source": [
    "value, params, weights = solver.solve()"
   ]
  },
  {
   "cell_type": "code",
   "execution_count": null,
   "metadata": {},
   "outputs": [],
   "source": [
    "probs = solver.get_probs_func(weights)(params)"
   ]
  },
  {
   "cell_type": "code",
   "execution_count": null,
   "metadata": {},
   "outputs": [],
   "source": [
    "solver.check_results(probs)"
   ]
  },
  {
   "cell_type": "code",
   "execution_count": null,
   "metadata": {},
   "outputs": [],
   "source": [
    "%load_ext autoreload\n",
    "%autoreload 2"
   ]
  },
  {
   "cell_type": "code",
   "execution_count": null,
   "metadata": {},
   "outputs": [],
   "source": [
    "solver.print_results(probs)"
   ]
  },
  {
   "cell_type": "markdown",
   "metadata": {},
   "source": [
    "## Knapsack problem"
   ]
  },
  {
   "cell_type": "code",
   "execution_count": null,
   "metadata": {},
   "outputs": [],
   "source": [
    "from QHyper.problems.Knapsack import Knapsack, KnapsackProblem"
   ]
  },
  {
   "cell_type": "code",
   "execution_count": null,
   "metadata": {},
   "outputs": [],
   "source": [
    "knapsack = Knapsack(max_weight=2)\n",
    "knapsack.set_knapsack([(2, 2), (3, 1)])\n",
    "knapsack_qaoa = KnapsackProblem(knapsack)"
   ]
  },
  {
   "cell_type": "code",
   "execution_count": null,
   "metadata": {},
   "outputs": [],
   "source": [
    "solver = QAOA(\n",
    "    problem=knapsack_qaoa,\n",
    "    platform=\"pennylane\",\n",
    "    optimizer=QmlGradientDescent(200, qml.AdamOptimizer(stepsize=0.05)),\n",
    "    layers=5,\n",
    "    angles=[[0.5]*5, [0.5]*5],\n",
    "    # mixer: str=,\n",
    "    weights=[2.72616422, 4.59436366, 4.46463072],\n",
    "    # hyperoptimizer=CEM(),\n",
    "    # backend=\n",
    ")\n",
    "value, params, weights = solver.solve()"
   ]
  },
  {
   "cell_type": "code",
   "execution_count": null,
   "metadata": {},
   "outputs": [],
   "source": [
    "probs = solver.get_probs_func(weights)(params)"
   ]
  },
  {
   "cell_type": "code",
   "execution_count": null,
   "metadata": {},
   "outputs": [],
   "source": [
    "solver.check_results(probs)"
   ]
  },
  {
   "cell_type": "code",
   "execution_count": null,
   "metadata": {},
   "outputs": [],
   "source": [
    "solver.print_results(probs)"
   ]
  },
  {
   "cell_type": "code",
   "execution_count": null,
   "metadata": {},
   "outputs": [],
   "source": []
  }
 ],
 "metadata": {
  "kernelspec": {
   "display_name": "Python 3.10.6 ('venv': venv)",
   "language": "python",
   "name": "python3"
  },
  "language_info": {
   "codemirror_mode": {
    "name": "ipython",
    "version": 3
   },
   "file_extension": ".py",
   "mimetype": "text/x-python",
   "name": "python",
   "nbconvert_exporter": "python",
   "pygments_lexer": "ipython3",
   "version": "3.10.6"
  },
  "orig_nbformat": 4,
  "vscode": {
   "interpreter": {
    "hash": "05e9dd3cfb5e1b6be66f01f4e18397cb597c76d399d7b223feebc56a63ae2978"
   }
  }
 },
 "nbformat": 4,
 "nbformat_minor": 2
}
